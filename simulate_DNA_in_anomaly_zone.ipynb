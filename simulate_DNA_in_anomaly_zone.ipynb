{
 "cells": [
  {
   "cell_type": "markdown",
   "metadata": {},
   "source": [
    "## Sliding windows and missing data RAD-seq"
   ]
  },
  {
   "cell_type": "code",
   "execution_count": 1,
   "metadata": {},
   "outputs": [],
   "source": [
    "# conda install ipcoal ipyrad -c conda-forge -c bioconda "
   ]
  },
  {
   "cell_type": "code",
   "execution_count": 1,
   "metadata": {},
   "outputs": [],
   "source": [
    "import numpy as np\n",
    "import pandas as pd\n",
    "import toytree\n",
    "import toyplot, toyplot.svg\n",
    "import ipcoal\n",
    "import ipyrad.analysis as ipa"
   ]
  },
  {
   "cell_type": "markdown",
   "metadata": {},
   "source": [
    "### Make working directory"
   ]
  },
  {
   "cell_type": "code",
   "execution_count": 2,
   "metadata": {},
   "outputs": [],
   "source": [
    "! mkdir -p ./sandra"
   ]
  },
  {
   "cell_type": "markdown",
   "metadata": {},
   "source": [
    "### Treestyle"
   ]
  },
  {
   "cell_type": "code",
   "execution_count": 2,
   "metadata": {},
   "outputs": [],
   "source": [
    "#set the tree style\n",
    "ts = {\n",
    "    'ts': 'p', \n",
    "    'layout': 'r',\n",
    "    'height': 300,\n",
    "    'node_sizes': 7,\n",
    "    'node_style': {\"stroke\": \"black\", 'stroke-width': 2},\n",
    "    'node_labels': False,\n",
    "    'edge_type': 'c',\n",
    "    'tip_labels_align': True,\n",
    "    'tip_labels_style': {\"font-size\":\"15px\"},\n",
    "    'scalebar': True,\n",
    "    'tip_labels_colors': [\"maroon\",\"red\",\"orange\",\"green\",\"darkturquoise\",\"dodgerblue\",\"mediumblue\",\"darkviolet\"],\n",
    "}"
   ]
  },
  {
   "cell_type": "markdown",
   "metadata": {},
   "source": [
    "### Starting simulation scenario with deep divergences and some short internodes"
   ]
  },
  {
   "cell_type": "code",
   "execution_count": 4,
   "metadata": {},
   "outputs": [
    {
     "data": {
      "image/png": "[encoded data removed]",
      "text/html": [
       "<div class=\"toyplot\" id=\"tc817e766ee0d407f901ed72081f60445\" style=\"text-align:center\"><svg class=\"toyplot-canvas-Canvas\" height=\"300.0px\" id=\"t25f0fb7a9a58461f921425f1eda5c890\" preserveAspectRatio=\"xMidYMid meet\" style=\"background-color:transparent;border-color:#292724;border-style:none;border-width:1.0;fill:rgb(16.1%,15.3%,14.1%);fill-opacity:1.0;font-family:Helvetica;font-size:12px;opacity:1.0;stroke:rgb(16.1%,15.3%,14.1%);stroke-opacity:1.0;stroke-width:1.0\" viewBox=\"0 0 260.0 300.0\" width=\"260.0px\" xmlns=\"http://www.w3.org/2000/svg\" xmlns:toyplot=\"http://www.sandia.gov/toyplot\" xmlns:xlink=\"http://www.w3.org/1999/xlink\"><g class=\"toyplot-coordinates-Cartesian\" id=\"tb2abbc9d29d64f6a965420220b9562cc\"><clipPath id=\"td7227ec3c7cd4bf8a562225b81dd7b03\"><rect height=\"240.0\" width=\"200.0\" x=\"30.0\" y=\"30.0\"></rect></clipPath><g clip-path=\"url(#td7227ec3c7cd4bf8a562225b81dd7b03)\"><g class=\"toytree-mark-Toytree\" id=\"te7e91b495f0a42bab9dadd10ffc3dc0b\"><g class=\"toytree-Edges\" style=\"fill:none;stroke:rgb(14.9%,14.9%,14.9%);stroke-linecap:round;stroke-opacity:1;stroke-width:2\"><path d=\"M 55.9 87.7 L 57.4 112.3\" id=\"14,13\"></path><path d=\"M 57.4 112.3 L 89.1 136.8\" id=\"13,12\"></path><path d=\"M 89.1 136.8 L 132.7 160.9\" id=\"12,11\"></path><path d=\"M 132.7 160.9 L 134.5 184.2\" id=\"11,10\"></path><path d=\"M 134.5 184.2 L 136.9 205.9\" id=\"10,9\"></path><path d=\"M 136.9 205.9 L 159.7 224.5\" id=\"9,8\"></path><path d=\"M 55.9 87.7 L 191.2 63.0\" id=\"14,7\"></path><path d=\"M 57.4 112.3 L 191.2 87.9\" id=\"13,6\"></path><path d=\"M 89.1 136.8 L 191.2 112.7\" id=\"12,5\"></path><path d=\"M 132.7 160.9 L 191.2 137.6\" id=\"11,4\"></path><path d=\"M 134.5 184.2 L 191.2 162.4\" id=\"10,3\"></path><path d=\"M 136.9 205.9 L 191.2 187.3\" id=\"9,2\"></path><path d=\"M 159.7 224.5 L 191.2 212.1\" id=\"8,1\"></path><path d=\"M 159.7 224.5 L 191.2 237.0\" id=\"8,0\"></path></g><g class=\"toytree-AlignEdges\" style=\"stroke:rgb(66.3%,66.3%,66.3%);stroke-dasharray:2, 4;stroke-linecap:round;stroke-opacity:1.0;stroke-width:2\"><path d=\"M 191.2 237.0 L 191.2 237.0\"></path><path d=\"M 191.2 212.1 L 191.2 212.1\"></path><path d=\"M 191.2 187.3 L 191.2 187.3\"></path><path d=\"M 191.2 162.4 L 191.2 162.4\"></path><path d=\"M 191.2 137.6 L 191.2 137.6\"></path><path d=\"M 191.2 112.7 L 191.2 112.7\"></path><path d=\"M 191.2 87.9 L 191.2 87.9\"></path><path d=\"M 191.2 63.0 L 191.2 63.0\"></path></g><g class=\"toytree-Nodes\" style=\"fill:rgb(40%,76.1%,64.7%);fill-opacity:1.0;stroke:rgb(0%,0%,0%);stroke-opacity:1.0;stroke-width:2\"><g id=\"node-0\" transform=\"translate(191.208,236.957)\"><circle r=\"3.5\"></circle></g><g id=\"node-1\" transform=\"translate(191.208,212.112)\"><circle r=\"3.5\"></circle></g><g id=\"node-2\" transform=\"translate(191.208,187.267)\"><circle r=\"3.5\"></circle></g><g id=\"node-3\" transform=\"translate(191.208,162.422)\"><circle r=\"3.5\"></circle></g><g id=\"node-4\" transform=\"translate(191.208,137.578)\"><circle r=\"3.5\"></circle></g><g id=\"node-5\" transform=\"translate(191.208,112.733)\"><circle r=\"3.5\"></circle></g><g id=\"node-6\" transform=\"translate(191.208,87.888)\"><circle r=\"3.5\"></circle></g><g id=\"node-7\" transform=\"translate(191.208,63.043)\"><circle r=\"3.5\"></circle></g><g id=\"node-8\" transform=\"translate(159.706,224.534)\"><circle r=\"3.5\"></circle></g><g id=\"node-9\" transform=\"translate(136.891,205.901)\"><circle r=\"3.5\"></circle></g><g id=\"node-10\" transform=\"translate(134.460,184.161)\"><circle r=\"3.5\"></circle></g><g id=\"node-11\" transform=\"translate(132.706,160.870)\"><circle r=\"3.5\"></circle></g><g id=\"node-12\" transform=\"translate(89.052,136.801)\"><circle r=\"3.5\"></circle></g><g id=\"node-13\" transform=\"translate(57.396,112.345)\"><circle r=\"3.5\"></circle></g><g id=\"node-14\" transform=\"translate(55.919,87.694)\"><circle r=\"3.5\"></circle></g></g><g class=\"toytree-TipLabels\" style=\"fill:rgb(14.9%,14.9%,14.9%);fill-opacity:1.0;font-family:helvetica;font-size:15px;font-weight:normal;stroke:none;white-space:pre\"><g transform=\"translate(191.21,236.96)rotate(0)\"><text style=\"fill:rgb(50.2%,0%,0%);fill-opacity:1.0\" x=\"15.00\" y=\"3.83\">r0</text></g><g transform=\"translate(191.21,212.11)rotate(0)\"><text style=\"fill:rgb(100%,0%,0%);fill-opacity:1.0\" x=\"15.00\" y=\"3.83\">r1</text></g><g transform=\"translate(191.21,187.27)rotate(0)\"><text style=\"fill:rgb(100%,64.7%,0%);fill-opacity:1.0\" x=\"15.00\" y=\"3.83\">r2</text></g><g transform=\"translate(191.21,162.42)rotate(0)\"><text style=\"fill:rgb(0%,50.2%,0%);fill-opacity:1.0\" x=\"15.00\" y=\"3.83\">r3</text></g><g transform=\"translate(191.21,137.58)rotate(0)\"><text style=\"fill:rgb(0%,80.8%,82%);fill-opacity:1.0\" x=\"15.00\" y=\"3.83\">r4</text></g><g transform=\"translate(191.21,112.73)rotate(0)\"><text style=\"fill:rgb(11.8%,56.5%,100%);fill-opacity:1.0\" x=\"15.00\" y=\"3.83\">r5</text></g><g transform=\"translate(191.21,87.89)rotate(0)\"><text style=\"fill:rgb(0%,0%,80.4%);fill-opacity:1.0\" x=\"15.00\" y=\"3.83\">r6</text></g><g transform=\"translate(191.21,63.04)rotate(0)\"><text style=\"fill:rgb(58%,0%,82.7%);fill-opacity:1.0\" x=\"15.00\" y=\"3.83\">r7</text></g></g></g></g><g class=\"toyplot-coordinates-Axis\" id=\"t5673f61898be41b5bbc07b68fc55082a\" transform=\"translate(50.0,250.0)translate(0,20.0)\"><line style=\"\" x1=\"5.91887964063945\" x2=\"141.20755714096975\" y1=\"0\" y2=\"0\"></line><g><line style=\"\" x1=\"141.20755714096975\" x2=\"141.20755714096975\" y1=\"0\" y2=\"-5\"></line><line style=\"\" x1=\"73.5632183908046\" x2=\"73.5632183908046\" y1=\"0\" y2=\"-5\"></line><line style=\"\" x1=\"5.91887964063945\" x2=\"5.91887964063945\" y1=\"0\" y2=\"-5\"></line></g><g><g transform=\"translate(141.20755714096975,6)\"><text style=\"fill:rgb(16.1%,15.3%,14.1%);fill-opacity:1.0;font-family:helvetica;font-size:10.0px;font-weight:normal;stroke:none;vertical-align:baseline;white-space:pre\" x=\"-2.78\" y=\"8.555\">0</text></g><g transform=\"translate(73.5632183908046,6)\"><text style=\"fill:rgb(16.1%,15.3%,14.1%);fill-opacity:1.0;font-family:helvetica;font-size:10.0px;font-weight:normal;stroke:none;vertical-align:baseline;white-space:pre\" x=\"-19.459999999999997\" y=\"8.555\">4000000</text></g><g transform=\"translate(5.91887964063945,6)\"><text style=\"fill:rgb(16.1%,15.3%,14.1%);fill-opacity:1.0;font-family:helvetica;font-size:10.0px;font-weight:normal;stroke:none;vertical-align:baseline;white-space:pre\" x=\"-19.459999999999997\" y=\"8.555\">8000000</text></g></g><g class=\"toyplot-coordinates-Axis-coordinates\" style=\"visibility:hidden\" transform=\"\"><line style=\"stroke:rgb(43.9%,50.2%,56.5%);stroke-opacity:1.0;stroke-width:1.0\" x1=\"0\" x2=\"0\" y1=\"-3.0\" y2=\"4.5\"></line><text style=\"alignment-baseline:alphabetic;fill:rgb(43.9%,50.2%,56.5%);fill-opacity:1.0;font-size:10px;font-weight:normal;stroke:none;text-anchor:middle\" x=\"0\" y=\"-6\"></text></g></g></g></svg><div class=\"toyplot-behavior\"><script>(function()\n",
       "{\n",
       "var modules={};\n",
       "modules[\"toyplot/canvas/id\"] = \"t25f0fb7a9a58461f921425f1eda5c890\";\n",
       "modules[\"toyplot/canvas\"] = (function(canvas_id)\n",
       "    {\n",
       "        return document.querySelector(\"#\" + canvas_id);\n",
       "    })(modules[\"toyplot/canvas/id\"]);\n",
       "modules[\"toyplot.coordinates.Axis\"] = (\n",
       "        function(canvas)\n",
       "        {\n",
       "            function sign(x)\n",
       "            {\n",
       "                return x < 0 ? -1 : x > 0 ? 1 : 0;\n",
       "            }\n",
       "\n",
       "            function mix(a, b, amount)\n",
       "            {\n",
       "                return ((1.0 - amount) * a) + (amount * b);\n",
       "            }\n",
       "\n",
       "            function log(x, base)\n",
       "            {\n",
       "                return Math.log(Math.abs(x)) / Math.log(base);\n",
       "            }\n",
       "\n",
       "            function in_range(a, x, b)\n",
       "            {\n",
       "                var left = Math.min(a, b);\n",
       "                var right = Math.max(a, b);\n",
       "                return left <= x && x <= right;\n",
       "            }\n",
       "\n",
       "            function inside(range, projection)\n",
       "            {\n",
       "                for(var i = 0; i != projection.length; ++i)\n",
       "                {\n",
       "                    var segment = projection[i];\n",
       "                    if(in_range(segment.range.min, range, segment.range.max))\n",
       "                        return true;\n",
       "                }\n",
       "                return false;\n",
       "            }\n",
       "\n",
       "            function to_domain(range, projection)\n",
       "            {\n",
       "                for(var i = 0; i != projection.length; ++i)\n",
       "                {\n",
       "                    var segment = projection[i];\n",
       "                    if(in_range(segment.range.bounds.min, range, segment.range.bounds.max))\n",
       "                    {\n",
       "                        if(segment.scale == \"linear\")\n",
       "                        {\n",
       "                            var amount = (range - segment.range.min) / (segment.range.max - segment.range.min);\n",
       "                            return mix(segment.domain.min, segment.domain.max, amount)\n",
       "                        }\n",
       "                        else if(segment.scale[0] == \"log\")\n",
       "                        {\n",
       "                            var amount = (range - segment.range.min) / (segment.range.max - segment.range.min);\n",
       "                            var base = segment.scale[1];\n",
       "                            return sign(segment.domain.min) * Math.pow(base, mix(log(segment.domain.min, base), log(segment.domain.max, base), amount));\n",
       "                        }\n",
       "                    }\n",
       "                }\n",
       "            }\n",
       "\n",
       "            var axes = {};\n",
       "\n",
       "            function display_coordinates(e)\n",
       "            {\n",
       "                var current = canvas.createSVGPoint();\n",
       "                current.x = e.clientX;\n",
       "                current.y = e.clientY;\n",
       "\n",
       "                for(var axis_id in axes)\n",
       "                {\n",
       "                    var axis = document.querySelector(\"#\" + axis_id);\n",
       "                    var coordinates = axis.querySelector(\".toyplot-coordinates-Axis-coordinates\");\n",
       "                    if(coordinates)\n",
       "                    {\n",
       "                        var projection = axes[axis_id];\n",
       "                        var local = current.matrixTransform(axis.getScreenCTM().inverse());\n",
       "                        if(inside(local.x, projection))\n",
       "                        {\n",
       "                            var domain = to_domain(local.x, projection);\n",
       "                            coordinates.style.visibility = \"visible\";\n",
       "                            coordinates.setAttribute(\"transform\", \"translate(\" + local.x + \")\");\n",
       "                            var text = coordinates.querySelector(\"text\");\n",
       "                            text.textContent = domain.toFixed(2);\n",
       "                        }\n",
       "                        else\n",
       "                        {\n",
       "                            coordinates.style.visibility= \"hidden\";\n",
       "                        }\n",
       "                    }\n",
       "                }\n",
       "            }\n",
       "\n",
       "            canvas.addEventListener(\"click\", display_coordinates);\n",
       "\n",
       "            var module = {};\n",
       "            module.show_coordinates = function(axis_id, projection)\n",
       "            {\n",
       "                axes[axis_id] = projection;\n",
       "            }\n",
       "\n",
       "            return module;\n",
       "        })(modules[\"toyplot/canvas\"]);\n",
       "(function(axis, axis_id, projection)\n",
       "        {\n",
       "            axis.show_coordinates(axis_id, projection);\n",
       "        })(modules[\"toyplot.coordinates.Axis\"],\"t5673f61898be41b5bbc07b68fc55082a\",[{\"domain\": {\"bounds\": {\"max\": Infinity, \"min\": -Infinity}, \"max\": 1111250.0, \"min\": -8350000.0}, \"range\": {\"bounds\": {\"max\": Infinity, \"min\": -Infinity}, \"max\": 160.0, \"min\": 0.0}, \"scale\": \"linear\"}]);\n",
       "})();</script></div></div>"
      ],
      "text/plain": [
       "<toyplot.canvas.Canvas at 0x2aab0cbeb250>"
      ]
     },
     "execution_count": 4,
     "metadata": {},
     "output_type": "execute_result"
    }
   ],
   "source": [
    "# get an ultrametric imbalanced tree with some short internal nodes\n",
    "#get a topology with 8 tips and a tree height of 8,000,000 generations\n",
    "tree = toytree.rtree.imbtree(ntips=8, treeheight=8e6)\n",
    "tree = tree.mod.node_slider(0.99, seed=1234)\n",
    "canvas, axes, mark = tree.draw(**ts);\n",
    "\n",
    "\n",
    "# save to file\n",
    "tree.write(\"./sandra/tree.nwk\")\n",
    "toyplot.svg.render(canvas,\"./sandra/model_tree.svg\")\n",
    "canvas"
   ]
  },
  {
   "cell_type": "markdown",
   "metadata": {},
   "source": [
    "### Simulate a concatenated sequence (chromosome) WITHOUT missing data\n",
    "\n",
    "This needs to be made much longer for your purposes..."
   ]
  },
  {
   "cell_type": "code",
   "execution_count": 5,
   "metadata": {},
   "outputs": [
    {
     "name": "stdout",
     "output_type": "stream",
     "text": [
      "wrote 1 loci to /rigel/dsi/users/slh2181/locus_length/toy_example/sandra/no_spacer.seqs.hdf5\n"
     ]
    }
   ],
   "source": [
    "# simulate a long chrom\n",
    "model = ipcoal.Model(tree, Ne=2e6, seed=123)\n",
    "model.sim_loci(1, 1e6)\n",
    "\n",
    "\n",
    "# Write data (without spacers) to SEQS HDF5 format\n",
    "model.write_loci_to_hdf5(name=\"no_spacer\", outdir=\"sandra\")\n",
    "model.df.to_csv(\"/rigel/dsi/users/slh2181/locus_length/toy_example/sandra/true_genealogies.csv\")"
   ]
  },
  {
   "cell_type": "code",
   "execution_count": 6,
   "metadata": {},
   "outputs": [
    {
     "name": "stdout",
     "output_type": "stream",
     "text": [
      "wrote 1 loci to /rigel/dsi/users/slh2181/locus_length/toy_example/sandra/with_spacers.seqs.hdf5\n"
     ]
    }
   ],
   "source": [
    "# write to db\n",
    "model.write_loci_to_hdf5(name=\"with_spacers\", outdir=\"sandra\")"
   ]
  },
  {
   "cell_type": "code",
   "execution_count": 7,
   "metadata": {},
   "outputs": [
    {
     "name": "stdout",
     "output_type": "stream",
     "text": [
      "ngenealogies: 38938\n",
      "mean len of gtree: 25.68 bp\n"
     ]
    }
   ],
   "source": [
    "# show the total number of genealogies\n",
    "print('ngenealogies:', model.df.tidx.max())\n",
    "print('mean len of gtree: {:.2f} bp'.format(model.df.nbps.mean()))"
   ]
  },
  {
   "cell_type": "markdown",
   "metadata": {},
   "source": [
    "### Confirm concatenation is in the anomaly zone \n",
    "\n",
    "Here we aim to select a scenario that will lie in the 'anomaly zone', where concatenation will yield incorrect results but a proper MSC method should infer a correct result."
   ]
  },
  {
   "cell_type": "code",
   "execution_count": 8,
   "metadata": {},
   "outputs": [
    {
     "name": "stdout",
     "output_type": "stream",
     "text": [
      "/rigel/home/slh2181/miniconda3/bin/raxmlHPC-PTHREADS-AVX2 -f d -T 24 -m GTRGAMMA -n ... -w ... -s ... -p 12345 -N 10\n",
      "building database: nwindows=1; minsnps=1\n",
      "[####################] 100% 0:00:29 | inferring trees \n",
      "tree_table written to /rigel/dsi/users/slh2181/locus_length/toy_example/sandra/concat.tree_table.csv\n"
     ]
    }
   ],
   "source": [
    "# init raxml inference\n",
    "tool = ipa.treeslider(\n",
    "    data=\"./sandra/no_spacer.seqs.hdf5\",\n",
    "    name=\"concat\",\n",
    "    workdir=\"sandra\",\n",
    "    scaffold_idxs=0,\n",
    "    inference_args={\n",
    "        \"f\": \"d\",\n",
    "        \"N\": 10,\n",
    "        \"p\": 12345,\n",
    "        \"x\": None,\n",
    "        \"T\": 24,\n",
    "    }\n",
    ")\n",
    "tool.ipcluster['threads'] = 24\n",
    "tool.show_inference_command()\n",
    "\n",
    "# infer concat tree\n",
    "tool.run(auto=True, force=True)"
   ]
  },
  {
   "cell_type": "code",
   "execution_count": 15,
   "metadata": {},
   "outputs": [
    {
     "data": {
      "text/plain": [
       "(<toyplot.canvas.Canvas at 0x2aab2488bd10>,\n",
       " <toyplot.coordinates.Cartesian at 0x2aab24884e50>,\n",
       " <toytree.Render.ToytreeMark at 0x2aab2487cad0>)"
      ]
     },
     "execution_count": 15,
     "metadata": {},
     "output_type": "execute_result"
    },
    {
     "data": {
      "text/html": [
       "<div class=\"toyplot\" id=\"tab4962257b6244caa1aceb28e9036b5d\" style=\"text-align:center\"><svg class=\"toyplot-canvas-Canvas\" height=\"275.0px\" id=\"tb22896f20df745d1a04843267b63f8ad\" preserveAspectRatio=\"xMidYMid meet\" style=\"background-color:transparent;border-color:#292724;border-style:none;border-width:1.0;fill:rgb(16.1%,15.3%,14.1%);fill-opacity:1.0;font-family:Helvetica;font-size:12px;opacity:1.0;stroke:rgb(16.1%,15.3%,14.1%);stroke-opacity:1.0;stroke-width:1.0\" viewBox=\"0 0 260.0 275.0\" width=\"260.0px\" xmlns=\"http://www.w3.org/2000/svg\" xmlns:toyplot=\"http://www.sandia.gov/toyplot\" xmlns:xlink=\"http://www.w3.org/1999/xlink\"><g class=\"toyplot-coordinates-Cartesian\" id=\"t545870d3aed447cfbb6d3f9248cb65af\"><clipPath id=\"t447f8c21b55f4bcc9c7f84648774bc9b\"><rect height=\"215.0\" width=\"200.0\" x=\"30.0\" y=\"30.0\"></rect></clipPath><g clip-path=\"url(#t447f8c21b55f4bcc9c7f84648774bc9b)\"><g class=\"toytree-mark-Toytree\" id=\"t9b35a38fefeb4dd7b5852626702d9815\"><g class=\"toytree-Edges\" style=\"fill:none;stroke:rgb(14.9%,14.9%,14.9%);stroke-linecap:round;stroke-opacity:1;stroke-width:2\"><path d=\"M 51.8 84.6 L 51.8 108.1 L 97.4 108.1\" id=\"14,13\"></path><path d=\"M 97.4 108.1 L 97.4 133.4 L 113.5 133.4\" id=\"13,12\"></path><path d=\"M 113.5 133.4 L 113.5 162.1 L 133.8 162.1\" id=\"12,11\"></path><path d=\"M 133.8 162.1 L 133.8 137.5 L 139.7 137.5\" id=\"11,10\"></path><path d=\"M 133.8 162.1 L 133.8 186.7 L 138.0 186.7\" id=\"11,9\"></path><path d=\"M 138.0 186.7 L 138.0 203.1 L 152.1 203.1\" id=\"9,8\"></path><path d=\"M 51.8 84.6 L 51.8 61.0 L 97.4 61.0\" id=\"14,7\"></path><path d=\"M 97.4 108.1 L 97.4 82.9 L 187.0 82.9\" id=\"13,6\"></path><path d=\"M 113.5 133.4 L 113.5 104.7 L 191.0 104.7\" id=\"12,5\"></path><path d=\"M 139.7 137.5 L 139.7 126.6 L 192.0 126.6\" id=\"10,4\"></path><path d=\"M 139.7 137.5 L 139.7 148.4 L 192.1 148.4\" id=\"10,3\"></path><path d=\"M 138.0 186.7 L 138.0 170.3 L 192.3 170.3\" id=\"9,2\"></path><path d=\"M 152.1 203.1 L 152.1 192.1 L 193.5 192.1\" id=\"8,1\"></path><path d=\"M 152.1 203.1 L 152.1 214.0 L 192.8 214.0\" id=\"8,0\"></path></g><g class=\"toytree-TipLabels\" style=\"fill:rgb(14.9%,14.9%,14.9%);fill-opacity:1.0;font-family:helvetica;font-size:11px;font-weight:normal;stroke:none;white-space:pre\"><g transform=\"translate(192.83,213.99)rotate(0)\"><text style=\"\" x=\"15.00\" y=\"2.81\">r0</text></g><g transform=\"translate(193.47,192.13)rotate(0)\"><text style=\"\" x=\"15.00\" y=\"2.81\">r1</text></g><g transform=\"translate(192.33,170.28)rotate(0)\"><text style=\"\" x=\"15.00\" y=\"2.81\">r2</text></g><g transform=\"translate(192.08,148.43)rotate(0)\"><text style=\"\" x=\"15.00\" y=\"2.81\">r3</text></g><g transform=\"translate(192.01,126.57)rotate(0)\"><text style=\"\" x=\"15.00\" y=\"2.81\">r4</text></g><g transform=\"translate(190.95,104.72)rotate(0)\"><text style=\"\" x=\"15.00\" y=\"2.81\">r5</text></g><g transform=\"translate(186.98,82.87)rotate(0)\"><text style=\"\" x=\"15.00\" y=\"2.81\">r6</text></g><g transform=\"translate(97.39,61.01)rotate(0)\"><text style=\"\" x=\"15.00\" y=\"2.81\">r7</text></g></g></g></g></g></svg><div class=\"toyplot-behavior\"><script>(function()\n",
       "{\n",
       "var modules={};\n",
       "})();</script></div></div>"
      ]
     },
     "metadata": {},
     "output_type": "display_data"
    }
   ],
   "source": [
    "toytree.tree(tool.tree_table.tree[0]).root(\"r7\").draw()"
   ]
  },
  {
   "cell_type": "markdown",
   "metadata": {},
   "source": [
    "### Simulate a concatenated sequence WITH  missing data"
   ]
  },
  {
   "cell_type": "code",
   "execution_count": 16,
   "metadata": {},
   "outputs": [],
   "source": [
    "# simulate a long chrom\n",
    "modelmiss = ipcoal.Model(tree, Ne=2e6, seed=123)\n",
    "modelmiss.sim_loci(1, 1e6)"
   ]
  },
  {
   "cell_type": "code",
   "execution_count": 17,
   "metadata": {},
   "outputs": [],
   "source": [
    "#impute missing data\n",
    "# assumed space between RAD tags\n",
    "SPACER = 5000\n",
    "CUTLEN = 5\n",
    "\n",
    "# iterate over each RAD tag\n",
    "for i in range(0, modelmiss.seqs.shape[2], SPACER):  # From 0 to nsites=1e5, by spacer? \n",
    "    \n",
    "    # mask. [0-300=DATA][300-5300=SPACER]\n",
    "    # start at 300, mask until 5000, then start at 5000+300, mask until 5000+5000...\n",
    "    modelmiss.seqs[:, :, i+300: i+SPACER] = 9\n",
    "    \n",
    "    # allele dropout\n",
    "    cseqs = modelmiss.seqs[:, :, i:i+CUTLEN]\n",
    "    aseqs = modelmiss.ancestral_seq[0, i:i+CUTLEN]\n",
    "    mask = np.any(cseqs != aseqs, axis=2)[0]\n",
    "    modelmiss.seqs[:, mask, i:i+300] = 9"
   ]
  },
  {
   "cell_type": "code",
   "execution_count": 19,
   "metadata": {},
   "outputs": [
    {
     "name": "stdout",
     "output_type": "stream",
     "text": [
      "wrote 1 loci to /rigel/dsi/users/slh2181/locus_length/toy_example/sandra/with_spacer.seqs.hdf5\n"
     ]
    }
   ],
   "source": [
    "# Write data (without spacers) to SEQS HDF5 format\n",
    "modelmiss.write_loci_to_hdf5(name=\"with_spacer\", outdir=\"sandra\")"
   ]
  },
  {
   "cell_type": "markdown",
   "metadata": {},
   "source": [
    "### Confirm concatenation is in the anomaly zone \n",
    "\n",
    "Here we aim to select a scenario that will lie in the 'anomaly zone', where concatenation will yield incorrect results but a proper MSC method should infer a correct result."
   ]
  },
  {
   "cell_type": "code",
   "execution_count": 20,
   "metadata": {},
   "outputs": [
    {
     "name": "stdout",
     "output_type": "stream",
     "text": [
      "/rigel/home/slh2181/miniconda3/bin/raxmlHPC-PTHREADS-AVX2 -f d -T 24 -m GTRGAMMA -n ... -w ... -s ... -p 12345 -N 10\n",
      "building database: nwindows=1; minsnps=1\n",
      "[####################] 100% 0:00:48 | inferring trees \n",
      "tree_table written to /rigel/dsi/users/slh2181/locus_length/toy_example/sandra/concat_spacer.tree_table.csv\n"
     ]
    }
   ],
   "source": [
    "# init raxml inference\n",
    "tool2 = ipa.treeslider(\n",
    "    data=\"./sandra/with_spacer.seqs.hdf5\",\n",
    "    name=\"concat_spacer\",\n",
    "    workdir=\"sandra\",\n",
    "    scaffold_idxs=0,\n",
    "    inference_args={\n",
    "        \"f\": \"d\",\n",
    "        \"N\": 10,\n",
    "        \"p\": 12345,\n",
    "        \"x\": None,\n",
    "        \"T\": 24,\n",
    "    }\n",
    ")\n",
    "tool2.ipcluster['threads'] = 24\n",
    "tool2.show_inference_command()\n",
    "\n",
    "# infer concat tree\n",
    "tool2.run(auto=True, force=True)"
   ]
  },
  {
   "cell_type": "code",
   "execution_count": 21,
   "metadata": {},
   "outputs": [
    {
     "data": {
      "text/plain": [
       "(<toyplot.canvas.Canvas at 0x2aab248a41d0>,\n",
       " <toyplot.coordinates.Cartesian at 0x2aab24a96350>,\n",
       " <toytree.Render.ToytreeMark at 0x2aab24a983d0>)"
      ]
     },
     "execution_count": 21,
     "metadata": {},
     "output_type": "execute_result"
    },
    {
     "data": {
      "text/html": [
       "<div class=\"toyplot\" id=\"t519b461db36b4152b33595fb5e63d0b5\" style=\"text-align:center\"><svg class=\"toyplot-canvas-Canvas\" height=\"275.0px\" id=\"t84a8b798c8e24919880d331c5c683754\" preserveAspectRatio=\"xMidYMid meet\" style=\"background-color:transparent;border-color:#292724;border-style:none;border-width:1.0;fill:rgb(16.1%,15.3%,14.1%);fill-opacity:1.0;font-family:Helvetica;font-size:12px;opacity:1.0;stroke:rgb(16.1%,15.3%,14.1%);stroke-opacity:1.0;stroke-width:1.0\" viewBox=\"0 0 260.0 275.0\" width=\"260.0px\" xmlns=\"http://www.w3.org/2000/svg\" xmlns:toyplot=\"http://www.sandia.gov/toyplot\" xmlns:xlink=\"http://www.w3.org/1999/xlink\"><g class=\"toyplot-coordinates-Cartesian\" id=\"t1083c1df08d34fdbac04df9f42e0b51e\"><clipPath id=\"t3ca91a8b2a324732b825a9244018484d\"><rect height=\"215.0\" width=\"200.0\" x=\"30.0\" y=\"30.0\"></rect></clipPath><g clip-path=\"url(#t3ca91a8b2a324732b825a9244018484d)\"><g class=\"toytree-mark-Toytree\" id=\"t7d93f3e74cc34555b6da51ed74078e77\"><g class=\"toytree-Edges\" style=\"fill:none;stroke:rgb(14.9%,14.9%,14.9%);stroke-linecap:round;stroke-opacity:1;stroke-width:2\"><path d=\"M 51.8 83.6 L 51.8 106.1 L 97.8 106.1\" id=\"14,13\"></path><path d=\"M 97.8 106.1 L 97.8 129.3 L 112.4 129.3\" id=\"13,12\"></path><path d=\"M 112.4 129.3 L 112.4 153.9 L 131.8 153.9\" id=\"12,11\"></path><path d=\"M 131.8 153.9 L 131.8 181.2 L 137.4 181.2\" id=\"11,10\"></path><path d=\"M 137.4 181.2 L 137.4 159.4 L 142.1 159.4\" id=\"10,9\"></path><path d=\"M 137.4 181.2 L 137.4 203.1 L 153.4 203.1\" id=\"10,8\"></path><path d=\"M 51.8 83.6 L 51.8 61.0 L 97.8 61.0\" id=\"14,7\"></path><path d=\"M 97.8 106.1 L 97.8 82.9 L 185.5 82.9\" id=\"13,6\"></path><path d=\"M 112.4 129.3 L 112.4 104.7 L 184.2 104.7\" id=\"12,5\"></path><path d=\"M 131.8 153.9 L 131.8 126.6 L 180.8 126.6\" id=\"11,4\"></path><path d=\"M 142.1 159.4 L 142.1 148.4 L 193.3 148.4\" id=\"9,3\"></path><path d=\"M 142.1 159.4 L 142.1 170.3 L 191.6 170.3\" id=\"9,2\"></path><path d=\"M 153.4 203.1 L 153.4 192.1 L 191.7 192.1\" id=\"8,1\"></path><path d=\"M 153.4 203.1 L 153.4 214.0 L 193.5 214.0\" id=\"8,0\"></path></g><g class=\"toytree-TipLabels\" style=\"fill:rgb(14.9%,14.9%,14.9%);fill-opacity:1.0;font-family:helvetica;font-size:11px;font-weight:normal;stroke:none;white-space:pre\"><g transform=\"translate(193.47,213.99)rotate(0)\"><text style=\"\" x=\"15.00\" y=\"2.81\">r0</text></g><g transform=\"translate(191.70,192.13)rotate(0)\"><text style=\"\" x=\"15.00\" y=\"2.81\">r1</text></g><g transform=\"translate(191.60,170.28)rotate(0)\"><text style=\"\" x=\"15.00\" y=\"2.81\">r3</text></g><g transform=\"translate(193.29,148.43)rotate(0)\"><text style=\"\" x=\"15.00\" y=\"2.81\">r4</text></g><g transform=\"translate(180.85,126.57)rotate(0)\"><text style=\"\" x=\"15.00\" y=\"2.81\">r2</text></g><g transform=\"translate(184.21,104.72)rotate(0)\"><text style=\"\" x=\"15.00\" y=\"2.81\">r5</text></g><g transform=\"translate(185.51,82.87)rotate(0)\"><text style=\"\" x=\"15.00\" y=\"2.81\">r6</text></g><g transform=\"translate(97.78,61.01)rotate(0)\"><text style=\"\" x=\"15.00\" y=\"2.81\">r7</text></g></g></g></g></g></svg><div class=\"toyplot-behavior\"><script>(function()\n",
       "{\n",
       "var modules={};\n",
       "})();</script></div></div>"
      ]
     },
     "metadata": {},
     "output_type": "display_data"
    }
   ],
   "source": [
    "toytree.tree(tool2.tree_table.tree[0]).root(\"r7\").draw()"
   ]
  },
  {
   "cell_type": "code",
   "execution_count": null,
   "metadata": {},
   "outputs": [],
   "source": []
  },
  {
   "cell_type": "code",
   "execution_count": null,
   "metadata": {},
   "outputs": [],
   "source": []
  },
  {
   "cell_type": "code",
   "execution_count": null,
   "metadata": {},
   "outputs": [],
   "source": []
  },
  {
   "cell_type": "code",
   "execution_count": null,
   "metadata": {},
   "outputs": [],
   "source": []
  },
  {
   "cell_type": "code",
   "execution_count": 5,
   "metadata": {},
   "outputs": [
    {
     "data": {
      "image/png": "[encoded data removed]",
      "text/html": [
       "<div class=\"toyplot\" id=\"t937a0cf4f26f477d901997612e471840\" style=\"text-align:center\"><svg class=\"toyplot-canvas-Canvas\" height=\"600.0px\" id=\"tdf169cd24888485b978960e56968fa3c\" preserveAspectRatio=\"xMidYMid meet\" style=\"background-color:transparent;border-color:#292724;border-style:none;border-width:1.0;fill:rgb(16.1%,15.3%,14.1%);fill-opacity:1.0;font-family:Helvetica;font-size:12px;opacity:1.0;stroke:rgb(16.1%,15.3%,14.1%);stroke-opacity:1.0;stroke-width:1.0\" viewBox=\"0 0 1980.0 600.0\" width=\"1980.0px\" xmlns=\"http://www.w3.org/2000/svg\" xmlns:toyplot=\"http://www.sandia.gov/toyplot\" xmlns:xlink=\"http://www.w3.org/1999/xlink\"><g class=\"toyplot-coordinates-Table\" id=\"t8d017420135748a0b3da11c4bfb9e82d\"><g transform=\"translate(223.0,89.34375)\"><text style=\"fill:rgb(16.1%,15.3%,14.1%);fill-opacity:1.0;font-family:helvetica;font-size:11.0px;font-weight:normal;stroke:none;vertical-align:baseline;white-space:pre\" x=\"-4.8895\" y=\"2.8104999999999993\">r0</text></g><rect height=\"58.6875\" style=\"fill:rgb(100%,64.7%,0%);fill-opacity:1.0;opacity:0.5;stroke:none\" width=\"13.840000000000032\" x=\"249.5\" y=\"60.0\"></rect><rect height=\"58.6875\" style=\"fill:rgb(100%,64.7%,0%);fill-opacity:1.0;opacity:0.5;stroke:none\" width=\"13.839999999999975\" x=\"264.84000000000003\" y=\"60.0\"></rect><rect height=\"58.6875\" style=\"fill:rgb(100%,0%,0%);fill-opacity:1.0;opacity:0.5;stroke:none\" width=\"13.839999999999975\" x=\"280.18\" y=\"60.0\"></rect><rect height=\"58.6875\" style=\"fill:rgb(0%,50.2%,0%);fill-opacity:1.0;opacity:0.5;stroke:none\" width=\"13.840000000000032\" x=\"295.52\" y=\"60.0\"></rect><rect height=\"58.6875\" style=\"fill:rgb(100%,0%,0%);fill-opacity:1.0;opacity:0.5;stroke:none\" width=\"13.840000000000032\" x=\"310.86\" y=\"60.0\"></rect><rect height=\"58.6875\" style=\"fill:rgb(0%,50.2%,0%);fill-opacity:1.0;opacity:0.5;stroke:none\" width=\"13.839999999999975\" x=\"326.20000000000005\" y=\"60.0\"></rect><rect height=\"58.6875\" style=\"fill:rgb(0%,0%,100%);fill-opacity:1.0;opacity:0.5;stroke:none\" width=\"13.839999999999975\" x=\"341.54\" y=\"60.0\"></rect><rect height=\"58.6875\" style=\"fill:rgb(0%,50.2%,0%);fill-opacity:1.0;opacity:0.5;stroke:none\" width=\"13.840000000000032\" x=\"356.88\" y=\"60.0\"></rect><rect height=\"58.6875\" style=\"fill:rgb(100%,64.7%,0%);fill-opacity:1.0;opacity:0.5;stroke:none\" width=\"13.840000000000032\" x=\"372.22\" y=\"60.0\"></rect><rect height=\"58.6875\" style=\"fill:rgb(0%,50.2%,0%);fill-opacity:1.0;opacity:0.5;stroke:none\" width=\"13.839999999999975\" x=\"387.56000000000006\" y=\"60.0\"></rect><rect height=\"58.6875\" style=\"fill:rgb(100%,0%,0%);fill-opacity:1.0;opacity:0.5;stroke:none\" width=\"13.839999999999975\" x=\"402.90000000000003\" y=\"60.0\"></rect><rect height=\"58.6875\" style=\"fill:rgb(0%,50.2%,0%);fill-opacity:1.0;opacity:0.5;stroke:none\" width=\"13.840000000000032\" x=\"418.24\" y=\"60.0\"></rect><rect height=\"58.6875\" style=\"fill:rgb(100%,64.7%,0%);fill-opacity:1.0;opacity:0.5;stroke:none\" width=\"13.840000000000032\" x=\"433.58000000000004\" y=\"60.0\"></rect><rect height=\"58.6875\" style=\"fill:rgb(0%,50.2%,0%);fill-opacity:1.0;opacity:0.5;stroke:none\" width=\"13.839999999999975\" x=\"448.9200000000001\" y=\"60.0\"></rect><rect height=\"58.6875\" style=\"fill:rgb(100%,0%,0%);fill-opacity:1.0;opacity:0.5;stroke:none\" width=\"13.839999999999975\" x=\"464.26000000000005\" y=\"60.0\"></rect><rect height=\"58.6875\" style=\"fill:rgb(0%,50.2%,0%);fill-opacity:1.0;opacity:0.5;stroke:none\" width=\"13.839999999999975\" x=\"479.6\" y=\"60.0\"></rect><rect height=\"58.6875\" style=\"fill:rgb(0%,50.2%,0%);fill-opacity:1.0;opacity:0.5;stroke:none\" width=\"13.839999999999975\" x=\"494.94\" y=\"60.0\"></rect><rect height=\"58.6875\" style=\"fill:rgb(0%,50.2%,0%);fill-opacity:1.0;opacity:0.5;stroke:none\" width=\"13.839999999999918\" x=\"510.28\" y=\"60.0\"></rect><rect height=\"58.6875\" style=\"fill:rgb(0%,50.2%,0%);fill-opacity:1.0;opacity:0.5;stroke:none\" width=\"13.840000000000032\" x=\"525.6199999999999\" y=\"60.0\"></rect><rect height=\"58.6875\" style=\"fill:rgb(100%,0%,0%);fill-opacity:1.0;opacity:0.5;stroke:none\" width=\"13.840000000000032\" x=\"540.9599999999999\" y=\"60.0\"></rect><rect height=\"58.6875\" style=\"fill:rgb(0%,50.2%,0%);fill-opacity:1.0;opacity:0.5;stroke:none\" width=\"13.839999999999918\" x=\"556.3\" y=\"60.0\"></rect><rect height=\"58.6875\" style=\"fill:rgb(100%,0%,0%);fill-opacity:1.0;opacity:0.5;stroke:none\" width=\"13.839999999999918\" x=\"571.6399999999999\" y=\"60.0\"></rect><rect height=\"58.6875\" style=\"fill:rgb(0%,0%,100%);fill-opacity:1.0;opacity:0.5;stroke:none\" width=\"13.840000000000032\" x=\"586.9799999999998\" y=\"60.0\"></rect><rect height=\"58.6875\" style=\"fill:rgb(100%,0%,0%);fill-opacity:1.0;opacity:0.5;stroke:none\" width=\"13.840000000000032\" x=\"602.3199999999998\" y=\"60.0\"></rect><rect height=\"58.6875\" style=\"fill:rgb(0%,50.2%,0%);fill-opacity:1.0;opacity:0.5;stroke:none\" width=\"13.839999999999918\" x=\"617.6599999999999\" y=\"60.0\"></rect><rect height=\"58.6875\" style=\"fill:rgb(0%,50.2%,0%);fill-opacity:1.0;opacity:0.5;stroke:none\" width=\"13.839999999999918\" x=\"632.9999999999998\" y=\"60.0\"></rect><rect height=\"58.6875\" style=\"fill:rgb(0%,0%,100%);fill-opacity:1.0;opacity:0.5;stroke:none\" width=\"13.840000000000032\" x=\"648.3399999999997\" y=\"60.0\"></rect><rect height=\"58.6875\" style=\"fill:rgb(100%,0%,0%);fill-opacity:1.0;opacity:0.5;stroke:none\" width=\"13.840000000000032\" x=\"663.6799999999997\" y=\"60.0\"></rect><rect height=\"58.6875\" style=\"fill:rgb(100%,0%,0%);fill-opacity:1.0;opacity:0.5;stroke:none\" width=\"13.839999999999918\" x=\"679.0199999999998\" y=\"60.0\"></rect><rect height=\"58.6875\" style=\"fill:rgb(0%,0%,100%);fill-opacity:1.0;opacity:0.5;stroke:none\" width=\"13.839999999999918\" x=\"694.3599999999997\" y=\"60.0\"></rect><rect height=\"58.6875\" style=\"fill:rgb(0%,50.2%,0%);fill-opacity:1.0;opacity:0.5;stroke:none\" width=\"13.840000000000032\" x=\"709.6999999999996\" y=\"60.0\"></rect><rect height=\"58.6875\" style=\"fill:rgb(100%,0%,0%);fill-opacity:1.0;opacity:0.5;stroke:none\" width=\"13.840000000000032\" x=\"725.0399999999996\" y=\"60.0\"></rect><rect height=\"58.6875\" style=\"fill:rgb(0%,50.2%,0%);fill-opacity:1.0;opacity:0.5;stroke:none\" width=\"13.840000000000032\" x=\"740.3799999999997\" y=\"60.0\"></rect><rect height=\"58.6875\" style=\"fill:rgb(100%,64.7%,0%);fill-opacity:1.0;opacity:0.5;stroke:none\" width=\"13.840000000000032\" x=\"755.7199999999997\" y=\"60.0\"></rect><rect height=\"58.6875\" style=\"fill:rgb(0%,50.2%,0%);fill-opacity:1.0;opacity:0.5;stroke:none\" width=\"13.840000000000032\" x=\"771.0599999999997\" y=\"60.0\"></rect><rect height=\"58.6875\" style=\"fill:rgb(100%,64.7%,0%);fill-opacity:1.0;opacity:0.5;stroke:none\" width=\"13.840000000000032\" x=\"786.3999999999997\" y=\"60.0\"></rect><rect height=\"58.6875\" style=\"fill:rgb(0%,0%,100%);fill-opacity:1.0;opacity:0.5;stroke:none\" width=\"13.840000000000032\" x=\"801.7399999999998\" y=\"60.0\"></rect><rect height=\"58.6875\" style=\"fill:rgb(100%,0%,0%);fill-opacity:1.0;opacity:0.5;stroke:none\" width=\"13.840000000000032\" x=\"817.0799999999998\" y=\"60.0\"></rect><rect height=\"58.6875\" style=\"fill:rgb(0%,0%,100%);fill-opacity:1.0;opacity:0.5;stroke:none\" width=\"13.840000000000032\" x=\"832.4199999999998\" y=\"60.0\"></rect><rect height=\"58.6875\" style=\"fill:rgb(100%,0%,0%);fill-opacity:1.0;opacity:0.5;stroke:none\" width=\"13.840000000000032\" x=\"847.7599999999999\" y=\"60.0\"></rect><rect height=\"58.6875\" style=\"fill:rgb(0%,50.2%,0%);fill-opacity:1.0;opacity:0.5;stroke:none\" width=\"13.840000000000032\" x=\"863.0999999999999\" y=\"60.0\"></rect><rect height=\"58.6875\" style=\"fill:rgb(0%,0%,100%);fill-opacity:1.0;opacity:0.5;stroke:none\" width=\"13.840000000000032\" x=\"878.4399999999999\" y=\"60.0\"></rect><rect height=\"58.6875\" style=\"fill:rgb(100%,0%,0%);fill-opacity:1.0;opacity:0.5;stroke:none\" width=\"13.840000000000032\" x=\"893.78\" y=\"60.0\"></rect><rect height=\"58.6875\" style=\"fill:rgb(0%,50.2%,0%);fill-opacity:1.0;opacity:0.5;stroke:none\" width=\"13.840000000000032\" x=\"909.12\" y=\"60.0\"></rect><rect height=\"58.6875\" style=\"fill:rgb(100%,0%,0%);fill-opacity:1.0;opacity:0.5;stroke:none\" width=\"13.840000000000032\" x=\"924.46\" y=\"60.0\"></rect><rect height=\"58.6875\" style=\"fill:rgb(0%,50.2%,0%);fill-opacity:1.0;opacity:0.5;stroke:none\" width=\"13.840000000000032\" x=\"939.8000000000001\" y=\"60.0\"></rect><rect height=\"58.6875\" style=\"fill:rgb(0%,50.2%,0%);fill-opacity:1.0;opacity:0.5;stroke:none\" width=\"13.840000000000032\" x=\"955.1400000000001\" y=\"60.0\"></rect><rect height=\"58.6875\" style=\"fill:rgb(0%,0%,100%);fill-opacity:1.0;opacity:0.5;stroke:none\" width=\"13.840000000000032\" x=\"970.4800000000001\" y=\"60.0\"></rect><rect height=\"58.6875\" style=\"fill:rgb(100%,64.7%,0%);fill-opacity:1.0;opacity:0.5;stroke:none\" width=\"13.840000000000032\" x=\"985.8200000000002\" y=\"60.0\"></rect><rect height=\"58.6875\" style=\"fill:rgb(0%,50.2%,0%);fill-opacity:1.0;opacity:0.5;stroke:none\" width=\"13.840000000000032\" x=\"1001.1600000000002\" y=\"60.0\"></rect><rect height=\"58.6875\" style=\"fill:rgb(0%,50.2%,0%);fill-opacity:1.0;opacity:0.5;stroke:none\" width=\"13.839999999999918\" x=\"1016.5000000000002\" y=\"60.0\"></rect><rect height=\"58.6875\" style=\"fill:rgb(100%,0%,0%);fill-opacity:1.0;opacity:0.5;stroke:none\" width=\"13.840000000000146\" x=\"1031.8400000000001\" y=\"60.0\"></rect><rect height=\"58.6875\" style=\"fill:rgb(0%,0%,100%);fill-opacity:1.0;opacity:0.5;stroke:none\" width=\"13.840000000000146\" x=\"1047.1800000000003\" y=\"60.0\"></rect><rect height=\"58.6875\" style=\"fill:rgb(0%,50.2%,0%);fill-opacity:1.0;opacity:0.5;stroke:none\" width=\"13.839999999999918\" x=\"1062.5200000000004\" y=\"60.0\"></rect><rect height=\"58.6875\" style=\"fill:rgb(0%,50.2%,0%);fill-opacity:1.0;opacity:0.5;stroke:none\" width=\"13.839999999999918\" x=\"1077.8600000000004\" y=\"60.0\"></rect><rect height=\"58.6875\" style=\"fill:rgb(100%,0%,0%);fill-opacity:1.0;opacity:0.5;stroke:none\" width=\"13.840000000000146\" x=\"1093.2000000000003\" y=\"60.0\"></rect><rect height=\"58.6875\" style=\"fill:rgb(100%,64.7%,0%);fill-opacity:1.0;opacity:0.5;stroke:none\" width=\"13.840000000000146\" x=\"1108.5400000000004\" y=\"60.0\"></rect><rect height=\"58.6875\" style=\"fill:rgb(100%,0%,0%);fill-opacity:1.0;opacity:0.5;stroke:none\" width=\"13.839999999999918\" x=\"1123.8800000000006\" y=\"60.0\"></rect><rect height=\"58.6875\" style=\"fill:rgb(100%,0%,0%);fill-opacity:1.0;opacity:0.5;stroke:none\" width=\"13.839999999999918\" x=\"1139.2200000000005\" y=\"60.0\"></rect><rect height=\"58.6875\" style=\"fill:rgb(0%,50.2%,0%);fill-opacity:1.0;opacity:0.5;stroke:none\" width=\"13.840000000000146\" x=\"1154.5600000000004\" y=\"60.0\"></rect><rect height=\"58.6875\" style=\"fill:rgb(100%,0%,0%);fill-opacity:1.0;opacity:0.5;stroke:none\" width=\"13.840000000000146\" x=\"1169.9000000000005\" y=\"60.0\"></rect><rect height=\"58.6875\" style=\"fill:rgb(100%,0%,0%);fill-opacity:1.0;opacity:0.5;stroke:none\" width=\"13.839999999999918\" x=\"1185.2400000000007\" y=\"60.0\"></rect><rect height=\"58.6875\" style=\"fill:rgb(100%,64.7%,0%);fill-opacity:1.0;opacity:0.5;stroke:none\" width=\"13.839999999999918\" x=\"1200.5800000000006\" y=\"60.0\"></rect><rect height=\"58.6875\" style=\"fill:rgb(100%,0%,0%);fill-opacity:1.0;opacity:0.5;stroke:none\" width=\"13.840000000000146\" x=\"1215.9200000000005\" y=\"60.0\"></rect><rect height=\"58.6875\" style=\"fill:rgb(100%,64.7%,0%);fill-opacity:1.0;opacity:0.5;stroke:none\" width=\"13.839999999999918\" x=\"1231.2600000000007\" y=\"60.0\"></rect><rect height=\"58.6875\" style=\"fill:rgb(0%,50.2%,0%);fill-opacity:1.0;opacity:0.5;stroke:none\" width=\"13.839999999999918\" x=\"1246.6000000000006\" y=\"60.0\"></rect><rect height=\"58.6875\" style=\"fill:rgb(100%,64.7%,0%);fill-opacity:1.0;opacity:0.5;stroke:none\" width=\"13.839999999999918\" x=\"1261.9400000000005\" y=\"60.0\"></rect><rect height=\"58.6875\" style=\"fill:rgb(100%,64.7%,0%);fill-opacity:1.0;opacity:0.5;stroke:none\" width=\"13.839999999999918\" x=\"1277.2800000000004\" y=\"60.0\"></rect><rect height=\"58.6875\" style=\"fill:rgb(100%,64.7%,0%);fill-opacity:1.0;opacity:0.5;stroke:none\" width=\"13.839999999999918\" x=\"1292.6200000000003\" y=\"60.0\"></rect><rect height=\"58.6875\" style=\"fill:rgb(0%,50.2%,0%);fill-opacity:1.0;opacity:0.5;stroke:none\" width=\"13.839999999999918\" x=\"1307.9600000000003\" y=\"60.0\"></rect><rect height=\"58.6875\" style=\"fill:rgb(0%,0%,100%);fill-opacity:1.0;opacity:0.5;stroke:none\" width=\"13.839999999999918\" x=\"1323.3000000000002\" y=\"60.0\"></rect><rect height=\"58.6875\" style=\"fill:rgb(0%,0%,100%);fill-opacity:1.0;opacity:0.5;stroke:none\" width=\"13.839999999999918\" x=\"1338.64\" y=\"60.0\"></rect><rect height=\"58.6875\" style=\"fill:rgb(100%,64.7%,0%);fill-opacity:1.0;opacity:0.5;stroke:none\" width=\"13.839999999999918\" x=\"1353.98\" y=\"60.0\"></rect><rect height=\"58.6875\" style=\"fill:rgb(100%,0%,0%);fill-opacity:1.0;opacity:0.5;stroke:none\" width=\"13.839999999999918\" x=\"1369.32\" y=\"60.0\"></rect><rect height=\"58.6875\" style=\"fill:rgb(100%,0%,0%);fill-opacity:1.0;opacity:0.5;stroke:none\" width=\"13.839999999999918\" x=\"1384.6599999999999\" y=\"60.0\"></rect><rect height=\"58.6875\" style=\"fill:rgb(0%,50.2%,0%);fill-opacity:1.0;opacity:0.5;stroke:none\" width=\"13.839999999999918\" x=\"1399.9999999999998\" y=\"60.0\"></rect><rect height=\"58.6875\" style=\"fill:rgb(100%,64.7%,0%);fill-opacity:1.0;opacity:0.5;stroke:none\" width=\"13.839999999999918\" x=\"1415.3399999999997\" y=\"60.0\"></rect><rect height=\"58.6875\" style=\"fill:rgb(0%,50.2%,0%);fill-opacity:1.0;opacity:0.5;stroke:none\" width=\"13.839999999999918\" x=\"1430.6799999999996\" y=\"60.0\"></rect><rect height=\"58.6875\" style=\"fill:rgb(0%,50.2%,0%);fill-opacity:1.0;opacity:0.5;stroke:none\" width=\"13.839999999999918\" x=\"1446.0199999999995\" y=\"60.0\"></rect><rect height=\"58.6875\" style=\"fill:rgb(0%,0%,100%);fill-opacity:1.0;opacity:0.5;stroke:none\" width=\"13.839999999999918\" x=\"1461.3599999999994\" y=\"60.0\"></rect><rect height=\"58.6875\" style=\"fill:rgb(100%,64.7%,0%);fill-opacity:1.0;opacity:0.5;stroke:none\" width=\"13.839999999999918\" x=\"1476.6999999999994\" y=\"60.0\"></rect><rect height=\"58.6875\" style=\"fill:rgb(100%,64.7%,0%);fill-opacity:1.0;opacity:0.5;stroke:none\" width=\"13.839999999999918\" x=\"1492.0399999999993\" y=\"60.0\"></rect><rect height=\"58.6875\" style=\"fill:rgb(100%,0%,0%);fill-opacity:1.0;opacity:0.5;stroke:none\" width=\"13.839999999999918\" x=\"1507.3799999999992\" y=\"60.0\"></rect><rect height=\"58.6875\" style=\"fill:rgb(0%,0%,100%);fill-opacity:1.0;opacity:0.5;stroke:none\" width=\"13.839999999999918\" x=\"1522.7199999999991\" y=\"60.0\"></rect><rect height=\"58.6875\" style=\"fill:rgb(0%,0%,100%);fill-opacity:1.0;opacity:0.5;stroke:none\" width=\"13.839999999999918\" x=\"1538.059999999999\" y=\"60.0\"></rect><rect height=\"58.6875\" style=\"fill:rgb(100%,64.7%,0%);fill-opacity:1.0;opacity:0.5;stroke:none\" width=\"13.839999999999918\" x=\"1553.399999999999\" y=\"60.0\"></rect><rect height=\"58.6875\" style=\"fill:rgb(0%,0%,100%);fill-opacity:1.0;opacity:0.5;stroke:none\" width=\"13.839999999999918\" x=\"1568.7399999999989\" y=\"60.0\"></rect><rect height=\"58.6875\" style=\"fill:rgb(0%,50.2%,0%);fill-opacity:1.0;opacity:0.5;stroke:none\" width=\"13.839999999999918\" x=\"1584.0799999999988\" y=\"60.0\"></rect><rect height=\"58.6875\" style=\"fill:rgb(0%,0%,100%);fill-opacity:1.0;opacity:0.5;stroke:none\" width=\"13.839999999999918\" x=\"1599.4199999999987\" y=\"60.0\"></rect><rect height=\"58.6875\" style=\"fill:rgb(100%,64.7%,0%);fill-opacity:1.0;opacity:0.5;stroke:none\" width=\"13.839999999999918\" x=\"1614.7599999999986\" y=\"60.0\"></rect><rect height=\"58.6875\" style=\"fill:rgb(0%,0%,100%);fill-opacity:1.0;opacity:0.5;stroke:none\" width=\"13.839999999999918\" x=\"1630.0999999999985\" y=\"60.0\"></rect><rect height=\"58.6875\" style=\"fill:rgb(0%,50.2%,0%);fill-opacity:1.0;opacity:0.5;stroke:none\" width=\"13.839999999999918\" x=\"1645.4399999999985\" y=\"60.0\"></rect><rect height=\"58.6875\" style=\"fill:rgb(100%,64.7%,0%);fill-opacity:1.0;opacity:0.5;stroke:none\" width=\"13.839999999999918\" x=\"1660.7799999999984\" y=\"60.0\"></rect><rect height=\"58.6875\" style=\"fill:rgb(0%,0%,100%);fill-opacity:1.0;opacity:0.5;stroke:none\" width=\"13.839999999999918\" x=\"1676.1199999999983\" y=\"60.0\"></rect><rect height=\"58.6875\" style=\"fill:rgb(0%,50.2%,0%);fill-opacity:1.0;opacity:0.5;stroke:none\" width=\"13.839999999999918\" x=\"1691.4599999999982\" y=\"60.0\"></rect><rect height=\"58.6875\" style=\"fill:rgb(100%,64.7%,0%);fill-opacity:1.0;opacity:0.5;stroke:none\" width=\"13.839999999999918\" x=\"1706.7999999999981\" y=\"60.0\"></rect><rect height=\"58.6875\" style=\"fill:rgb(0%,0%,100%);fill-opacity:1.0;opacity:0.5;stroke:none\" width=\"13.839999999999918\" x=\"1722.139999999998\" y=\"60.0\"></rect><rect height=\"58.6875\" style=\"fill:rgb(0%,50.2%,0%);fill-opacity:1.0;opacity:0.5;stroke:none\" width=\"13.839999999999918\" x=\"1737.479999999998\" y=\"60.0\"></rect><rect height=\"58.6875\" style=\"fill:rgb(0%,0%,100%);fill-opacity:1.0;opacity:0.5;stroke:none\" width=\"13.839999999999918\" x=\"1752.819999999998\" y=\"60.0\"></rect><rect height=\"58.6875\" style=\"fill:rgb(0%,0%,100%);fill-opacity:1.0;opacity:0.5;stroke:none\" width=\"13.839999999999918\" x=\"1768.1599999999978\" y=\"60.0\"></rect><g transform=\"translate(223.0,149.53125)\"><text style=\"fill:rgb(16.1%,15.3%,14.1%);fill-opacity:1.0;font-family:helvetica;font-size:11.0px;font-weight:normal;stroke:none;vertical-align:baseline;white-space:pre\" x=\"-4.8895\" y=\"2.8104999999999993\">r1</text></g><rect height=\"58.6875\" style=\"fill:rgb(100%,64.7%,0%);fill-opacity:1.0;opacity:0.5;stroke:none\" width=\"13.840000000000032\" x=\"249.5\" y=\"120.1875\"></rect><rect height=\"58.6875\" style=\"fill:rgb(100%,64.7%,0%);fill-opacity:1.0;opacity:0.5;stroke:none\" width=\"13.839999999999975\" x=\"264.84000000000003\" y=\"120.1875\"></rect><rect height=\"58.6875\" style=\"fill:rgb(100%,0%,0%);fill-opacity:1.0;opacity:0.5;stroke:none\" width=\"13.839999999999975\" x=\"280.18\" y=\"120.1875\"></rect><rect height=\"58.6875\" style=\"fill:rgb(0%,50.2%,0%);fill-opacity:1.0;opacity:0.5;stroke:none\" width=\"13.840000000000032\" x=\"295.52\" y=\"120.1875\"></rect><rect height=\"58.6875\" style=\"fill:rgb(100%,0%,0%);fill-opacity:1.0;opacity:0.5;stroke:none\" width=\"13.840000000000032\" x=\"310.86\" y=\"120.1875\"></rect><rect height=\"58.6875\" style=\"fill:rgb(0%,50.2%,0%);fill-opacity:1.0;opacity:0.5;stroke:none\" width=\"13.839999999999975\" x=\"326.20000000000005\" y=\"120.1875\"></rect><rect height=\"58.6875\" style=\"fill:rgb(0%,0%,100%);fill-opacity:1.0;opacity:0.5;stroke:none\" width=\"13.839999999999975\" x=\"341.54\" y=\"120.1875\"></rect><rect height=\"58.6875\" style=\"fill:rgb(0%,50.2%,0%);fill-opacity:1.0;opacity:0.5;stroke:none\" width=\"13.840000000000032\" x=\"356.88\" y=\"120.1875\"></rect><rect height=\"58.6875\" style=\"fill:rgb(100%,64.7%,0%);fill-opacity:1.0;opacity:0.5;stroke:none\" width=\"13.840000000000032\" x=\"372.22\" y=\"120.1875\"></rect><rect height=\"58.6875\" style=\"fill:rgb(0%,50.2%,0%);fill-opacity:1.0;opacity:0.5;stroke:none\" width=\"13.839999999999975\" x=\"387.56000000000006\" y=\"120.1875\"></rect><rect height=\"58.6875\" style=\"fill:rgb(100%,0%,0%);fill-opacity:1.0;opacity:0.5;stroke:none\" width=\"13.839999999999975\" x=\"402.90000000000003\" y=\"120.1875\"></rect><rect height=\"58.6875\" style=\"fill:rgb(0%,50.2%,0%);fill-opacity:1.0;opacity:0.5;stroke:none\" width=\"13.840000000000032\" x=\"418.24\" y=\"120.1875\"></rect><rect height=\"58.6875\" style=\"fill:rgb(100%,64.7%,0%);fill-opacity:1.0;opacity:0.5;stroke:none\" width=\"13.840000000000032\" x=\"433.58000000000004\" y=\"120.1875\"></rect><rect height=\"58.6875\" style=\"fill:rgb(0%,50.2%,0%);fill-opacity:1.0;opacity:0.5;stroke:none\" width=\"13.839999999999975\" x=\"448.9200000000001\" y=\"120.1875\"></rect><rect height=\"58.6875\" style=\"fill:rgb(100%,0%,0%);fill-opacity:1.0;opacity:0.5;stroke:none\" width=\"13.839999999999975\" x=\"464.26000000000005\" y=\"120.1875\"></rect><rect height=\"58.6875\" style=\"fill:rgb(0%,50.2%,0%);fill-opacity:1.0;opacity:0.5;stroke:none\" width=\"13.839999999999975\" x=\"479.6\" y=\"120.1875\"></rect><rect height=\"58.6875\" style=\"fill:rgb(0%,50.2%,0%);fill-opacity:1.0;opacity:0.5;stroke:none\" width=\"13.839999999999975\" x=\"494.94\" y=\"120.1875\"></rect><rect height=\"58.6875\" style=\"fill:rgb(0%,50.2%,0%);fill-opacity:1.0;opacity:0.5;stroke:none\" width=\"13.839999999999918\" x=\"510.28\" y=\"120.1875\"></rect><rect height=\"58.6875\" style=\"fill:rgb(0%,50.2%,0%);fill-opacity:1.0;opacity:0.5;stroke:none\" width=\"13.840000000000032\" x=\"525.6199999999999\" y=\"120.1875\"></rect><rect height=\"58.6875\" style=\"fill:rgb(100%,0%,0%);fill-opacity:1.0;opacity:0.5;stroke:none\" width=\"13.840000000000032\" x=\"540.9599999999999\" y=\"120.1875\"></rect><rect height=\"58.6875\" style=\"fill:rgb(0%,50.2%,0%);fill-opacity:1.0;opacity:0.5;stroke:none\" width=\"13.839999999999918\" x=\"556.3\" y=\"120.1875\"></rect><rect height=\"58.6875\" style=\"fill:rgb(100%,0%,0%);fill-opacity:1.0;opacity:0.5;stroke:none\" width=\"13.839999999999918\" x=\"571.6399999999999\" y=\"120.1875\"></rect><rect height=\"58.6875\" style=\"fill:rgb(0%,0%,100%);fill-opacity:1.0;opacity:0.5;stroke:none\" width=\"13.840000000000032\" x=\"586.9799999999998\" y=\"120.1875\"></rect><rect height=\"58.6875\" style=\"fill:rgb(100%,0%,0%);fill-opacity:1.0;opacity:0.5;stroke:none\" width=\"13.840000000000032\" x=\"602.3199999999998\" y=\"120.1875\"></rect><rect height=\"58.6875\" style=\"fill:rgb(0%,50.2%,0%);fill-opacity:1.0;opacity:0.5;stroke:none\" width=\"13.839999999999918\" x=\"617.6599999999999\" y=\"120.1875\"></rect><rect height=\"58.6875\" style=\"fill:rgb(0%,50.2%,0%);fill-opacity:1.0;opacity:0.5;stroke:none\" width=\"13.839999999999918\" x=\"632.9999999999998\" y=\"120.1875\"></rect><rect height=\"58.6875\" style=\"fill:rgb(0%,0%,100%);fill-opacity:1.0;opacity:0.5;stroke:none\" width=\"13.840000000000032\" x=\"648.3399999999997\" y=\"120.1875\"></rect><rect height=\"58.6875\" style=\"fill:rgb(0%,50.2%,0%);fill-opacity:1.0;opacity:0.5;stroke:none\" width=\"13.840000000000032\" x=\"663.6799999999997\" y=\"120.1875\"></rect><rect height=\"58.6875\" style=\"fill:rgb(100%,0%,0%);fill-opacity:1.0;opacity:0.5;stroke:none\" width=\"13.839999999999918\" x=\"679.0199999999998\" y=\"120.1875\"></rect><rect height=\"58.6875\" style=\"fill:rgb(0%,0%,100%);fill-opacity:1.0;opacity:0.5;stroke:none\" width=\"13.839999999999918\" x=\"694.3599999999997\" y=\"120.1875\"></rect><rect height=\"58.6875\" style=\"fill:rgb(0%,50.2%,0%);fill-opacity:1.0;opacity:0.5;stroke:none\" width=\"13.840000000000032\" x=\"709.6999999999996\" y=\"120.1875\"></rect><rect height=\"58.6875\" style=\"fill:rgb(100%,0%,0%);fill-opacity:1.0;opacity:0.5;stroke:none\" width=\"13.840000000000032\" x=\"725.0399999999996\" y=\"120.1875\"></rect><rect height=\"58.6875\" style=\"fill:rgb(0%,50.2%,0%);fill-opacity:1.0;opacity:0.5;stroke:none\" width=\"13.840000000000032\" x=\"740.3799999999997\" y=\"120.1875\"></rect><rect height=\"58.6875\" style=\"fill:rgb(100%,64.7%,0%);fill-opacity:1.0;opacity:0.5;stroke:none\" width=\"13.840000000000032\" x=\"755.7199999999997\" y=\"120.1875\"></rect><rect height=\"58.6875\" style=\"fill:rgb(0%,50.2%,0%);fill-opacity:1.0;opacity:0.5;stroke:none\" width=\"13.840000000000032\" x=\"771.0599999999997\" y=\"120.1875\"></rect><rect height=\"58.6875\" style=\"fill:rgb(100%,64.7%,0%);fill-opacity:1.0;opacity:0.5;stroke:none\" width=\"13.840000000000032\" x=\"786.3999999999997\" y=\"120.1875\"></rect><rect height=\"58.6875\" style=\"fill:rgb(0%,0%,100%);fill-opacity:1.0;opacity:0.5;stroke:none\" width=\"13.840000000000032\" x=\"801.7399999999998\" y=\"120.1875\"></rect><rect height=\"58.6875\" style=\"fill:rgb(100%,0%,0%);fill-opacity:1.0;opacity:0.5;stroke:none\" width=\"13.840000000000032\" x=\"817.0799999999998\" y=\"120.1875\"></rect><rect height=\"58.6875\" style=\"fill:rgb(0%,0%,100%);fill-opacity:1.0;opacity:0.5;stroke:none\" width=\"13.840000000000032\" x=\"832.4199999999998\" y=\"120.1875\"></rect><rect height=\"58.6875\" style=\"fill:rgb(100%,0%,0%);fill-opacity:1.0;opacity:0.5;stroke:none\" width=\"13.840000000000032\" x=\"847.7599999999999\" y=\"120.1875\"></rect><rect height=\"58.6875\" style=\"fill:rgb(0%,50.2%,0%);fill-opacity:1.0;opacity:0.5;stroke:none\" width=\"13.840000000000032\" x=\"863.0999999999999\" y=\"120.1875\"></rect><rect height=\"58.6875\" style=\"fill:rgb(100%,64.7%,0%);fill-opacity:1.0;opacity:0.5;stroke:none\" width=\"13.840000000000032\" x=\"878.4399999999999\" y=\"120.1875\"></rect><rect height=\"58.6875\" style=\"fill:rgb(100%,0%,0%);fill-opacity:1.0;opacity:0.5;stroke:none\" width=\"13.840000000000032\" x=\"893.78\" y=\"120.1875\"></rect><rect height=\"58.6875\" style=\"fill:rgb(0%,50.2%,0%);fill-opacity:1.0;opacity:0.5;stroke:none\" width=\"13.840000000000032\" x=\"909.12\" y=\"120.1875\"></rect><rect height=\"58.6875\" style=\"fill:rgb(100%,0%,0%);fill-opacity:1.0;opacity:0.5;stroke:none\" width=\"13.840000000000032\" x=\"924.46\" y=\"120.1875\"></rect><rect height=\"58.6875\" style=\"fill:rgb(0%,50.2%,0%);fill-opacity:1.0;opacity:0.5;stroke:none\" width=\"13.840000000000032\" x=\"939.8000000000001\" y=\"120.1875\"></rect><rect height=\"58.6875\" style=\"fill:rgb(0%,50.2%,0%);fill-opacity:1.0;opacity:0.5;stroke:none\" width=\"13.840000000000032\" x=\"955.1400000000001\" y=\"120.1875\"></rect><rect height=\"58.6875\" style=\"fill:rgb(0%,0%,100%);fill-opacity:1.0;opacity:0.5;stroke:none\" width=\"13.840000000000032\" x=\"970.4800000000001\" y=\"120.1875\"></rect><rect height=\"58.6875\" style=\"fill:rgb(100%,64.7%,0%);fill-opacity:1.0;opacity:0.5;stroke:none\" width=\"13.840000000000032\" x=\"985.8200000000002\" y=\"120.1875\"></rect><rect height=\"58.6875\" style=\"fill:rgb(0%,50.2%,0%);fill-opacity:1.0;opacity:0.5;stroke:none\" width=\"13.840000000000032\" x=\"1001.1600000000002\" y=\"120.1875\"></rect><rect height=\"58.6875\" style=\"fill:rgb(0%,50.2%,0%);fill-opacity:1.0;opacity:0.5;stroke:none\" width=\"13.839999999999918\" x=\"1016.5000000000002\" y=\"120.1875\"></rect><rect height=\"58.6875\" style=\"fill:rgb(100%,0%,0%);fill-opacity:1.0;opacity:0.5;stroke:none\" width=\"13.840000000000146\" x=\"1031.8400000000001\" y=\"120.1875\"></rect><rect height=\"58.6875\" style=\"fill:rgb(0%,0%,100%);fill-opacity:1.0;opacity:0.5;stroke:none\" width=\"13.840000000000146\" x=\"1047.1800000000003\" y=\"120.1875\"></rect><rect height=\"58.6875\" style=\"fill:rgb(0%,50.2%,0%);fill-opacity:1.0;opacity:0.5;stroke:none\" width=\"13.839999999999918\" x=\"1062.5200000000004\" y=\"120.1875\"></rect><rect height=\"58.6875\" style=\"fill:rgb(0%,50.2%,0%);fill-opacity:1.0;opacity:0.5;stroke:none\" width=\"13.839999999999918\" x=\"1077.8600000000004\" y=\"120.1875\"></rect><rect height=\"58.6875\" style=\"fill:rgb(100%,0%,0%);fill-opacity:1.0;opacity:0.5;stroke:none\" width=\"13.840000000000146\" x=\"1093.2000000000003\" y=\"120.1875\"></rect><rect height=\"58.6875\" style=\"fill:rgb(100%,64.7%,0%);fill-opacity:1.0;opacity:0.5;stroke:none\" width=\"13.840000000000146\" x=\"1108.5400000000004\" y=\"120.1875\"></rect><rect height=\"58.6875\" style=\"fill:rgb(100%,0%,0%);fill-opacity:1.0;opacity:0.5;stroke:none\" width=\"13.839999999999918\" x=\"1123.8800000000006\" y=\"120.1875\"></rect><rect height=\"58.6875\" style=\"fill:rgb(100%,0%,0%);fill-opacity:1.0;opacity:0.5;stroke:none\" width=\"13.839999999999918\" x=\"1139.2200000000005\" y=\"120.1875\"></rect><rect height=\"58.6875\" style=\"fill:rgb(0%,50.2%,0%);fill-opacity:1.0;opacity:0.5;stroke:none\" width=\"13.840000000000146\" x=\"1154.5600000000004\" y=\"120.1875\"></rect><rect height=\"58.6875\" style=\"fill:rgb(100%,0%,0%);fill-opacity:1.0;opacity:0.5;stroke:none\" width=\"13.840000000000146\" x=\"1169.9000000000005\" y=\"120.1875\"></rect><rect height=\"58.6875\" style=\"fill:rgb(100%,0%,0%);fill-opacity:1.0;opacity:0.5;stroke:none\" width=\"13.839999999999918\" x=\"1185.2400000000007\" y=\"120.1875\"></rect><rect height=\"58.6875\" style=\"fill:rgb(100%,64.7%,0%);fill-opacity:1.0;opacity:0.5;stroke:none\" width=\"13.839999999999918\" x=\"1200.5800000000006\" y=\"120.1875\"></rect><rect height=\"58.6875\" style=\"fill:rgb(100%,0%,0%);fill-opacity:1.0;opacity:0.5;stroke:none\" width=\"13.840000000000146\" x=\"1215.9200000000005\" y=\"120.1875\"></rect><rect height=\"58.6875\" style=\"fill:rgb(100%,64.7%,0%);fill-opacity:1.0;opacity:0.5;stroke:none\" width=\"13.839999999999918\" x=\"1231.2600000000007\" y=\"120.1875\"></rect><rect height=\"58.6875\" style=\"fill:rgb(0%,50.2%,0%);fill-opacity:1.0;opacity:0.5;stroke:none\" width=\"13.839999999999918\" x=\"1246.6000000000006\" y=\"120.1875\"></rect><rect height=\"58.6875\" style=\"fill:rgb(100%,64.7%,0%);fill-opacity:1.0;opacity:0.5;stroke:none\" width=\"13.839999999999918\" x=\"1261.9400000000005\" y=\"120.1875\"></rect><rect height=\"58.6875\" style=\"fill:rgb(100%,64.7%,0%);fill-opacity:1.0;opacity:0.5;stroke:none\" width=\"13.839999999999918\" x=\"1277.2800000000004\" y=\"120.1875\"></rect><rect height=\"58.6875\" style=\"fill:rgb(100%,64.7%,0%);fill-opacity:1.0;opacity:0.5;stroke:none\" width=\"13.839999999999918\" x=\"1292.6200000000003\" y=\"120.1875\"></rect><rect height=\"58.6875\" style=\"fill:rgb(0%,50.2%,0%);fill-opacity:1.0;opacity:0.5;stroke:none\" width=\"13.839999999999918\" x=\"1307.9600000000003\" y=\"120.1875\"></rect><rect height=\"58.6875\" style=\"fill:rgb(0%,0%,100%);fill-opacity:1.0;opacity:0.5;stroke:none\" width=\"13.839999999999918\" x=\"1323.3000000000002\" y=\"120.1875\"></rect><rect height=\"58.6875\" style=\"fill:rgb(0%,0%,100%);fill-opacity:1.0;opacity:0.5;stroke:none\" width=\"13.839999999999918\" x=\"1338.64\" y=\"120.1875\"></rect><rect height=\"58.6875\" style=\"fill:rgb(100%,64.7%,0%);fill-opacity:1.0;opacity:0.5;stroke:none\" width=\"13.839999999999918\" x=\"1353.98\" y=\"120.1875\"></rect><rect height=\"58.6875\" style=\"fill:rgb(100%,0%,0%);fill-opacity:1.0;opacity:0.5;stroke:none\" width=\"13.839999999999918\" x=\"1369.32\" y=\"120.1875\"></rect><rect height=\"58.6875\" style=\"fill:rgb(100%,0%,0%);fill-opacity:1.0;opacity:0.5;stroke:none\" width=\"13.839999999999918\" x=\"1384.6599999999999\" y=\"120.1875\"></rect><rect height=\"58.6875\" style=\"fill:rgb(0%,50.2%,0%);fill-opacity:1.0;opacity:0.5;stroke:none\" width=\"13.839999999999918\" x=\"1399.9999999999998\" y=\"120.1875\"></rect><rect height=\"58.6875\" style=\"fill:rgb(100%,64.7%,0%);fill-opacity:1.0;opacity:0.5;stroke:none\" width=\"13.839999999999918\" x=\"1415.3399999999997\" y=\"120.1875\"></rect><rect height=\"58.6875\" style=\"fill:rgb(0%,50.2%,0%);fill-opacity:1.0;opacity:0.5;stroke:none\" width=\"13.839999999999918\" x=\"1430.6799999999996\" y=\"120.1875\"></rect><rect height=\"58.6875\" style=\"fill:rgb(100%,64.7%,0%);fill-opacity:1.0;opacity:0.5;stroke:none\" width=\"13.839999999999918\" x=\"1446.0199999999995\" y=\"120.1875\"></rect><rect height=\"58.6875\" style=\"fill:rgb(0%,0%,100%);fill-opacity:1.0;opacity:0.5;stroke:none\" width=\"13.839999999999918\" x=\"1461.3599999999994\" y=\"120.1875\"></rect><rect height=\"58.6875\" style=\"fill:rgb(100%,64.7%,0%);fill-opacity:1.0;opacity:0.5;stroke:none\" width=\"13.839999999999918\" x=\"1476.6999999999994\" y=\"120.1875\"></rect><rect height=\"58.6875\" style=\"fill:rgb(100%,64.7%,0%);fill-opacity:1.0;opacity:0.5;stroke:none\" width=\"13.839999999999918\" x=\"1492.0399999999993\" y=\"120.1875\"></rect><rect height=\"58.6875\" style=\"fill:rgb(100%,0%,0%);fill-opacity:1.0;opacity:0.5;stroke:none\" width=\"13.839999999999918\" x=\"1507.3799999999992\" y=\"120.1875\"></rect><rect height=\"58.6875\" style=\"fill:rgb(0%,0%,100%);fill-opacity:1.0;opacity:0.5;stroke:none\" width=\"13.839999999999918\" x=\"1522.7199999999991\" y=\"120.1875\"></rect><rect height=\"58.6875\" style=\"fill:rgb(0%,0%,100%);fill-opacity:1.0;opacity:0.5;stroke:none\" width=\"13.839999999999918\" x=\"1538.059999999999\" y=\"120.1875\"></rect><rect height=\"58.6875\" style=\"fill:rgb(100%,64.7%,0%);fill-opacity:1.0;opacity:0.5;stroke:none\" width=\"13.839999999999918\" x=\"1553.399999999999\" y=\"120.1875\"></rect><rect height=\"58.6875\" style=\"fill:rgb(0%,0%,100%);fill-opacity:1.0;opacity:0.5;stroke:none\" width=\"13.839999999999918\" x=\"1568.7399999999989\" y=\"120.1875\"></rect><rect height=\"58.6875\" style=\"fill:rgb(0%,50.2%,0%);fill-opacity:1.0;opacity:0.5;stroke:none\" width=\"13.839999999999918\" x=\"1584.0799999999988\" y=\"120.1875\"></rect><rect height=\"58.6875\" style=\"fill:rgb(0%,0%,100%);fill-opacity:1.0;opacity:0.5;stroke:none\" width=\"13.839999999999918\" x=\"1599.4199999999987\" y=\"120.1875\"></rect><rect height=\"58.6875\" style=\"fill:rgb(100%,64.7%,0%);fill-opacity:1.0;opacity:0.5;stroke:none\" width=\"13.839999999999918\" x=\"1614.7599999999986\" y=\"120.1875\"></rect><rect height=\"58.6875\" style=\"fill:rgb(0%,0%,100%);fill-opacity:1.0;opacity:0.5;stroke:none\" width=\"13.839999999999918\" x=\"1630.0999999999985\" y=\"120.1875\"></rect><rect height=\"58.6875\" style=\"fill:rgb(0%,50.2%,0%);fill-opacity:1.0;opacity:0.5;stroke:none\" width=\"13.839999999999918\" x=\"1645.4399999999985\" y=\"120.1875\"></rect><rect height=\"58.6875\" style=\"fill:rgb(100%,64.7%,0%);fill-opacity:1.0;opacity:0.5;stroke:none\" width=\"13.839999999999918\" x=\"1660.7799999999984\" y=\"120.1875\"></rect><rect height=\"58.6875\" style=\"fill:rgb(0%,0%,100%);fill-opacity:1.0;opacity:0.5;stroke:none\" width=\"13.839999999999918\" x=\"1676.1199999999983\" y=\"120.1875\"></rect><rect height=\"58.6875\" style=\"fill:rgb(0%,0%,100%);fill-opacity:1.0;opacity:0.5;stroke:none\" width=\"13.839999999999918\" x=\"1691.4599999999982\" y=\"120.1875\"></rect><rect height=\"58.6875\" style=\"fill:rgb(0%,50.2%,0%);fill-opacity:1.0;opacity:0.5;stroke:none\" width=\"13.839999999999918\" x=\"1706.7999999999981\" y=\"120.1875\"></rect><rect height=\"58.6875\" style=\"fill:rgb(0%,0%,100%);fill-opacity:1.0;opacity:0.5;stroke:none\" width=\"13.839999999999918\" x=\"1722.139999999998\" y=\"120.1875\"></rect><rect height=\"58.6875\" style=\"fill:rgb(0%,50.2%,0%);fill-opacity:1.0;opacity:0.5;stroke:none\" width=\"13.839999999999918\" x=\"1737.479999999998\" y=\"120.1875\"></rect><rect height=\"58.6875\" style=\"fill:rgb(0%,0%,100%);fill-opacity:1.0;opacity:0.5;stroke:none\" width=\"13.839999999999918\" x=\"1752.819999999998\" y=\"120.1875\"></rect><rect height=\"58.6875\" style=\"fill:rgb(0%,0%,100%);fill-opacity:1.0;opacity:0.5;stroke:none\" width=\"13.839999999999918\" x=\"1768.1599999999978\" y=\"120.1875\"></rect><g transform=\"translate(223.0,209.71875)\"><text style=\"fill:rgb(16.1%,15.3%,14.1%);fill-opacity:1.0;font-family:helvetica;font-size:11.0px;font-weight:normal;stroke:none;vertical-align:baseline;white-space:pre\" x=\"-4.8895\" y=\"2.8104999999999993\">r2</text></g><rect height=\"58.6875\" style=\"fill:rgb(100%,64.7%,0%);fill-opacity:1.0;opacity:0.5;stroke:none\" width=\"13.840000000000032\" x=\"249.5\" y=\"180.375\"></rect><rect height=\"58.6875\" style=\"fill:rgb(100%,64.7%,0%);fill-opacity:1.0;opacity:0.5;stroke:none\" width=\"13.839999999999975\" x=\"264.84000000000003\" y=\"180.375\"></rect><rect height=\"58.6875\" style=\"fill:rgb(100%,0%,0%);fill-opacity:1.0;opacity:0.5;stroke:none\" width=\"13.839999999999975\" x=\"280.18\" y=\"180.375\"></rect><rect height=\"58.6875\" style=\"fill:rgb(0%,50.2%,0%);fill-opacity:1.0;opacity:0.5;stroke:none\" width=\"13.840000000000032\" x=\"295.52\" y=\"180.375\"></rect><rect height=\"58.6875\" style=\"fill:rgb(100%,0%,0%);fill-opacity:1.0;opacity:0.5;stroke:none\" width=\"13.840000000000032\" x=\"310.86\" y=\"180.375\"></rect><rect height=\"58.6875\" style=\"fill:rgb(0%,50.2%,0%);fill-opacity:1.0;opacity:0.5;stroke:none\" width=\"13.839999999999975\" x=\"326.20000000000005\" y=\"180.375\"></rect><rect height=\"58.6875\" style=\"fill:rgb(0%,50.2%,0%);fill-opacity:1.0;opacity:0.5;stroke:none\" width=\"13.839999999999975\" x=\"341.54\" y=\"180.375\"></rect><rect height=\"58.6875\" style=\"fill:rgb(0%,50.2%,0%);fill-opacity:1.0;opacity:0.5;stroke:none\" width=\"13.840000000000032\" x=\"356.88\" y=\"180.375\"></rect><rect height=\"58.6875\" style=\"fill:rgb(100%,64.7%,0%);fill-opacity:1.0;opacity:0.5;stroke:none\" width=\"13.840000000000032\" x=\"372.22\" y=\"180.375\"></rect><rect height=\"58.6875\" style=\"fill:rgb(0%,50.2%,0%);fill-opacity:1.0;opacity:0.5;stroke:none\" width=\"13.839999999999975\" x=\"387.56000000000006\" y=\"180.375\"></rect><rect height=\"58.6875\" style=\"fill:rgb(0%,50.2%,0%);fill-opacity:1.0;opacity:0.5;stroke:none\" width=\"13.839999999999975\" x=\"402.90000000000003\" y=\"180.375\"></rect><rect height=\"58.6875\" style=\"fill:rgb(0%,50.2%,0%);fill-opacity:1.0;opacity:0.5;stroke:none\" width=\"13.840000000000032\" x=\"418.24\" y=\"180.375\"></rect><rect height=\"58.6875\" style=\"fill:rgb(0%,50.2%,0%);fill-opacity:1.0;opacity:0.5;stroke:none\" width=\"13.840000000000032\" x=\"433.58000000000004\" y=\"180.375\"></rect><rect height=\"58.6875\" style=\"fill:rgb(0%,50.2%,0%);fill-opacity:1.0;opacity:0.5;stroke:none\" width=\"13.839999999999975\" x=\"448.9200000000001\" y=\"180.375\"></rect><rect height=\"58.6875\" style=\"fill:rgb(100%,0%,0%);fill-opacity:1.0;opacity:0.5;stroke:none\" width=\"13.839999999999975\" x=\"464.26000000000005\" y=\"180.375\"></rect><rect height=\"58.6875\" style=\"fill:rgb(0%,50.2%,0%);fill-opacity:1.0;opacity:0.5;stroke:none\" width=\"13.839999999999975\" x=\"479.6\" y=\"180.375\"></rect><rect height=\"58.6875\" style=\"fill:rgb(100%,64.7%,0%);fill-opacity:1.0;opacity:0.5;stroke:none\" width=\"13.839999999999975\" x=\"494.94\" y=\"180.375\"></rect><rect height=\"58.6875\" style=\"fill:rgb(0%,50.2%,0%);fill-opacity:1.0;opacity:0.5;stroke:none\" width=\"13.839999999999918\" x=\"510.28\" y=\"180.375\"></rect><rect height=\"58.6875\" style=\"fill:rgb(0%,50.2%,0%);fill-opacity:1.0;opacity:0.5;stroke:none\" width=\"13.840000000000032\" x=\"525.6199999999999\" y=\"180.375\"></rect><rect height=\"58.6875\" style=\"fill:rgb(100%,0%,0%);fill-opacity:1.0;opacity:0.5;stroke:none\" width=\"13.840000000000032\" x=\"540.9599999999999\" y=\"180.375\"></rect><rect height=\"58.6875\" style=\"fill:rgb(0%,50.2%,0%);fill-opacity:1.0;opacity:0.5;stroke:none\" width=\"13.839999999999918\" x=\"556.3\" y=\"180.375\"></rect><rect height=\"58.6875\" style=\"fill:rgb(100%,0%,0%);fill-opacity:1.0;opacity:0.5;stroke:none\" width=\"13.839999999999918\" x=\"571.6399999999999\" y=\"180.375\"></rect><rect height=\"58.6875\" style=\"fill:rgb(0%,0%,100%);fill-opacity:1.0;opacity:0.5;stroke:none\" width=\"13.840000000000032\" x=\"586.9799999999998\" y=\"180.375\"></rect><rect height=\"58.6875\" style=\"fill:rgb(100%,0%,0%);fill-opacity:1.0;opacity:0.5;stroke:none\" width=\"13.840000000000032\" x=\"602.3199999999998\" y=\"180.375\"></rect><rect height=\"58.6875\" style=\"fill:rgb(0%,50.2%,0%);fill-opacity:1.0;opacity:0.5;stroke:none\" width=\"13.839999999999918\" x=\"617.6599999999999\" y=\"180.375\"></rect><rect height=\"58.6875\" style=\"fill:rgb(0%,50.2%,0%);fill-opacity:1.0;opacity:0.5;stroke:none\" width=\"13.839999999999918\" x=\"632.9999999999998\" y=\"180.375\"></rect><rect height=\"58.6875\" style=\"fill:rgb(0%,0%,100%);fill-opacity:1.0;opacity:0.5;stroke:none\" width=\"13.840000000000032\" x=\"648.3399999999997\" y=\"180.375\"></rect><rect height=\"58.6875\" style=\"fill:rgb(100%,0%,0%);fill-opacity:1.0;opacity:0.5;stroke:none\" width=\"13.840000000000032\" x=\"663.6799999999997\" y=\"180.375\"></rect><rect height=\"58.6875\" style=\"fill:rgb(0%,0%,100%);fill-opacity:1.0;opacity:0.5;stroke:none\" width=\"13.839999999999918\" x=\"679.0199999999998\" y=\"180.375\"></rect><rect height=\"58.6875\" style=\"fill:rgb(0%,0%,100%);fill-opacity:1.0;opacity:0.5;stroke:none\" width=\"13.839999999999918\" x=\"694.3599999999997\" y=\"180.375\"></rect><rect height=\"58.6875\" style=\"fill:rgb(0%,50.2%,0%);fill-opacity:1.0;opacity:0.5;stroke:none\" width=\"13.840000000000032\" x=\"709.6999999999996\" y=\"180.375\"></rect><rect height=\"58.6875\" style=\"fill:rgb(100%,0%,0%);fill-opacity:1.0;opacity:0.5;stroke:none\" width=\"13.840000000000032\" x=\"725.0399999999996\" y=\"180.375\"></rect><rect height=\"58.6875\" style=\"fill:rgb(100%,0%,0%);fill-opacity:1.0;opacity:0.5;stroke:none\" width=\"13.840000000000032\" x=\"740.3799999999997\" y=\"180.375\"></rect><rect height=\"58.6875\" style=\"fill:rgb(100%,64.7%,0%);fill-opacity:1.0;opacity:0.5;stroke:none\" width=\"13.840000000000032\" x=\"755.7199999999997\" y=\"180.375\"></rect><rect height=\"58.6875\" style=\"fill:rgb(0%,50.2%,0%);fill-opacity:1.0;opacity:0.5;stroke:none\" width=\"13.840000000000032\" x=\"771.0599999999997\" y=\"180.375\"></rect><rect height=\"58.6875\" style=\"fill:rgb(100%,64.7%,0%);fill-opacity:1.0;opacity:0.5;stroke:none\" width=\"13.840000000000032\" x=\"786.3999999999997\" y=\"180.375\"></rect><rect height=\"58.6875\" style=\"fill:rgb(0%,0%,100%);fill-opacity:1.0;opacity:0.5;stroke:none\" width=\"13.840000000000032\" x=\"801.7399999999998\" y=\"180.375\"></rect><rect height=\"58.6875\" style=\"fill:rgb(100%,0%,0%);fill-opacity:1.0;opacity:0.5;stroke:none\" width=\"13.840000000000032\" x=\"817.0799999999998\" y=\"180.375\"></rect><rect height=\"58.6875\" style=\"fill:rgb(0%,0%,100%);fill-opacity:1.0;opacity:0.5;stroke:none\" width=\"13.840000000000032\" x=\"832.4199999999998\" y=\"180.375\"></rect><rect height=\"58.6875\" style=\"fill:rgb(100%,0%,0%);fill-opacity:1.0;opacity:0.5;stroke:none\" width=\"13.840000000000032\" x=\"847.7599999999999\" y=\"180.375\"></rect><rect height=\"58.6875\" style=\"fill:rgb(0%,50.2%,0%);fill-opacity:1.0;opacity:0.5;stroke:none\" width=\"13.840000000000032\" x=\"863.0999999999999\" y=\"180.375\"></rect><rect height=\"58.6875\" style=\"fill:rgb(0%,0%,100%);fill-opacity:1.0;opacity:0.5;stroke:none\" width=\"13.840000000000032\" x=\"878.4399999999999\" y=\"180.375\"></rect><rect height=\"58.6875\" style=\"fill:rgb(100%,0%,0%);fill-opacity:1.0;opacity:0.5;stroke:none\" width=\"13.840000000000032\" x=\"893.78\" y=\"180.375\"></rect><rect height=\"58.6875\" style=\"fill:rgb(0%,50.2%,0%);fill-opacity:1.0;opacity:0.5;stroke:none\" width=\"13.840000000000032\" x=\"909.12\" y=\"180.375\"></rect><rect height=\"58.6875\" style=\"fill:rgb(100%,0%,0%);fill-opacity:1.0;opacity:0.5;stroke:none\" width=\"13.840000000000032\" x=\"924.46\" y=\"180.375\"></rect><rect height=\"58.6875\" style=\"fill:rgb(0%,50.2%,0%);fill-opacity:1.0;opacity:0.5;stroke:none\" width=\"13.840000000000032\" x=\"939.8000000000001\" y=\"180.375\"></rect><rect height=\"58.6875\" style=\"fill:rgb(0%,50.2%,0%);fill-opacity:1.0;opacity:0.5;stroke:none\" width=\"13.840000000000032\" x=\"955.1400000000001\" y=\"180.375\"></rect><rect height=\"58.6875\" style=\"fill:rgb(0%,0%,100%);fill-opacity:1.0;opacity:0.5;stroke:none\" width=\"13.840000000000032\" x=\"970.4800000000001\" y=\"180.375\"></rect><rect height=\"58.6875\" style=\"fill:rgb(100%,64.7%,0%);fill-opacity:1.0;opacity:0.5;stroke:none\" width=\"13.840000000000032\" x=\"985.8200000000002\" y=\"180.375\"></rect><rect height=\"58.6875\" style=\"fill:rgb(0%,50.2%,0%);fill-opacity:1.0;opacity:0.5;stroke:none\" width=\"13.840000000000032\" x=\"1001.1600000000002\" y=\"180.375\"></rect><rect height=\"58.6875\" style=\"fill:rgb(0%,50.2%,0%);fill-opacity:1.0;opacity:0.5;stroke:none\" width=\"13.839999999999918\" x=\"1016.5000000000002\" y=\"180.375\"></rect><rect height=\"58.6875\" style=\"fill:rgb(100%,0%,0%);fill-opacity:1.0;opacity:0.5;stroke:none\" width=\"13.840000000000146\" x=\"1031.8400000000001\" y=\"180.375\"></rect><rect height=\"58.6875\" style=\"fill:rgb(0%,0%,100%);fill-opacity:1.0;opacity:0.5;stroke:none\" width=\"13.840000000000146\" x=\"1047.1800000000003\" y=\"180.375\"></rect><rect height=\"58.6875\" style=\"fill:rgb(0%,50.2%,0%);fill-opacity:1.0;opacity:0.5;stroke:none\" width=\"13.839999999999918\" x=\"1062.5200000000004\" y=\"180.375\"></rect><rect height=\"58.6875\" style=\"fill:rgb(0%,50.2%,0%);fill-opacity:1.0;opacity:0.5;stroke:none\" width=\"13.839999999999918\" x=\"1077.8600000000004\" y=\"180.375\"></rect><rect height=\"58.6875\" style=\"fill:rgb(100%,0%,0%);fill-opacity:1.0;opacity:0.5;stroke:none\" width=\"13.840000000000146\" x=\"1093.2000000000003\" y=\"180.375\"></rect><rect height=\"58.6875\" style=\"fill:rgb(100%,0%,0%);fill-opacity:1.0;opacity:0.5;stroke:none\" width=\"13.840000000000146\" x=\"1108.5400000000004\" y=\"180.375\"></rect><rect height=\"58.6875\" style=\"fill:rgb(0%,0%,100%);fill-opacity:1.0;opacity:0.5;stroke:none\" width=\"13.839999999999918\" x=\"1123.8800000000006\" y=\"180.375\"></rect><rect height=\"58.6875\" style=\"fill:rgb(100%,0%,0%);fill-opacity:1.0;opacity:0.5;stroke:none\" width=\"13.839999999999918\" x=\"1139.2200000000005\" y=\"180.375\"></rect><rect height=\"58.6875\" style=\"fill:rgb(0%,50.2%,0%);fill-opacity:1.0;opacity:0.5;stroke:none\" width=\"13.840000000000146\" x=\"1154.5600000000004\" y=\"180.375\"></rect><rect height=\"58.6875\" style=\"fill:rgb(100%,0%,0%);fill-opacity:1.0;opacity:0.5;stroke:none\" width=\"13.840000000000146\" x=\"1169.9000000000005\" y=\"180.375\"></rect><rect height=\"58.6875\" style=\"fill:rgb(0%,0%,100%);fill-opacity:1.0;opacity:0.5;stroke:none\" width=\"13.839999999999918\" x=\"1185.2400000000007\" y=\"180.375\"></rect><rect height=\"58.6875\" style=\"fill:rgb(100%,64.7%,0%);fill-opacity:1.0;opacity:0.5;stroke:none\" width=\"13.839999999999918\" x=\"1200.5800000000006\" y=\"180.375\"></rect><rect height=\"58.6875\" style=\"fill:rgb(100%,0%,0%);fill-opacity:1.0;opacity:0.5;stroke:none\" width=\"13.840000000000146\" x=\"1215.9200000000005\" y=\"180.375\"></rect><rect height=\"58.6875\" style=\"fill:rgb(100%,64.7%,0%);fill-opacity:1.0;opacity:0.5;stroke:none\" width=\"13.839999999999918\" x=\"1231.2600000000007\" y=\"180.375\"></rect><rect height=\"58.6875\" style=\"fill:rgb(0%,50.2%,0%);fill-opacity:1.0;opacity:0.5;stroke:none\" width=\"13.839999999999918\" x=\"1246.6000000000006\" y=\"180.375\"></rect><rect height=\"58.6875\" style=\"fill:rgb(100%,64.7%,0%);fill-opacity:1.0;opacity:0.5;stroke:none\" width=\"13.839999999999918\" x=\"1261.9400000000005\" y=\"180.375\"></rect><rect height=\"58.6875\" style=\"fill:rgb(100%,64.7%,0%);fill-opacity:1.0;opacity:0.5;stroke:none\" width=\"13.839999999999918\" x=\"1277.2800000000004\" y=\"180.375\"></rect><rect height=\"58.6875\" style=\"fill:rgb(100%,64.7%,0%);fill-opacity:1.0;opacity:0.5;stroke:none\" width=\"13.839999999999918\" x=\"1292.6200000000003\" y=\"180.375\"></rect><rect height=\"58.6875\" style=\"fill:rgb(0%,50.2%,0%);fill-opacity:1.0;opacity:0.5;stroke:none\" width=\"13.839999999999918\" x=\"1307.9600000000003\" y=\"180.375\"></rect><rect height=\"58.6875\" style=\"fill:rgb(0%,0%,100%);fill-opacity:1.0;opacity:0.5;stroke:none\" width=\"13.839999999999918\" x=\"1323.3000000000002\" y=\"180.375\"></rect><rect height=\"58.6875\" style=\"fill:rgb(0%,0%,100%);fill-opacity:1.0;opacity:0.5;stroke:none\" width=\"13.839999999999918\" x=\"1338.64\" y=\"180.375\"></rect><rect height=\"58.6875\" style=\"fill:rgb(100%,64.7%,0%);fill-opacity:1.0;opacity:0.5;stroke:none\" width=\"13.839999999999918\" x=\"1353.98\" y=\"180.375\"></rect><rect height=\"58.6875\" style=\"fill:rgb(0%,50.2%,0%);fill-opacity:1.0;opacity:0.5;stroke:none\" width=\"13.839999999999918\" x=\"1369.32\" y=\"180.375\"></rect><rect height=\"58.6875\" style=\"fill:rgb(100%,0%,0%);fill-opacity:1.0;opacity:0.5;stroke:none\" width=\"13.839999999999918\" x=\"1384.6599999999999\" y=\"180.375\"></rect><rect height=\"58.6875\" style=\"fill:rgb(0%,50.2%,0%);fill-opacity:1.0;opacity:0.5;stroke:none\" width=\"13.839999999999918\" x=\"1399.9999999999998\" y=\"180.375\"></rect><rect height=\"58.6875\" style=\"fill:rgb(100%,64.7%,0%);fill-opacity:1.0;opacity:0.5;stroke:none\" width=\"13.839999999999918\" x=\"1415.3399999999997\" y=\"180.375\"></rect><rect height=\"58.6875\" style=\"fill:rgb(0%,50.2%,0%);fill-opacity:1.0;opacity:0.5;stroke:none\" width=\"13.839999999999918\" x=\"1430.6799999999996\" y=\"180.375\"></rect><rect height=\"58.6875\" style=\"fill:rgb(0%,50.2%,0%);fill-opacity:1.0;opacity:0.5;stroke:none\" width=\"13.839999999999918\" x=\"1446.0199999999995\" y=\"180.375\"></rect><rect height=\"58.6875\" style=\"fill:rgb(0%,0%,100%);fill-opacity:1.0;opacity:0.5;stroke:none\" width=\"13.839999999999918\" x=\"1461.3599999999994\" y=\"180.375\"></rect><rect height=\"58.6875\" style=\"fill:rgb(100%,64.7%,0%);fill-opacity:1.0;opacity:0.5;stroke:none\" width=\"13.839999999999918\" x=\"1476.6999999999994\" y=\"180.375\"></rect><rect height=\"58.6875\" style=\"fill:rgb(100%,64.7%,0%);fill-opacity:1.0;opacity:0.5;stroke:none\" width=\"13.839999999999918\" x=\"1492.0399999999993\" y=\"180.375\"></rect><rect height=\"58.6875\" style=\"fill:rgb(100%,0%,0%);fill-opacity:1.0;opacity:0.5;stroke:none\" width=\"13.839999999999918\" x=\"1507.3799999999992\" y=\"180.375\"></rect><rect height=\"58.6875\" style=\"fill:rgb(0%,0%,100%);fill-opacity:1.0;opacity:0.5;stroke:none\" width=\"13.839999999999918\" x=\"1522.7199999999991\" y=\"180.375\"></rect><rect height=\"58.6875\" style=\"fill:rgb(0%,0%,100%);fill-opacity:1.0;opacity:0.5;stroke:none\" width=\"13.839999999999918\" x=\"1538.059999999999\" y=\"180.375\"></rect><rect height=\"58.6875\" style=\"fill:rgb(100%,64.7%,0%);fill-opacity:1.0;opacity:0.5;stroke:none\" width=\"13.839999999999918\" x=\"1553.399999999999\" y=\"180.375\"></rect><rect height=\"58.6875\" style=\"fill:rgb(0%,0%,100%);fill-opacity:1.0;opacity:0.5;stroke:none\" width=\"13.839999999999918\" x=\"1568.7399999999989\" y=\"180.375\"></rect><rect height=\"58.6875\" style=\"fill:rgb(0%,50.2%,0%);fill-opacity:1.0;opacity:0.5;stroke:none\" width=\"13.839999999999918\" x=\"1584.0799999999988\" y=\"180.375\"></rect><rect height=\"58.6875\" style=\"fill:rgb(0%,0%,100%);fill-opacity:1.0;opacity:0.5;stroke:none\" width=\"13.839999999999918\" x=\"1599.4199999999987\" y=\"180.375\"></rect><rect height=\"58.6875\" style=\"fill:rgb(100%,64.7%,0%);fill-opacity:1.0;opacity:0.5;stroke:none\" width=\"13.839999999999918\" x=\"1614.7599999999986\" y=\"180.375\"></rect><rect height=\"58.6875\" style=\"fill:rgb(0%,0%,100%);fill-opacity:1.0;opacity:0.5;stroke:none\" width=\"13.839999999999918\" x=\"1630.0999999999985\" y=\"180.375\"></rect><rect height=\"58.6875\" style=\"fill:rgb(0%,50.2%,0%);fill-opacity:1.0;opacity:0.5;stroke:none\" width=\"13.839999999999918\" x=\"1645.4399999999985\" y=\"180.375\"></rect><rect height=\"58.6875\" style=\"fill:rgb(100%,64.7%,0%);fill-opacity:1.0;opacity:0.5;stroke:none\" width=\"13.839999999999918\" x=\"1660.7799999999984\" y=\"180.375\"></rect><rect height=\"58.6875\" style=\"fill:rgb(0%,0%,100%);fill-opacity:1.0;opacity:0.5;stroke:none\" width=\"13.839999999999918\" x=\"1676.1199999999983\" y=\"180.375\"></rect><rect height=\"58.6875\" style=\"fill:rgb(100%,0%,0%);fill-opacity:1.0;opacity:0.5;stroke:none\" width=\"13.839999999999918\" x=\"1691.4599999999982\" y=\"180.375\"></rect><rect height=\"58.6875\" style=\"fill:rgb(100%,64.7%,0%);fill-opacity:1.0;opacity:0.5;stroke:none\" width=\"13.839999999999918\" x=\"1706.7999999999981\" y=\"180.375\"></rect><rect height=\"58.6875\" style=\"fill:rgb(0%,0%,100%);fill-opacity:1.0;opacity:0.5;stroke:none\" width=\"13.839999999999918\" x=\"1722.139999999998\" y=\"180.375\"></rect><rect height=\"58.6875\" style=\"fill:rgb(0%,50.2%,0%);fill-opacity:1.0;opacity:0.5;stroke:none\" width=\"13.839999999999918\" x=\"1737.479999999998\" y=\"180.375\"></rect><rect height=\"58.6875\" style=\"fill:rgb(0%,0%,100%);fill-opacity:1.0;opacity:0.5;stroke:none\" width=\"13.839999999999918\" x=\"1752.819999999998\" y=\"180.375\"></rect><rect height=\"58.6875\" style=\"fill:rgb(0%,0%,100%);fill-opacity:1.0;opacity:0.5;stroke:none\" width=\"13.839999999999918\" x=\"1768.1599999999978\" y=\"180.375\"></rect><g transform=\"translate(223.0,269.90625)\"><text style=\"fill:rgb(16.1%,15.3%,14.1%);fill-opacity:1.0;font-family:helvetica;font-size:11.0px;font-weight:normal;stroke:none;vertical-align:baseline;white-space:pre\" x=\"-4.8895\" y=\"2.8104999999999993\">r3</text></g><rect height=\"58.6875\" style=\"fill:rgb(100%,64.7%,0%);fill-opacity:1.0;opacity:0.5;stroke:none\" width=\"13.840000000000032\" x=\"249.5\" y=\"240.5625\"></rect><rect height=\"58.6875\" style=\"fill:rgb(100%,0%,0%);fill-opacity:1.0;opacity:0.5;stroke:none\" width=\"13.839999999999975\" x=\"264.84000000000003\" y=\"240.5625\"></rect><rect height=\"58.6875\" style=\"fill:rgb(100%,64.7%,0%);fill-opacity:1.0;opacity:0.5;stroke:none\" width=\"13.839999999999975\" x=\"280.18\" y=\"240.5625\"></rect><rect height=\"58.6875\" style=\"fill:rgb(0%,50.2%,0%);fill-opacity:1.0;opacity:0.5;stroke:none\" width=\"13.840000000000032\" x=\"295.52\" y=\"240.5625\"></rect><rect height=\"58.6875\" style=\"fill:rgb(100%,0%,0%);fill-opacity:1.0;opacity:0.5;stroke:none\" width=\"13.840000000000032\" x=\"310.86\" y=\"240.5625\"></rect><rect height=\"58.6875\" style=\"fill:rgb(0%,50.2%,0%);fill-opacity:1.0;opacity:0.5;stroke:none\" width=\"13.839999999999975\" x=\"326.20000000000005\" y=\"240.5625\"></rect><rect height=\"58.6875\" style=\"fill:rgb(0%,0%,100%);fill-opacity:1.0;opacity:0.5;stroke:none\" width=\"13.839999999999975\" x=\"341.54\" y=\"240.5625\"></rect><rect height=\"58.6875\" style=\"fill:rgb(0%,50.2%,0%);fill-opacity:1.0;opacity:0.5;stroke:none\" width=\"13.840000000000032\" x=\"356.88\" y=\"240.5625\"></rect><rect height=\"58.6875\" style=\"fill:rgb(100%,64.7%,0%);fill-opacity:1.0;opacity:0.5;stroke:none\" width=\"13.840000000000032\" x=\"372.22\" y=\"240.5625\"></rect><rect height=\"58.6875\" style=\"fill:rgb(0%,50.2%,0%);fill-opacity:1.0;opacity:0.5;stroke:none\" width=\"13.839999999999975\" x=\"387.56000000000006\" y=\"240.5625\"></rect><rect height=\"58.6875\" style=\"fill:rgb(0%,50.2%,0%);fill-opacity:1.0;opacity:0.5;stroke:none\" width=\"13.839999999999975\" x=\"402.90000000000003\" y=\"240.5625\"></rect><rect height=\"58.6875\" style=\"fill:rgb(0%,50.2%,0%);fill-opacity:1.0;opacity:0.5;stroke:none\" width=\"13.840000000000032\" x=\"418.24\" y=\"240.5625\"></rect><rect height=\"58.6875\" style=\"fill:rgb(100%,64.7%,0%);fill-opacity:1.0;opacity:0.5;stroke:none\" width=\"13.840000000000032\" x=\"433.58000000000004\" y=\"240.5625\"></rect><rect height=\"58.6875\" style=\"fill:rgb(0%,50.2%,0%);fill-opacity:1.0;opacity:0.5;stroke:none\" width=\"13.839999999999975\" x=\"448.9200000000001\" y=\"240.5625\"></rect><rect height=\"58.6875\" style=\"fill:rgb(100%,0%,0%);fill-opacity:1.0;opacity:0.5;stroke:none\" width=\"13.839999999999975\" x=\"464.26000000000005\" y=\"240.5625\"></rect><rect height=\"58.6875\" style=\"fill:rgb(0%,50.2%,0%);fill-opacity:1.0;opacity:0.5;stroke:none\" width=\"13.839999999999975\" x=\"479.6\" y=\"240.5625\"></rect><rect height=\"58.6875\" style=\"fill:rgb(0%,50.2%,0%);fill-opacity:1.0;opacity:0.5;stroke:none\" width=\"13.839999999999975\" x=\"494.94\" y=\"240.5625\"></rect><rect height=\"58.6875\" style=\"fill:rgb(0%,50.2%,0%);fill-opacity:1.0;opacity:0.5;stroke:none\" width=\"13.839999999999918\" x=\"510.28\" y=\"240.5625\"></rect><rect height=\"58.6875\" style=\"fill:rgb(0%,50.2%,0%);fill-opacity:1.0;opacity:0.5;stroke:none\" width=\"13.840000000000032\" x=\"525.6199999999999\" y=\"240.5625\"></rect><rect height=\"58.6875\" style=\"fill:rgb(100%,0%,0%);fill-opacity:1.0;opacity:0.5;stroke:none\" width=\"13.840000000000032\" x=\"540.9599999999999\" y=\"240.5625\"></rect><rect height=\"58.6875\" style=\"fill:rgb(0%,0%,100%);fill-opacity:1.0;opacity:0.5;stroke:none\" width=\"13.839999999999918\" x=\"556.3\" y=\"240.5625\"></rect><rect height=\"58.6875\" style=\"fill:rgb(100%,0%,0%);fill-opacity:1.0;opacity:0.5;stroke:none\" width=\"13.839999999999918\" x=\"571.6399999999999\" y=\"240.5625\"></rect><rect height=\"58.6875\" style=\"fill:rgb(100%,64.7%,0%);fill-opacity:1.0;opacity:0.5;stroke:none\" width=\"13.840000000000032\" x=\"586.9799999999998\" y=\"240.5625\"></rect><rect height=\"58.6875\" style=\"fill:rgb(100%,0%,0%);fill-opacity:1.0;opacity:0.5;stroke:none\" width=\"13.840000000000032\" x=\"602.3199999999998\" y=\"240.5625\"></rect><rect height=\"58.6875\" style=\"fill:rgb(100%,64.7%,0%);fill-opacity:1.0;opacity:0.5;stroke:none\" width=\"13.839999999999918\" x=\"617.6599999999999\" y=\"240.5625\"></rect><rect height=\"58.6875\" style=\"fill:rgb(0%,50.2%,0%);fill-opacity:1.0;opacity:0.5;stroke:none\" width=\"13.839999999999918\" x=\"632.9999999999998\" y=\"240.5625\"></rect><rect height=\"58.6875\" style=\"fill:rgb(0%,0%,100%);fill-opacity:1.0;opacity:0.5;stroke:none\" width=\"13.840000000000032\" x=\"648.3399999999997\" y=\"240.5625\"></rect><rect height=\"58.6875\" style=\"fill:rgb(100%,0%,0%);fill-opacity:1.0;opacity:0.5;stroke:none\" width=\"13.840000000000032\" x=\"663.6799999999997\" y=\"240.5625\"></rect><rect height=\"58.6875\" style=\"fill:rgb(0%,0%,100%);fill-opacity:1.0;opacity:0.5;stroke:none\" width=\"13.839999999999918\" x=\"679.0199999999998\" y=\"240.5625\"></rect><rect height=\"58.6875\" style=\"fill:rgb(0%,0%,100%);fill-opacity:1.0;opacity:0.5;stroke:none\" width=\"13.839999999999918\" x=\"694.3599999999997\" y=\"240.5625\"></rect><rect height=\"58.6875\" style=\"fill:rgb(0%,50.2%,0%);fill-opacity:1.0;opacity:0.5;stroke:none\" width=\"13.840000000000032\" x=\"709.6999999999996\" y=\"240.5625\"></rect><rect height=\"58.6875\" style=\"fill:rgb(100%,0%,0%);fill-opacity:1.0;opacity:0.5;stroke:none\" width=\"13.840000000000032\" x=\"725.0399999999996\" y=\"240.5625\"></rect><rect height=\"58.6875\" style=\"fill:rgb(0%,50.2%,0%);fill-opacity:1.0;opacity:0.5;stroke:none\" width=\"13.840000000000032\" x=\"740.3799999999997\" y=\"240.5625\"></rect><rect height=\"58.6875\" style=\"fill:rgb(100%,64.7%,0%);fill-opacity:1.0;opacity:0.5;stroke:none\" width=\"13.840000000000032\" x=\"755.7199999999997\" y=\"240.5625\"></rect><rect height=\"58.6875\" style=\"fill:rgb(0%,50.2%,0%);fill-opacity:1.0;opacity:0.5;stroke:none\" width=\"13.840000000000032\" x=\"771.0599999999997\" y=\"240.5625\"></rect><rect height=\"58.6875\" style=\"fill:rgb(100%,64.7%,0%);fill-opacity:1.0;opacity:0.5;stroke:none\" width=\"13.840000000000032\" x=\"786.3999999999997\" y=\"240.5625\"></rect><rect height=\"58.6875\" style=\"fill:rgb(100%,64.7%,0%);fill-opacity:1.0;opacity:0.5;stroke:none\" width=\"13.840000000000032\" x=\"801.7399999999998\" y=\"240.5625\"></rect><rect height=\"58.6875\" style=\"fill:rgb(100%,0%,0%);fill-opacity:1.0;opacity:0.5;stroke:none\" width=\"13.840000000000032\" x=\"817.0799999999998\" y=\"240.5625\"></rect><rect height=\"58.6875\" style=\"fill:rgb(0%,0%,100%);fill-opacity:1.0;opacity:0.5;stroke:none\" width=\"13.840000000000032\" x=\"832.4199999999998\" y=\"240.5625\"></rect><rect height=\"58.6875\" style=\"fill:rgb(0%,0%,100%);fill-opacity:1.0;opacity:0.5;stroke:none\" width=\"13.840000000000032\" x=\"847.7599999999999\" y=\"240.5625\"></rect><rect height=\"58.6875\" style=\"fill:rgb(0%,50.2%,0%);fill-opacity:1.0;opacity:0.5;stroke:none\" width=\"13.840000000000032\" x=\"863.0999999999999\" y=\"240.5625\"></rect><rect height=\"58.6875\" style=\"fill:rgb(0%,0%,100%);fill-opacity:1.0;opacity:0.5;stroke:none\" width=\"13.840000000000032\" x=\"878.4399999999999\" y=\"240.5625\"></rect><rect height=\"58.6875\" style=\"fill:rgb(100%,0%,0%);fill-opacity:1.0;opacity:0.5;stroke:none\" width=\"13.840000000000032\" x=\"893.78\" y=\"240.5625\"></rect><rect height=\"58.6875\" style=\"fill:rgb(0%,50.2%,0%);fill-opacity:1.0;opacity:0.5;stroke:none\" width=\"13.840000000000032\" x=\"909.12\" y=\"240.5625\"></rect><rect height=\"58.6875\" style=\"fill:rgb(100%,0%,0%);fill-opacity:1.0;opacity:0.5;stroke:none\" width=\"13.840000000000032\" x=\"924.46\" y=\"240.5625\"></rect><rect height=\"58.6875\" style=\"fill:rgb(0%,50.2%,0%);fill-opacity:1.0;opacity:0.5;stroke:none\" width=\"13.840000000000032\" x=\"939.8000000000001\" y=\"240.5625\"></rect><rect height=\"58.6875\" style=\"fill:rgb(0%,50.2%,0%);fill-opacity:1.0;opacity:0.5;stroke:none\" width=\"13.840000000000032\" x=\"955.1400000000001\" y=\"240.5625\"></rect><rect height=\"58.6875\" style=\"fill:rgb(0%,50.2%,0%);fill-opacity:1.0;opacity:0.5;stroke:none\" width=\"13.840000000000032\" x=\"970.4800000000001\" y=\"240.5625\"></rect><rect height=\"58.6875\" style=\"fill:rgb(100%,64.7%,0%);fill-opacity:1.0;opacity:0.5;stroke:none\" width=\"13.840000000000032\" x=\"985.8200000000002\" y=\"240.5625\"></rect><rect height=\"58.6875\" style=\"fill:rgb(0%,50.2%,0%);fill-opacity:1.0;opacity:0.5;stroke:none\" width=\"13.840000000000032\" x=\"1001.1600000000002\" y=\"240.5625\"></rect><rect height=\"58.6875\" style=\"fill:rgb(100%,0%,0%);fill-opacity:1.0;opacity:0.5;stroke:none\" width=\"13.839999999999918\" x=\"1016.5000000000002\" y=\"240.5625\"></rect><rect height=\"58.6875\" style=\"fill:rgb(100%,0%,0%);fill-opacity:1.0;opacity:0.5;stroke:none\" width=\"13.840000000000146\" x=\"1031.8400000000001\" y=\"240.5625\"></rect><rect height=\"58.6875\" style=\"fill:rgb(0%,0%,100%);fill-opacity:1.0;opacity:0.5;stroke:none\" width=\"13.840000000000146\" x=\"1047.1800000000003\" y=\"240.5625\"></rect><rect height=\"58.6875\" style=\"fill:rgb(0%,50.2%,0%);fill-opacity:1.0;opacity:0.5;stroke:none\" width=\"13.839999999999918\" x=\"1062.5200000000004\" y=\"240.5625\"></rect><rect height=\"58.6875\" style=\"fill:rgb(0%,50.2%,0%);fill-opacity:1.0;opacity:0.5;stroke:none\" width=\"13.839999999999918\" x=\"1077.8600000000004\" y=\"240.5625\"></rect><rect height=\"58.6875\" style=\"fill:rgb(0%,0%,100%);fill-opacity:1.0;opacity:0.5;stroke:none\" width=\"13.840000000000146\" x=\"1093.2000000000003\" y=\"240.5625\"></rect><rect height=\"58.6875\" style=\"fill:rgb(100%,64.7%,0%);fill-opacity:1.0;opacity:0.5;stroke:none\" width=\"13.840000000000146\" x=\"1108.5400000000004\" y=\"240.5625\"></rect><rect height=\"58.6875\" style=\"fill:rgb(0%,0%,100%);fill-opacity:1.0;opacity:0.5;stroke:none\" width=\"13.839999999999918\" x=\"1123.8800000000006\" y=\"240.5625\"></rect><rect height=\"58.6875\" style=\"fill:rgb(100%,0%,0%);fill-opacity:1.0;opacity:0.5;stroke:none\" width=\"13.839999999999918\" x=\"1139.2200000000005\" y=\"240.5625\"></rect><rect height=\"58.6875\" style=\"fill:rgb(0%,50.2%,0%);fill-opacity:1.0;opacity:0.5;stroke:none\" width=\"13.840000000000146\" x=\"1154.5600000000004\" y=\"240.5625\"></rect><rect height=\"58.6875\" style=\"fill:rgb(100%,0%,0%);fill-opacity:1.0;opacity:0.5;stroke:none\" width=\"13.840000000000146\" x=\"1169.9000000000005\" y=\"240.5625\"></rect><rect height=\"58.6875\" style=\"fill:rgb(0%,0%,100%);fill-opacity:1.0;opacity:0.5;stroke:none\" width=\"13.839999999999918\" x=\"1185.2400000000007\" y=\"240.5625\"></rect><rect height=\"58.6875\" style=\"fill:rgb(100%,64.7%,0%);fill-opacity:1.0;opacity:0.5;stroke:none\" width=\"13.839999999999918\" x=\"1200.5800000000006\" y=\"240.5625\"></rect><rect height=\"58.6875\" style=\"fill:rgb(100%,0%,0%);fill-opacity:1.0;opacity:0.5;stroke:none\" width=\"13.840000000000146\" x=\"1215.9200000000005\" y=\"240.5625\"></rect><rect height=\"58.6875\" style=\"fill:rgb(100%,64.7%,0%);fill-opacity:1.0;opacity:0.5;stroke:none\" width=\"13.839999999999918\" x=\"1231.2600000000007\" y=\"240.5625\"></rect><rect height=\"58.6875\" style=\"fill:rgb(0%,50.2%,0%);fill-opacity:1.0;opacity:0.5;stroke:none\" width=\"13.839999999999918\" x=\"1246.6000000000006\" y=\"240.5625\"></rect><rect height=\"58.6875\" style=\"fill:rgb(100%,64.7%,0%);fill-opacity:1.0;opacity:0.5;stroke:none\" width=\"13.839999999999918\" x=\"1261.9400000000005\" y=\"240.5625\"></rect><rect height=\"58.6875\" style=\"fill:rgb(100%,64.7%,0%);fill-opacity:1.0;opacity:0.5;stroke:none\" width=\"13.839999999999918\" x=\"1277.2800000000004\" y=\"240.5625\"></rect><rect height=\"58.6875\" style=\"fill:rgb(100%,64.7%,0%);fill-opacity:1.0;opacity:0.5;stroke:none\" width=\"13.839999999999918\" x=\"1292.6200000000003\" y=\"240.5625\"></rect><rect height=\"58.6875\" style=\"fill:rgb(0%,50.2%,0%);fill-opacity:1.0;opacity:0.5;stroke:none\" width=\"13.839999999999918\" x=\"1307.9600000000003\" y=\"240.5625\"></rect><rect height=\"58.6875\" style=\"fill:rgb(0%,0%,100%);fill-opacity:1.0;opacity:0.5;stroke:none\" width=\"13.839999999999918\" x=\"1323.3000000000002\" y=\"240.5625\"></rect><rect height=\"58.6875\" style=\"fill:rgb(0%,0%,100%);fill-opacity:1.0;opacity:0.5;stroke:none\" width=\"13.839999999999918\" x=\"1338.64\" y=\"240.5625\"></rect><rect height=\"58.6875\" style=\"fill:rgb(100%,64.7%,0%);fill-opacity:1.0;opacity:0.5;stroke:none\" width=\"13.839999999999918\" x=\"1353.98\" y=\"240.5625\"></rect><rect height=\"58.6875\" style=\"fill:rgb(0%,50.2%,0%);fill-opacity:1.0;opacity:0.5;stroke:none\" width=\"13.839999999999918\" x=\"1369.32\" y=\"240.5625\"></rect><rect height=\"58.6875\" style=\"fill:rgb(100%,0%,0%);fill-opacity:1.0;opacity:0.5;stroke:none\" width=\"13.839999999999918\" x=\"1384.6599999999999\" y=\"240.5625\"></rect><rect height=\"58.6875\" style=\"fill:rgb(0%,50.2%,0%);fill-opacity:1.0;opacity:0.5;stroke:none\" width=\"13.839999999999918\" x=\"1399.9999999999998\" y=\"240.5625\"></rect><rect height=\"58.6875\" style=\"fill:rgb(100%,0%,0%);fill-opacity:1.0;opacity:0.5;stroke:none\" width=\"13.839999999999918\" x=\"1415.3399999999997\" y=\"240.5625\"></rect><rect height=\"58.6875\" style=\"fill:rgb(0%,50.2%,0%);fill-opacity:1.0;opacity:0.5;stroke:none\" width=\"13.839999999999918\" x=\"1430.6799999999996\" y=\"240.5625\"></rect><rect height=\"58.6875\" style=\"fill:rgb(0%,50.2%,0%);fill-opacity:1.0;opacity:0.5;stroke:none\" width=\"13.839999999999918\" x=\"1446.0199999999995\" y=\"240.5625\"></rect><rect height=\"58.6875\" style=\"fill:rgb(0%,0%,100%);fill-opacity:1.0;opacity:0.5;stroke:none\" width=\"13.839999999999918\" x=\"1461.3599999999994\" y=\"240.5625\"></rect><rect height=\"58.6875\" style=\"fill:rgb(100%,64.7%,0%);fill-opacity:1.0;opacity:0.5;stroke:none\" width=\"13.839999999999918\" x=\"1476.6999999999994\" y=\"240.5625\"></rect><rect height=\"58.6875\" style=\"fill:rgb(100%,64.7%,0%);fill-opacity:1.0;opacity:0.5;stroke:none\" width=\"13.839999999999918\" x=\"1492.0399999999993\" y=\"240.5625\"></rect><rect height=\"58.6875\" style=\"fill:rgb(100%,0%,0%);fill-opacity:1.0;opacity:0.5;stroke:none\" width=\"13.839999999999918\" x=\"1507.3799999999992\" y=\"240.5625\"></rect><rect height=\"58.6875\" style=\"fill:rgb(0%,0%,100%);fill-opacity:1.0;opacity:0.5;stroke:none\" width=\"13.839999999999918\" x=\"1522.7199999999991\" y=\"240.5625\"></rect><rect height=\"58.6875\" style=\"fill:rgb(0%,0%,100%);fill-opacity:1.0;opacity:0.5;stroke:none\" width=\"13.839999999999918\" x=\"1538.059999999999\" y=\"240.5625\"></rect><rect height=\"58.6875\" style=\"fill:rgb(100%,64.7%,0%);fill-opacity:1.0;opacity:0.5;stroke:none\" width=\"13.839999999999918\" x=\"1553.399999999999\" y=\"240.5625\"></rect><rect height=\"58.6875\" style=\"fill:rgb(0%,0%,100%);fill-opacity:1.0;opacity:0.5;stroke:none\" width=\"13.839999999999918\" x=\"1568.7399999999989\" y=\"240.5625\"></rect><rect height=\"58.6875\" style=\"fill:rgb(0%,50.2%,0%);fill-opacity:1.0;opacity:0.5;stroke:none\" width=\"13.839999999999918\" x=\"1584.0799999999988\" y=\"240.5625\"></rect><rect height=\"58.6875\" style=\"fill:rgb(0%,0%,100%);fill-opacity:1.0;opacity:0.5;stroke:none\" width=\"13.839999999999918\" x=\"1599.4199999999987\" y=\"240.5625\"></rect><rect height=\"58.6875\" style=\"fill:rgb(100%,64.7%,0%);fill-opacity:1.0;opacity:0.5;stroke:none\" width=\"13.839999999999918\" x=\"1614.7599999999986\" y=\"240.5625\"></rect><rect height=\"58.6875\" style=\"fill:rgb(100%,64.7%,0%);fill-opacity:1.0;opacity:0.5;stroke:none\" width=\"13.839999999999918\" x=\"1630.0999999999985\" y=\"240.5625\"></rect><rect height=\"58.6875\" style=\"fill:rgb(100%,0%,0%);fill-opacity:1.0;opacity:0.5;stroke:none\" width=\"13.839999999999918\" x=\"1645.4399999999985\" y=\"240.5625\"></rect><rect height=\"58.6875\" style=\"fill:rgb(100%,0%,0%);fill-opacity:1.0;opacity:0.5;stroke:none\" width=\"13.839999999999918\" x=\"1660.7799999999984\" y=\"240.5625\"></rect><rect height=\"58.6875\" style=\"fill:rgb(0%,0%,100%);fill-opacity:1.0;opacity:0.5;stroke:none\" width=\"13.839999999999918\" x=\"1676.1199999999983\" y=\"240.5625\"></rect><rect height=\"58.6875\" style=\"fill:rgb(0%,0%,100%);fill-opacity:1.0;opacity:0.5;stroke:none\" width=\"13.839999999999918\" x=\"1691.4599999999982\" y=\"240.5625\"></rect><rect height=\"58.6875\" style=\"fill:rgb(100%,0%,0%);fill-opacity:1.0;opacity:0.5;stroke:none\" width=\"13.839999999999918\" x=\"1706.7999999999981\" y=\"240.5625\"></rect><rect height=\"58.6875\" style=\"fill:rgb(0%,50.2%,0%);fill-opacity:1.0;opacity:0.5;stroke:none\" width=\"13.839999999999918\" x=\"1722.139999999998\" y=\"240.5625\"></rect><rect height=\"58.6875\" style=\"fill:rgb(0%,50.2%,0%);fill-opacity:1.0;opacity:0.5;stroke:none\" width=\"13.839999999999918\" x=\"1737.479999999998\" y=\"240.5625\"></rect><rect height=\"58.6875\" style=\"fill:rgb(0%,0%,100%);fill-opacity:1.0;opacity:0.5;stroke:none\" width=\"13.839999999999918\" x=\"1752.819999999998\" y=\"240.5625\"></rect><rect height=\"58.6875\" style=\"fill:rgb(100%,0%,0%);fill-opacity:1.0;opacity:0.5;stroke:none\" width=\"13.839999999999918\" x=\"1768.1599999999978\" y=\"240.5625\"></rect><g transform=\"translate(223.0,330.09375)\"><text style=\"fill:rgb(16.1%,15.3%,14.1%);fill-opacity:1.0;font-family:helvetica;font-size:11.0px;font-weight:normal;stroke:none;vertical-align:baseline;white-space:pre\" x=\"-4.8895\" y=\"2.8104999999999993\">r4</text></g><rect height=\"58.6875\" style=\"fill:rgb(100%,64.7%,0%);fill-opacity:1.0;opacity:0.5;stroke:none\" width=\"13.840000000000032\" x=\"249.5\" y=\"300.75\"></rect><rect height=\"58.6875\" style=\"fill:rgb(100%,0%,0%);fill-opacity:1.0;opacity:0.5;stroke:none\" width=\"13.839999999999975\" x=\"264.84000000000003\" y=\"300.75\"></rect><rect height=\"58.6875\" style=\"fill:rgb(0%,50.2%,0%);fill-opacity:1.0;opacity:0.5;stroke:none\" width=\"13.839999999999975\" x=\"280.18\" y=\"300.75\"></rect><rect height=\"58.6875\" style=\"fill:rgb(0%,50.2%,0%);fill-opacity:1.0;opacity:0.5;stroke:none\" width=\"13.840000000000032\" x=\"295.52\" y=\"300.75\"></rect><rect height=\"58.6875\" style=\"fill:rgb(100%,0%,0%);fill-opacity:1.0;opacity:0.5;stroke:none\" width=\"13.840000000000032\" x=\"310.86\" y=\"300.75\"></rect><rect height=\"58.6875\" style=\"fill:rgb(0%,50.2%,0%);fill-opacity:1.0;opacity:0.5;stroke:none\" width=\"13.839999999999975\" x=\"326.20000000000005\" y=\"300.75\"></rect><rect height=\"58.6875\" style=\"fill:rgb(0%,0%,100%);fill-opacity:1.0;opacity:0.5;stroke:none\" width=\"13.839999999999975\" x=\"341.54\" y=\"300.75\"></rect><rect height=\"58.6875\" style=\"fill:rgb(0%,50.2%,0%);fill-opacity:1.0;opacity:0.5;stroke:none\" width=\"13.840000000000032\" x=\"356.88\" y=\"300.75\"></rect><rect height=\"58.6875\" style=\"fill:rgb(100%,64.7%,0%);fill-opacity:1.0;opacity:0.5;stroke:none\" width=\"13.840000000000032\" x=\"372.22\" y=\"300.75\"></rect><rect height=\"58.6875\" style=\"fill:rgb(0%,50.2%,0%);fill-opacity:1.0;opacity:0.5;stroke:none\" width=\"13.839999999999975\" x=\"387.56000000000006\" y=\"300.75\"></rect><rect height=\"58.6875\" style=\"fill:rgb(0%,50.2%,0%);fill-opacity:1.0;opacity:0.5;stroke:none\" width=\"13.839999999999975\" x=\"402.90000000000003\" y=\"300.75\"></rect><rect height=\"58.6875\" style=\"fill:rgb(0%,50.2%,0%);fill-opacity:1.0;opacity:0.5;stroke:none\" width=\"13.840000000000032\" x=\"418.24\" y=\"300.75\"></rect><rect height=\"58.6875\" style=\"fill:rgb(100%,64.7%,0%);fill-opacity:1.0;opacity:0.5;stroke:none\" width=\"13.840000000000032\" x=\"433.58000000000004\" y=\"300.75\"></rect><rect height=\"58.6875\" style=\"fill:rgb(0%,50.2%,0%);fill-opacity:1.0;opacity:0.5;stroke:none\" width=\"13.839999999999975\" x=\"448.9200000000001\" y=\"300.75\"></rect><rect height=\"58.6875\" style=\"fill:rgb(100%,0%,0%);fill-opacity:1.0;opacity:0.5;stroke:none\" width=\"13.839999999999975\" x=\"464.26000000000005\" y=\"300.75\"></rect><rect height=\"58.6875\" style=\"fill:rgb(0%,50.2%,0%);fill-opacity:1.0;opacity:0.5;stroke:none\" width=\"13.839999999999975\" x=\"479.6\" y=\"300.75\"></rect><rect height=\"58.6875\" style=\"fill:rgb(0%,50.2%,0%);fill-opacity:1.0;opacity:0.5;stroke:none\" width=\"13.839999999999975\" x=\"494.94\" y=\"300.75\"></rect><rect height=\"58.6875\" style=\"fill:rgb(0%,50.2%,0%);fill-opacity:1.0;opacity:0.5;stroke:none\" width=\"13.839999999999918\" x=\"510.28\" y=\"300.75\"></rect><rect height=\"58.6875\" style=\"fill:rgb(0%,50.2%,0%);fill-opacity:1.0;opacity:0.5;stroke:none\" width=\"13.840000000000032\" x=\"525.6199999999999\" y=\"300.75\"></rect><rect height=\"58.6875\" style=\"fill:rgb(100%,0%,0%);fill-opacity:1.0;opacity:0.5;stroke:none\" width=\"13.840000000000032\" x=\"540.9599999999999\" y=\"300.75\"></rect><rect height=\"58.6875\" style=\"fill:rgb(0%,0%,100%);fill-opacity:1.0;opacity:0.5;stroke:none\" width=\"13.839999999999918\" x=\"556.3\" y=\"300.75\"></rect><rect height=\"58.6875\" style=\"fill:rgb(100%,0%,0%);fill-opacity:1.0;opacity:0.5;stroke:none\" width=\"13.839999999999918\" x=\"571.6399999999999\" y=\"300.75\"></rect><rect height=\"58.6875\" style=\"fill:rgb(100%,64.7%,0%);fill-opacity:1.0;opacity:0.5;stroke:none\" width=\"13.840000000000032\" x=\"586.9799999999998\" y=\"300.75\"></rect><rect height=\"58.6875\" style=\"fill:rgb(100%,0%,0%);fill-opacity:1.0;opacity:0.5;stroke:none\" width=\"13.840000000000032\" x=\"602.3199999999998\" y=\"300.75\"></rect><rect height=\"58.6875\" style=\"fill:rgb(0%,0%,100%);fill-opacity:1.0;opacity:0.5;stroke:none\" width=\"13.839999999999918\" x=\"617.6599999999999\" y=\"300.75\"></rect><rect height=\"58.6875\" style=\"fill:rgb(0%,50.2%,0%);fill-opacity:1.0;opacity:0.5;stroke:none\" width=\"13.839999999999918\" x=\"632.9999999999998\" y=\"300.75\"></rect><rect height=\"58.6875\" style=\"fill:rgb(100%,64.7%,0%);fill-opacity:1.0;opacity:0.5;stroke:none\" width=\"13.840000000000032\" x=\"648.3399999999997\" y=\"300.75\"></rect><rect height=\"58.6875\" style=\"fill:rgb(100%,0%,0%);fill-opacity:1.0;opacity:0.5;stroke:none\" width=\"13.840000000000032\" x=\"663.6799999999997\" y=\"300.75\"></rect><rect height=\"58.6875\" style=\"fill:rgb(0%,0%,100%);fill-opacity:1.0;opacity:0.5;stroke:none\" width=\"13.839999999999918\" x=\"679.0199999999998\" y=\"300.75\"></rect><rect height=\"58.6875\" style=\"fill:rgb(0%,0%,100%);fill-opacity:1.0;opacity:0.5;stroke:none\" width=\"13.839999999999918\" x=\"694.3599999999997\" y=\"300.75\"></rect><rect height=\"58.6875\" style=\"fill:rgb(0%,50.2%,0%);fill-opacity:1.0;opacity:0.5;stroke:none\" width=\"13.840000000000032\" x=\"709.6999999999996\" y=\"300.75\"></rect><rect height=\"58.6875\" style=\"fill:rgb(100%,0%,0%);fill-opacity:1.0;opacity:0.5;stroke:none\" width=\"13.840000000000032\" x=\"725.0399999999996\" y=\"300.75\"></rect><rect height=\"58.6875\" style=\"fill:rgb(0%,50.2%,0%);fill-opacity:1.0;opacity:0.5;stroke:none\" width=\"13.840000000000032\" x=\"740.3799999999997\" y=\"300.75\"></rect><rect height=\"58.6875\" style=\"fill:rgb(100%,64.7%,0%);fill-opacity:1.0;opacity:0.5;stroke:none\" width=\"13.840000000000032\" x=\"755.7199999999997\" y=\"300.75\"></rect><rect height=\"58.6875\" style=\"fill:rgb(0%,50.2%,0%);fill-opacity:1.0;opacity:0.5;stroke:none\" width=\"13.840000000000032\" x=\"771.0599999999997\" y=\"300.75\"></rect><rect height=\"58.6875\" style=\"fill:rgb(100%,64.7%,0%);fill-opacity:1.0;opacity:0.5;stroke:none\" width=\"13.840000000000032\" x=\"786.3999999999997\" y=\"300.75\"></rect><rect height=\"58.6875\" style=\"fill:rgb(100%,64.7%,0%);fill-opacity:1.0;opacity:0.5;stroke:none\" width=\"13.840000000000032\" x=\"801.7399999999998\" y=\"300.75\"></rect><rect height=\"58.6875\" style=\"fill:rgb(100%,0%,0%);fill-opacity:1.0;opacity:0.5;stroke:none\" width=\"13.840000000000032\" x=\"817.0799999999998\" y=\"300.75\"></rect><rect height=\"58.6875\" style=\"fill:rgb(0%,0%,100%);fill-opacity:1.0;opacity:0.5;stroke:none\" width=\"13.840000000000032\" x=\"832.4199999999998\" y=\"300.75\"></rect><rect height=\"58.6875\" style=\"fill:rgb(0%,0%,100%);fill-opacity:1.0;opacity:0.5;stroke:none\" width=\"13.840000000000032\" x=\"847.7599999999999\" y=\"300.75\"></rect><rect height=\"58.6875\" style=\"fill:rgb(100%,64.7%,0%);fill-opacity:1.0;opacity:0.5;stroke:none\" width=\"13.840000000000032\" x=\"863.0999999999999\" y=\"300.75\"></rect><rect height=\"58.6875\" style=\"fill:rgb(0%,0%,100%);fill-opacity:1.0;opacity:0.5;stroke:none\" width=\"13.840000000000032\" x=\"878.4399999999999\" y=\"300.75\"></rect><rect height=\"58.6875\" style=\"fill:rgb(100%,0%,0%);fill-opacity:1.0;opacity:0.5;stroke:none\" width=\"13.840000000000032\" x=\"893.78\" y=\"300.75\"></rect><rect height=\"58.6875\" style=\"fill:rgb(0%,50.2%,0%);fill-opacity:1.0;opacity:0.5;stroke:none\" width=\"13.840000000000032\" x=\"909.12\" y=\"300.75\"></rect><rect height=\"58.6875\" style=\"fill:rgb(100%,0%,0%);fill-opacity:1.0;opacity:0.5;stroke:none\" width=\"13.840000000000032\" x=\"924.46\" y=\"300.75\"></rect><rect height=\"58.6875\" style=\"fill:rgb(0%,50.2%,0%);fill-opacity:1.0;opacity:0.5;stroke:none\" width=\"13.840000000000032\" x=\"939.8000000000001\" y=\"300.75\"></rect><rect height=\"58.6875\" style=\"fill:rgb(0%,50.2%,0%);fill-opacity:1.0;opacity:0.5;stroke:none\" width=\"13.840000000000032\" x=\"955.1400000000001\" y=\"300.75\"></rect><rect height=\"58.6875\" style=\"fill:rgb(0%,50.2%,0%);fill-opacity:1.0;opacity:0.5;stroke:none\" width=\"13.840000000000032\" x=\"970.4800000000001\" y=\"300.75\"></rect><rect height=\"58.6875\" style=\"fill:rgb(100%,64.7%,0%);fill-opacity:1.0;opacity:0.5;stroke:none\" width=\"13.840000000000032\" x=\"985.8200000000002\" y=\"300.75\"></rect><rect height=\"58.6875\" style=\"fill:rgb(0%,50.2%,0%);fill-opacity:1.0;opacity:0.5;stroke:none\" width=\"13.840000000000032\" x=\"1001.1600000000002\" y=\"300.75\"></rect><rect height=\"58.6875\" style=\"fill:rgb(100%,0%,0%);fill-opacity:1.0;opacity:0.5;stroke:none\" width=\"13.839999999999918\" x=\"1016.5000000000002\" y=\"300.75\"></rect><rect height=\"58.6875\" style=\"fill:rgb(0%,50.2%,0%);fill-opacity:1.0;opacity:0.5;stroke:none\" width=\"13.840000000000146\" x=\"1031.8400000000001\" y=\"300.75\"></rect><rect height=\"58.6875\" style=\"fill:rgb(0%,0%,100%);fill-opacity:1.0;opacity:0.5;stroke:none\" width=\"13.840000000000146\" x=\"1047.1800000000003\" y=\"300.75\"></rect><rect height=\"58.6875\" style=\"fill:rgb(0%,50.2%,0%);fill-opacity:1.0;opacity:0.5;stroke:none\" width=\"13.839999999999918\" x=\"1062.5200000000004\" y=\"300.75\"></rect><rect height=\"58.6875\" style=\"fill:rgb(0%,50.2%,0%);fill-opacity:1.0;opacity:0.5;stroke:none\" width=\"13.839999999999918\" x=\"1077.8600000000004\" y=\"300.75\"></rect><rect height=\"58.6875\" style=\"fill:rgb(0%,0%,100%);fill-opacity:1.0;opacity:0.5;stroke:none\" width=\"13.840000000000146\" x=\"1093.2000000000003\" y=\"300.75\"></rect><rect height=\"58.6875\" style=\"fill:rgb(100%,64.7%,0%);fill-opacity:1.0;opacity:0.5;stroke:none\" width=\"13.840000000000146\" x=\"1108.5400000000004\" y=\"300.75\"></rect><rect height=\"58.6875\" style=\"fill:rgb(0%,0%,100%);fill-opacity:1.0;opacity:0.5;stroke:none\" width=\"13.839999999999918\" x=\"1123.8800000000006\" y=\"300.75\"></rect><rect height=\"58.6875\" style=\"fill:rgb(100%,0%,0%);fill-opacity:1.0;opacity:0.5;stroke:none\" width=\"13.839999999999918\" x=\"1139.2200000000005\" y=\"300.75\"></rect><rect height=\"58.6875\" style=\"fill:rgb(0%,50.2%,0%);fill-opacity:1.0;opacity:0.5;stroke:none\" width=\"13.840000000000146\" x=\"1154.5600000000004\" y=\"300.75\"></rect><rect height=\"58.6875\" style=\"fill:rgb(100%,0%,0%);fill-opacity:1.0;opacity:0.5;stroke:none\" width=\"13.840000000000146\" x=\"1169.9000000000005\" y=\"300.75\"></rect><rect height=\"58.6875\" style=\"fill:rgb(0%,0%,100%);fill-opacity:1.0;opacity:0.5;stroke:none\" width=\"13.839999999999918\" x=\"1185.2400000000007\" y=\"300.75\"></rect><rect height=\"58.6875\" style=\"fill:rgb(0%,50.2%,0%);fill-opacity:1.0;opacity:0.5;stroke:none\" width=\"13.839999999999918\" x=\"1200.5800000000006\" y=\"300.75\"></rect><rect height=\"58.6875\" style=\"fill:rgb(100%,0%,0%);fill-opacity:1.0;opacity:0.5;stroke:none\" width=\"13.840000000000146\" x=\"1215.9200000000005\" y=\"300.75\"></rect><rect height=\"58.6875\" style=\"fill:rgb(100%,64.7%,0%);fill-opacity:1.0;opacity:0.5;stroke:none\" width=\"13.839999999999918\" x=\"1231.2600000000007\" y=\"300.75\"></rect><rect height=\"58.6875\" style=\"fill:rgb(100%,0%,0%);fill-opacity:1.0;opacity:0.5;stroke:none\" width=\"13.839999999999918\" x=\"1246.6000000000006\" y=\"300.75\"></rect><rect height=\"58.6875\" style=\"fill:rgb(100%,64.7%,0%);fill-opacity:1.0;opacity:0.5;stroke:none\" width=\"13.839999999999918\" x=\"1261.9400000000005\" y=\"300.75\"></rect><rect height=\"58.6875\" style=\"fill:rgb(100%,64.7%,0%);fill-opacity:1.0;opacity:0.5;stroke:none\" width=\"13.839999999999918\" x=\"1277.2800000000004\" y=\"300.75\"></rect><rect height=\"58.6875\" style=\"fill:rgb(100%,64.7%,0%);fill-opacity:1.0;opacity:0.5;stroke:none\" width=\"13.839999999999918\" x=\"1292.6200000000003\" y=\"300.75\"></rect><rect height=\"58.6875\" style=\"fill:rgb(0%,50.2%,0%);fill-opacity:1.0;opacity:0.5;stroke:none\" width=\"13.839999999999918\" x=\"1307.9600000000003\" y=\"300.75\"></rect><rect height=\"58.6875\" style=\"fill:rgb(0%,0%,100%);fill-opacity:1.0;opacity:0.5;stroke:none\" width=\"13.839999999999918\" x=\"1323.3000000000002\" y=\"300.75\"></rect><rect height=\"58.6875\" style=\"fill:rgb(0%,0%,100%);fill-opacity:1.0;opacity:0.5;stroke:none\" width=\"13.839999999999918\" x=\"1338.64\" y=\"300.75\"></rect><rect height=\"58.6875\" style=\"fill:rgb(100%,64.7%,0%);fill-opacity:1.0;opacity:0.5;stroke:none\" width=\"13.839999999999918\" x=\"1353.98\" y=\"300.75\"></rect><rect height=\"58.6875\" style=\"fill:rgb(0%,50.2%,0%);fill-opacity:1.0;opacity:0.5;stroke:none\" width=\"13.839999999999918\" x=\"1369.32\" y=\"300.75\"></rect><rect height=\"58.6875\" style=\"fill:rgb(100%,0%,0%);fill-opacity:1.0;opacity:0.5;stroke:none\" width=\"13.839999999999918\" x=\"1384.6599999999999\" y=\"300.75\"></rect><rect height=\"58.6875\" style=\"fill:rgb(0%,50.2%,0%);fill-opacity:1.0;opacity:0.5;stroke:none\" width=\"13.839999999999918\" x=\"1399.9999999999998\" y=\"300.75\"></rect><rect height=\"58.6875\" style=\"fill:rgb(100%,0%,0%);fill-opacity:1.0;opacity:0.5;stroke:none\" width=\"13.839999999999918\" x=\"1415.3399999999997\" y=\"300.75\"></rect><rect height=\"58.6875\" style=\"fill:rgb(0%,50.2%,0%);fill-opacity:1.0;opacity:0.5;stroke:none\" width=\"13.839999999999918\" x=\"1430.6799999999996\" y=\"300.75\"></rect><rect height=\"58.6875\" style=\"fill:rgb(0%,50.2%,0%);fill-opacity:1.0;opacity:0.5;stroke:none\" width=\"13.839999999999918\" x=\"1446.0199999999995\" y=\"300.75\"></rect><rect height=\"58.6875\" style=\"fill:rgb(0%,0%,100%);fill-opacity:1.0;opacity:0.5;stroke:none\" width=\"13.839999999999918\" x=\"1461.3599999999994\" y=\"300.75\"></rect><rect height=\"58.6875\" style=\"fill:rgb(100%,64.7%,0%);fill-opacity:1.0;opacity:0.5;stroke:none\" width=\"13.839999999999918\" x=\"1476.6999999999994\" y=\"300.75\"></rect><rect height=\"58.6875\" style=\"fill:rgb(100%,64.7%,0%);fill-opacity:1.0;opacity:0.5;stroke:none\" width=\"13.839999999999918\" x=\"1492.0399999999993\" y=\"300.75\"></rect><rect height=\"58.6875\" style=\"fill:rgb(100%,0%,0%);fill-opacity:1.0;opacity:0.5;stroke:none\" width=\"13.839999999999918\" x=\"1507.3799999999992\" y=\"300.75\"></rect><rect height=\"58.6875\" style=\"fill:rgb(0%,0%,100%);fill-opacity:1.0;opacity:0.5;stroke:none\" width=\"13.839999999999918\" x=\"1522.7199999999991\" y=\"300.75\"></rect><rect height=\"58.6875\" style=\"fill:rgb(0%,0%,100%);fill-opacity:1.0;opacity:0.5;stroke:none\" width=\"13.839999999999918\" x=\"1538.059999999999\" y=\"300.75\"></rect><rect height=\"58.6875\" style=\"fill:rgb(100%,64.7%,0%);fill-opacity:1.0;opacity:0.5;stroke:none\" width=\"13.839999999999918\" x=\"1553.399999999999\" y=\"300.75\"></rect><rect height=\"58.6875\" style=\"fill:rgb(0%,0%,100%);fill-opacity:1.0;opacity:0.5;stroke:none\" width=\"13.839999999999918\" x=\"1568.7399999999989\" y=\"300.75\"></rect><rect height=\"58.6875\" style=\"fill:rgb(0%,50.2%,0%);fill-opacity:1.0;opacity:0.5;stroke:none\" width=\"13.839999999999918\" x=\"1584.0799999999988\" y=\"300.75\"></rect><rect height=\"58.6875\" style=\"fill:rgb(0%,0%,100%);fill-opacity:1.0;opacity:0.5;stroke:none\" width=\"13.839999999999918\" x=\"1599.4199999999987\" y=\"300.75\"></rect><rect height=\"58.6875\" style=\"fill:rgb(100%,64.7%,0%);fill-opacity:1.0;opacity:0.5;stroke:none\" width=\"13.839999999999918\" x=\"1614.7599999999986\" y=\"300.75\"></rect><rect height=\"58.6875\" style=\"fill:rgb(100%,64.7%,0%);fill-opacity:1.0;opacity:0.5;stroke:none\" width=\"13.839999999999918\" x=\"1630.0999999999985\" y=\"300.75\"></rect><rect height=\"58.6875\" style=\"fill:rgb(0%,50.2%,0%);fill-opacity:1.0;opacity:0.5;stroke:none\" width=\"13.839999999999918\" x=\"1645.4399999999985\" y=\"300.75\"></rect><rect height=\"58.6875\" style=\"fill:rgb(100%,0%,0%);fill-opacity:1.0;opacity:0.5;stroke:none\" width=\"13.839999999999918\" x=\"1660.7799999999984\" y=\"300.75\"></rect><rect height=\"58.6875\" style=\"fill:rgb(0%,0%,100%);fill-opacity:1.0;opacity:0.5;stroke:none\" width=\"13.839999999999918\" x=\"1676.1199999999983\" y=\"300.75\"></rect><rect height=\"58.6875\" style=\"fill:rgb(0%,0%,100%);fill-opacity:1.0;opacity:0.5;stroke:none\" width=\"13.839999999999918\" x=\"1691.4599999999982\" y=\"300.75\"></rect><rect height=\"58.6875\" style=\"fill:rgb(100%,0%,0%);fill-opacity:1.0;opacity:0.5;stroke:none\" width=\"13.839999999999918\" x=\"1706.7999999999981\" y=\"300.75\"></rect><rect height=\"58.6875\" style=\"fill:rgb(0%,0%,100%);fill-opacity:1.0;opacity:0.5;stroke:none\" width=\"13.839999999999918\" x=\"1722.139999999998\" y=\"300.75\"></rect><rect height=\"58.6875\" style=\"fill:rgb(0%,50.2%,0%);fill-opacity:1.0;opacity:0.5;stroke:none\" width=\"13.839999999999918\" x=\"1737.479999999998\" y=\"300.75\"></rect><rect height=\"58.6875\" style=\"fill:rgb(0%,0%,100%);fill-opacity:1.0;opacity:0.5;stroke:none\" width=\"13.839999999999918\" x=\"1752.819999999998\" y=\"300.75\"></rect><rect height=\"58.6875\" style=\"fill:rgb(100%,0%,0%);fill-opacity:1.0;opacity:0.5;stroke:none\" width=\"13.839999999999918\" x=\"1768.1599999999978\" y=\"300.75\"></rect><g transform=\"translate(223.0,390.28125)\"><text style=\"fill:rgb(16.1%,15.3%,14.1%);fill-opacity:1.0;font-family:helvetica;font-size:11.0px;font-weight:normal;stroke:none;vertical-align:baseline;white-space:pre\" x=\"-4.8895\" y=\"2.8104999999999993\">r5</text></g><rect height=\"58.6875\" style=\"fill:rgb(100%,64.7%,0%);fill-opacity:1.0;opacity:0.5;stroke:none\" width=\"13.840000000000032\" x=\"249.5\" y=\"360.9375\"></rect><rect height=\"58.6875\" style=\"fill:rgb(100%,0%,0%);fill-opacity:1.0;opacity:0.5;stroke:none\" width=\"13.839999999999975\" x=\"264.84000000000003\" y=\"360.9375\"></rect><rect height=\"58.6875\" style=\"fill:rgb(100%,64.7%,0%);fill-opacity:1.0;opacity:0.5;stroke:none\" width=\"13.839999999999975\" x=\"280.18\" y=\"360.9375\"></rect><rect height=\"58.6875\" style=\"fill:rgb(0%,50.2%,0%);fill-opacity:1.0;opacity:0.5;stroke:none\" width=\"13.840000000000032\" x=\"295.52\" y=\"360.9375\"></rect><rect height=\"58.6875\" style=\"fill:rgb(100%,0%,0%);fill-opacity:1.0;opacity:0.5;stroke:none\" width=\"13.840000000000032\" x=\"310.86\" y=\"360.9375\"></rect><rect height=\"58.6875\" style=\"fill:rgb(0%,50.2%,0%);fill-opacity:1.0;opacity:0.5;stroke:none\" width=\"13.839999999999975\" x=\"326.20000000000005\" y=\"360.9375\"></rect><rect height=\"58.6875\" style=\"fill:rgb(0%,0%,100%);fill-opacity:1.0;opacity:0.5;stroke:none\" width=\"13.839999999999975\" x=\"341.54\" y=\"360.9375\"></rect><rect height=\"58.6875\" style=\"fill:rgb(0%,50.2%,0%);fill-opacity:1.0;opacity:0.5;stroke:none\" width=\"13.840000000000032\" x=\"356.88\" y=\"360.9375\"></rect><rect height=\"58.6875\" style=\"fill:rgb(100%,64.7%,0%);fill-opacity:1.0;opacity:0.5;stroke:none\" width=\"13.840000000000032\" x=\"372.22\" y=\"360.9375\"></rect><rect height=\"58.6875\" style=\"fill:rgb(0%,50.2%,0%);fill-opacity:1.0;opacity:0.5;stroke:none\" width=\"13.839999999999975\" x=\"387.56000000000006\" y=\"360.9375\"></rect><rect height=\"58.6875\" style=\"fill:rgb(0%,50.2%,0%);fill-opacity:1.0;opacity:0.5;stroke:none\" width=\"13.839999999999975\" x=\"402.90000000000003\" y=\"360.9375\"></rect><rect height=\"58.6875\" style=\"fill:rgb(0%,50.2%,0%);fill-opacity:1.0;opacity:0.5;stroke:none\" width=\"13.840000000000032\" x=\"418.24\" y=\"360.9375\"></rect><rect height=\"58.6875\" style=\"fill:rgb(100%,0%,0%);fill-opacity:1.0;opacity:0.5;stroke:none\" width=\"13.840000000000032\" x=\"433.58000000000004\" y=\"360.9375\"></rect><rect height=\"58.6875\" style=\"fill:rgb(0%,50.2%,0%);fill-opacity:1.0;opacity:0.5;stroke:none\" width=\"13.839999999999975\" x=\"448.9200000000001\" y=\"360.9375\"></rect><rect height=\"58.6875\" style=\"fill:rgb(100%,0%,0%);fill-opacity:1.0;opacity:0.5;stroke:none\" width=\"13.839999999999975\" x=\"464.26000000000005\" y=\"360.9375\"></rect><rect height=\"58.6875\" style=\"fill:rgb(0%,50.2%,0%);fill-opacity:1.0;opacity:0.5;stroke:none\" width=\"13.839999999999975\" x=\"479.6\" y=\"360.9375\"></rect><rect height=\"58.6875\" style=\"fill:rgb(0%,50.2%,0%);fill-opacity:1.0;opacity:0.5;stroke:none\" width=\"13.839999999999975\" x=\"494.94\" y=\"360.9375\"></rect><rect height=\"58.6875\" style=\"fill:rgb(0%,50.2%,0%);fill-opacity:1.0;opacity:0.5;stroke:none\" width=\"13.839999999999918\" x=\"510.28\" y=\"360.9375\"></rect><rect height=\"58.6875\" style=\"fill:rgb(0%,50.2%,0%);fill-opacity:1.0;opacity:0.5;stroke:none\" width=\"13.840000000000032\" x=\"525.6199999999999\" y=\"360.9375\"></rect><rect height=\"58.6875\" style=\"fill:rgb(100%,0%,0%);fill-opacity:1.0;opacity:0.5;stroke:none\" width=\"13.840000000000032\" x=\"540.9599999999999\" y=\"360.9375\"></rect><rect height=\"58.6875\" style=\"fill:rgb(0%,0%,100%);fill-opacity:1.0;opacity:0.5;stroke:none\" width=\"13.839999999999918\" x=\"556.3\" y=\"360.9375\"></rect><rect height=\"58.6875\" style=\"fill:rgb(100%,0%,0%);fill-opacity:1.0;opacity:0.5;stroke:none\" width=\"13.839999999999918\" x=\"571.6399999999999\" y=\"360.9375\"></rect><rect height=\"58.6875\" style=\"fill:rgb(100%,64.7%,0%);fill-opacity:1.0;opacity:0.5;stroke:none\" width=\"13.840000000000032\" x=\"586.9799999999998\" y=\"360.9375\"></rect><rect height=\"58.6875\" style=\"fill:rgb(100%,0%,0%);fill-opacity:1.0;opacity:0.5;stroke:none\" width=\"13.840000000000032\" x=\"602.3199999999998\" y=\"360.9375\"></rect><rect height=\"58.6875\" style=\"fill:rgb(0%,0%,100%);fill-opacity:1.0;opacity:0.5;stroke:none\" width=\"13.839999999999918\" x=\"617.6599999999999\" y=\"360.9375\"></rect><rect height=\"58.6875\" style=\"fill:rgb(0%,50.2%,0%);fill-opacity:1.0;opacity:0.5;stroke:none\" width=\"13.839999999999918\" x=\"632.9999999999998\" y=\"360.9375\"></rect><rect height=\"58.6875\" style=\"fill:rgb(0%,0%,100%);fill-opacity:1.0;opacity:0.5;stroke:none\" width=\"13.840000000000032\" x=\"648.3399999999997\" y=\"360.9375\"></rect><rect height=\"58.6875\" style=\"fill:rgb(100%,0%,0%);fill-opacity:1.0;opacity:0.5;stroke:none\" width=\"13.840000000000032\" x=\"663.6799999999997\" y=\"360.9375\"></rect><rect height=\"58.6875\" style=\"fill:rgb(0%,0%,100%);fill-opacity:1.0;opacity:0.5;stroke:none\" width=\"13.839999999999918\" x=\"679.0199999999998\" y=\"360.9375\"></rect><rect height=\"58.6875\" style=\"fill:rgb(0%,0%,100%);fill-opacity:1.0;opacity:0.5;stroke:none\" width=\"13.839999999999918\" x=\"694.3599999999997\" y=\"360.9375\"></rect><rect height=\"58.6875\" style=\"fill:rgb(0%,50.2%,0%);fill-opacity:1.0;opacity:0.5;stroke:none\" width=\"13.840000000000032\" x=\"709.6999999999996\" y=\"360.9375\"></rect><rect height=\"58.6875\" style=\"fill:rgb(100%,0%,0%);fill-opacity:1.0;opacity:0.5;stroke:none\" width=\"13.840000000000032\" x=\"725.0399999999996\" y=\"360.9375\"></rect><rect height=\"58.6875\" style=\"fill:rgb(0%,50.2%,0%);fill-opacity:1.0;opacity:0.5;stroke:none\" width=\"13.840000000000032\" x=\"740.3799999999997\" y=\"360.9375\"></rect><rect height=\"58.6875\" style=\"fill:rgb(100%,64.7%,0%);fill-opacity:1.0;opacity:0.5;stroke:none\" width=\"13.840000000000032\" x=\"755.7199999999997\" y=\"360.9375\"></rect><rect height=\"58.6875\" style=\"fill:rgb(0%,50.2%,0%);fill-opacity:1.0;opacity:0.5;stroke:none\" width=\"13.840000000000032\" x=\"771.0599999999997\" y=\"360.9375\"></rect><rect height=\"58.6875\" style=\"fill:rgb(100%,64.7%,0%);fill-opacity:1.0;opacity:0.5;stroke:none\" width=\"13.840000000000032\" x=\"786.3999999999997\" y=\"360.9375\"></rect><rect height=\"58.6875\" style=\"fill:rgb(100%,64.7%,0%);fill-opacity:1.0;opacity:0.5;stroke:none\" width=\"13.840000000000032\" x=\"801.7399999999998\" y=\"360.9375\"></rect><rect height=\"58.6875\" style=\"fill:rgb(100%,0%,0%);fill-opacity:1.0;opacity:0.5;stroke:none\" width=\"13.840000000000032\" x=\"817.0799999999998\" y=\"360.9375\"></rect><rect height=\"58.6875\" style=\"fill:rgb(0%,0%,100%);fill-opacity:1.0;opacity:0.5;stroke:none\" width=\"13.840000000000032\" x=\"832.4199999999998\" y=\"360.9375\"></rect><rect height=\"58.6875\" style=\"fill:rgb(0%,0%,100%);fill-opacity:1.0;opacity:0.5;stroke:none\" width=\"13.840000000000032\" x=\"847.7599999999999\" y=\"360.9375\"></rect><rect height=\"58.6875\" style=\"fill:rgb(0%,50.2%,0%);fill-opacity:1.0;opacity:0.5;stroke:none\" width=\"13.840000000000032\" x=\"863.0999999999999\" y=\"360.9375\"></rect><rect height=\"58.6875\" style=\"fill:rgb(0%,50.2%,0%);fill-opacity:1.0;opacity:0.5;stroke:none\" width=\"13.840000000000032\" x=\"878.4399999999999\" y=\"360.9375\"></rect><rect height=\"58.6875\" style=\"fill:rgb(100%,0%,0%);fill-opacity:1.0;opacity:0.5;stroke:none\" width=\"13.840000000000032\" x=\"893.78\" y=\"360.9375\"></rect><rect height=\"58.6875\" style=\"fill:rgb(0%,50.2%,0%);fill-opacity:1.0;opacity:0.5;stroke:none\" width=\"13.840000000000032\" x=\"909.12\" y=\"360.9375\"></rect><rect height=\"58.6875\" style=\"fill:rgb(100%,0%,0%);fill-opacity:1.0;opacity:0.5;stroke:none\" width=\"13.840000000000032\" x=\"924.46\" y=\"360.9375\"></rect><rect height=\"58.6875\" style=\"fill:rgb(0%,50.2%,0%);fill-opacity:1.0;opacity:0.5;stroke:none\" width=\"13.840000000000032\" x=\"939.8000000000001\" y=\"360.9375\"></rect><rect height=\"58.6875\" style=\"fill:rgb(0%,50.2%,0%);fill-opacity:1.0;opacity:0.5;stroke:none\" width=\"13.840000000000032\" x=\"955.1400000000001\" y=\"360.9375\"></rect><rect height=\"58.6875\" style=\"fill:rgb(0%,50.2%,0%);fill-opacity:1.0;opacity:0.5;stroke:none\" width=\"13.840000000000032\" x=\"970.4800000000001\" y=\"360.9375\"></rect><rect height=\"58.6875\" style=\"fill:rgb(100%,64.7%,0%);fill-opacity:1.0;opacity:0.5;stroke:none\" width=\"13.840000000000032\" x=\"985.8200000000002\" y=\"360.9375\"></rect><rect height=\"58.6875\" style=\"fill:rgb(0%,50.2%,0%);fill-opacity:1.0;opacity:0.5;stroke:none\" width=\"13.840000000000032\" x=\"1001.1600000000002\" y=\"360.9375\"></rect><rect height=\"58.6875\" style=\"fill:rgb(0%,50.2%,0%);fill-opacity:1.0;opacity:0.5;stroke:none\" width=\"13.839999999999918\" x=\"1016.5000000000002\" y=\"360.9375\"></rect><rect height=\"58.6875\" style=\"fill:rgb(0%,50.2%,0%);fill-opacity:1.0;opacity:0.5;stroke:none\" width=\"13.840000000000146\" x=\"1031.8400000000001\" y=\"360.9375\"></rect><rect height=\"58.6875\" style=\"fill:rgb(0%,0%,100%);fill-opacity:1.0;opacity:0.5;stroke:none\" width=\"13.840000000000146\" x=\"1047.1800000000003\" y=\"360.9375\"></rect><rect height=\"58.6875\" style=\"fill:rgb(0%,50.2%,0%);fill-opacity:1.0;opacity:0.5;stroke:none\" width=\"13.839999999999918\" x=\"1062.5200000000004\" y=\"360.9375\"></rect><rect height=\"58.6875\" style=\"fill:rgb(0%,50.2%,0%);fill-opacity:1.0;opacity:0.5;stroke:none\" width=\"13.839999999999918\" x=\"1077.8600000000004\" y=\"360.9375\"></rect><rect height=\"58.6875\" style=\"fill:rgb(0%,0%,100%);fill-opacity:1.0;opacity:0.5;stroke:none\" width=\"13.840000000000146\" x=\"1093.2000000000003\" y=\"360.9375\"></rect><rect height=\"58.6875\" style=\"fill:rgb(100%,64.7%,0%);fill-opacity:1.0;opacity:0.5;stroke:none\" width=\"13.840000000000146\" x=\"1108.5400000000004\" y=\"360.9375\"></rect><rect height=\"58.6875\" style=\"fill:rgb(0%,0%,100%);fill-opacity:1.0;opacity:0.5;stroke:none\" width=\"13.839999999999918\" x=\"1123.8800000000006\" y=\"360.9375\"></rect><rect height=\"58.6875\" style=\"fill:rgb(100%,0%,0%);fill-opacity:1.0;opacity:0.5;stroke:none\" width=\"13.839999999999918\" x=\"1139.2200000000005\" y=\"360.9375\"></rect><rect height=\"58.6875\" style=\"fill:rgb(0%,50.2%,0%);fill-opacity:1.0;opacity:0.5;stroke:none\" width=\"13.840000000000146\" x=\"1154.5600000000004\" y=\"360.9375\"></rect><rect height=\"58.6875\" style=\"fill:rgb(100%,0%,0%);fill-opacity:1.0;opacity:0.5;stroke:none\" width=\"13.840000000000146\" x=\"1169.9000000000005\" y=\"360.9375\"></rect><rect height=\"58.6875\" style=\"fill:rgb(0%,0%,100%);fill-opacity:1.0;opacity:0.5;stroke:none\" width=\"13.839999999999918\" x=\"1185.2400000000007\" y=\"360.9375\"></rect><rect height=\"58.6875\" style=\"fill:rgb(0%,50.2%,0%);fill-opacity:1.0;opacity:0.5;stroke:none\" width=\"13.839999999999918\" x=\"1200.5800000000006\" y=\"360.9375\"></rect><rect height=\"58.6875\" style=\"fill:rgb(100%,0%,0%);fill-opacity:1.0;opacity:0.5;stroke:none\" width=\"13.840000000000146\" x=\"1215.9200000000005\" y=\"360.9375\"></rect><rect height=\"58.6875\" style=\"fill:rgb(100%,64.7%,0%);fill-opacity:1.0;opacity:0.5;stroke:none\" width=\"13.839999999999918\" x=\"1231.2600000000007\" y=\"360.9375\"></rect><rect height=\"58.6875\" style=\"fill:rgb(100%,0%,0%);fill-opacity:1.0;opacity:0.5;stroke:none\" width=\"13.839999999999918\" x=\"1246.6000000000006\" y=\"360.9375\"></rect><rect height=\"58.6875\" style=\"fill:rgb(100%,64.7%,0%);fill-opacity:1.0;opacity:0.5;stroke:none\" width=\"13.839999999999918\" x=\"1261.9400000000005\" y=\"360.9375\"></rect><rect height=\"58.6875\" style=\"fill:rgb(100%,64.7%,0%);fill-opacity:1.0;opacity:0.5;stroke:none\" width=\"13.839999999999918\" x=\"1277.2800000000004\" y=\"360.9375\"></rect><rect height=\"58.6875\" style=\"fill:rgb(100%,64.7%,0%);fill-opacity:1.0;opacity:0.5;stroke:none\" width=\"13.839999999999918\" x=\"1292.6200000000003\" y=\"360.9375\"></rect><rect height=\"58.6875\" style=\"fill:rgb(0%,50.2%,0%);fill-opacity:1.0;opacity:0.5;stroke:none\" width=\"13.839999999999918\" x=\"1307.9600000000003\" y=\"360.9375\"></rect><rect height=\"58.6875\" style=\"fill:rgb(0%,0%,100%);fill-opacity:1.0;opacity:0.5;stroke:none\" width=\"13.839999999999918\" x=\"1323.3000000000002\" y=\"360.9375\"></rect><rect height=\"58.6875\" style=\"fill:rgb(0%,0%,100%);fill-opacity:1.0;opacity:0.5;stroke:none\" width=\"13.839999999999918\" x=\"1338.64\" y=\"360.9375\"></rect><rect height=\"58.6875\" style=\"fill:rgb(100%,64.7%,0%);fill-opacity:1.0;opacity:0.5;stroke:none\" width=\"13.839999999999918\" x=\"1353.98\" y=\"360.9375\"></rect><rect height=\"58.6875\" style=\"fill:rgb(0%,50.2%,0%);fill-opacity:1.0;opacity:0.5;stroke:none\" width=\"13.839999999999918\" x=\"1369.32\" y=\"360.9375\"></rect><rect height=\"58.6875\" style=\"fill:rgb(100%,0%,0%);fill-opacity:1.0;opacity:0.5;stroke:none\" width=\"13.839999999999918\" x=\"1384.6599999999999\" y=\"360.9375\"></rect><rect height=\"58.6875\" style=\"fill:rgb(0%,50.2%,0%);fill-opacity:1.0;opacity:0.5;stroke:none\" width=\"13.839999999999918\" x=\"1399.9999999999998\" y=\"360.9375\"></rect><rect height=\"58.6875\" style=\"fill:rgb(100%,0%,0%);fill-opacity:1.0;opacity:0.5;stroke:none\" width=\"13.839999999999918\" x=\"1415.3399999999997\" y=\"360.9375\"></rect><rect height=\"58.6875\" style=\"fill:rgb(0%,50.2%,0%);fill-opacity:1.0;opacity:0.5;stroke:none\" width=\"13.839999999999918\" x=\"1430.6799999999996\" y=\"360.9375\"></rect><rect height=\"58.6875\" style=\"fill:rgb(100%,64.7%,0%);fill-opacity:1.0;opacity:0.5;stroke:none\" width=\"13.839999999999918\" x=\"1446.0199999999995\" y=\"360.9375\"></rect><rect height=\"58.6875\" style=\"fill:rgb(0%,0%,100%);fill-opacity:1.0;opacity:0.5;stroke:none\" width=\"13.839999999999918\" x=\"1461.3599999999994\" y=\"360.9375\"></rect><rect height=\"58.6875\" style=\"fill:rgb(100%,64.7%,0%);fill-opacity:1.0;opacity:0.5;stroke:none\" width=\"13.839999999999918\" x=\"1476.6999999999994\" y=\"360.9375\"></rect><rect height=\"58.6875\" style=\"fill:rgb(100%,64.7%,0%);fill-opacity:1.0;opacity:0.5;stroke:none\" width=\"13.839999999999918\" x=\"1492.0399999999993\" y=\"360.9375\"></rect><rect height=\"58.6875\" style=\"fill:rgb(100%,64.7%,0%);fill-opacity:1.0;opacity:0.5;stroke:none\" width=\"13.839999999999918\" x=\"1507.3799999999992\" y=\"360.9375\"></rect><rect height=\"58.6875\" style=\"fill:rgb(0%,0%,100%);fill-opacity:1.0;opacity:0.5;stroke:none\" width=\"13.839999999999918\" x=\"1522.7199999999991\" y=\"360.9375\"></rect><rect height=\"58.6875\" style=\"fill:rgb(0%,0%,100%);fill-opacity:1.0;opacity:0.5;stroke:none\" width=\"13.839999999999918\" x=\"1538.059999999999\" y=\"360.9375\"></rect><rect height=\"58.6875\" style=\"fill:rgb(100%,64.7%,0%);fill-opacity:1.0;opacity:0.5;stroke:none\" width=\"13.839999999999918\" x=\"1553.399999999999\" y=\"360.9375\"></rect><rect height=\"58.6875\" style=\"fill:rgb(0%,0%,100%);fill-opacity:1.0;opacity:0.5;stroke:none\" width=\"13.839999999999918\" x=\"1568.7399999999989\" y=\"360.9375\"></rect><rect height=\"58.6875\" style=\"fill:rgb(0%,50.2%,0%);fill-opacity:1.0;opacity:0.5;stroke:none\" width=\"13.839999999999918\" x=\"1584.0799999999988\" y=\"360.9375\"></rect><rect height=\"58.6875\" style=\"fill:rgb(0%,0%,100%);fill-opacity:1.0;opacity:0.5;stroke:none\" width=\"13.839999999999918\" x=\"1599.4199999999987\" y=\"360.9375\"></rect><rect height=\"58.6875\" style=\"fill:rgb(100%,64.7%,0%);fill-opacity:1.0;opacity:0.5;stroke:none\" width=\"13.839999999999918\" x=\"1614.7599999999986\" y=\"360.9375\"></rect><rect height=\"58.6875\" style=\"fill:rgb(0%,50.2%,0%);fill-opacity:1.0;opacity:0.5;stroke:none\" width=\"13.839999999999918\" x=\"1630.0999999999985\" y=\"360.9375\"></rect><rect height=\"58.6875\" style=\"fill:rgb(0%,50.2%,0%);fill-opacity:1.0;opacity:0.5;stroke:none\" width=\"13.839999999999918\" x=\"1645.4399999999985\" y=\"360.9375\"></rect><rect height=\"58.6875\" style=\"fill:rgb(100%,0%,0%);fill-opacity:1.0;opacity:0.5;stroke:none\" width=\"13.839999999999918\" x=\"1660.7799999999984\" y=\"360.9375\"></rect><rect height=\"58.6875\" style=\"fill:rgb(0%,0%,100%);fill-opacity:1.0;opacity:0.5;stroke:none\" width=\"13.839999999999918\" x=\"1676.1199999999983\" y=\"360.9375\"></rect><rect height=\"58.6875\" style=\"fill:rgb(0%,0%,100%);fill-opacity:1.0;opacity:0.5;stroke:none\" width=\"13.839999999999918\" x=\"1691.4599999999982\" y=\"360.9375\"></rect><rect height=\"58.6875\" style=\"fill:rgb(100%,0%,0%);fill-opacity:1.0;opacity:0.5;stroke:none\" width=\"13.839999999999918\" x=\"1706.7999999999981\" y=\"360.9375\"></rect><rect height=\"58.6875\" style=\"fill:rgb(0%,0%,100%);fill-opacity:1.0;opacity:0.5;stroke:none\" width=\"13.839999999999918\" x=\"1722.139999999998\" y=\"360.9375\"></rect><rect height=\"58.6875\" style=\"fill:rgb(0%,50.2%,0%);fill-opacity:1.0;opacity:0.5;stroke:none\" width=\"13.839999999999918\" x=\"1737.479999999998\" y=\"360.9375\"></rect><rect height=\"58.6875\" style=\"fill:rgb(0%,0%,100%);fill-opacity:1.0;opacity:0.5;stroke:none\" width=\"13.839999999999918\" x=\"1752.819999999998\" y=\"360.9375\"></rect><rect height=\"58.6875\" style=\"fill:rgb(100%,0%,0%);fill-opacity:1.0;opacity:0.5;stroke:none\" width=\"13.839999999999918\" x=\"1768.1599999999978\" y=\"360.9375\"></rect><g transform=\"translate(223.0,450.46875)\"><text style=\"fill:rgb(16.1%,15.3%,14.1%);fill-opacity:1.0;font-family:helvetica;font-size:11.0px;font-weight:normal;stroke:none;vertical-align:baseline;white-space:pre\" x=\"-4.8895\" y=\"2.8104999999999993\">r6</text></g><rect height=\"58.6875\" style=\"fill:rgb(100%,64.7%,0%);fill-opacity:1.0;opacity:0.5;stroke:none\" width=\"13.840000000000032\" x=\"249.5\" y=\"421.125\"></rect><rect height=\"58.6875\" style=\"fill:rgb(100%,64.7%,0%);fill-opacity:1.0;opacity:0.5;stroke:none\" width=\"13.839999999999975\" x=\"264.84000000000003\" y=\"421.125\"></rect><rect height=\"58.6875\" style=\"fill:rgb(100%,0%,0%);fill-opacity:1.0;opacity:0.5;stroke:none\" width=\"13.839999999999975\" x=\"280.18\" y=\"421.125\"></rect><rect height=\"58.6875\" style=\"fill:rgb(0%,50.2%,0%);fill-opacity:1.0;opacity:0.5;stroke:none\" width=\"13.840000000000032\" x=\"295.52\" y=\"421.125\"></rect><rect height=\"58.6875\" style=\"fill:rgb(100%,0%,0%);fill-opacity:1.0;opacity:0.5;stroke:none\" width=\"13.840000000000032\" x=\"310.86\" y=\"421.125\"></rect><rect height=\"58.6875\" style=\"fill:rgb(0%,50.2%,0%);fill-opacity:1.0;opacity:0.5;stroke:none\" width=\"13.839999999999975\" x=\"326.20000000000005\" y=\"421.125\"></rect><rect height=\"58.6875\" style=\"fill:rgb(0%,0%,100%);fill-opacity:1.0;opacity:0.5;stroke:none\" width=\"13.839999999999975\" x=\"341.54\" y=\"421.125\"></rect><rect height=\"58.6875\" style=\"fill:rgb(0%,50.2%,0%);fill-opacity:1.0;opacity:0.5;stroke:none\" width=\"13.840000000000032\" x=\"356.88\" y=\"421.125\"></rect><rect height=\"58.6875\" style=\"fill:rgb(100%,64.7%,0%);fill-opacity:1.0;opacity:0.5;stroke:none\" width=\"13.840000000000032\" x=\"372.22\" y=\"421.125\"></rect><rect height=\"58.6875\" style=\"fill:rgb(0%,50.2%,0%);fill-opacity:1.0;opacity:0.5;stroke:none\" width=\"13.839999999999975\" x=\"387.56000000000006\" y=\"421.125\"></rect><rect height=\"58.6875\" style=\"fill:rgb(0%,50.2%,0%);fill-opacity:1.0;opacity:0.5;stroke:none\" width=\"13.839999999999975\" x=\"402.90000000000003\" y=\"421.125\"></rect><rect height=\"58.6875\" style=\"fill:rgb(0%,50.2%,0%);fill-opacity:1.0;opacity:0.5;stroke:none\" width=\"13.840000000000032\" x=\"418.24\" y=\"421.125\"></rect><rect height=\"58.6875\" style=\"fill:rgb(100%,64.7%,0%);fill-opacity:1.0;opacity:0.5;stroke:none\" width=\"13.840000000000032\" x=\"433.58000000000004\" y=\"421.125\"></rect><rect height=\"58.6875\" style=\"fill:rgb(0%,50.2%,0%);fill-opacity:1.0;opacity:0.5;stroke:none\" width=\"13.839999999999975\" x=\"448.9200000000001\" y=\"421.125\"></rect><rect height=\"58.6875\" style=\"fill:rgb(100%,0%,0%);fill-opacity:1.0;opacity:0.5;stroke:none\" width=\"13.839999999999975\" x=\"464.26000000000005\" y=\"421.125\"></rect><rect height=\"58.6875\" style=\"fill:rgb(0%,50.2%,0%);fill-opacity:1.0;opacity:0.5;stroke:none\" width=\"13.839999999999975\" x=\"479.6\" y=\"421.125\"></rect><rect height=\"58.6875\" style=\"fill:rgb(0%,50.2%,0%);fill-opacity:1.0;opacity:0.5;stroke:none\" width=\"13.839999999999975\" x=\"494.94\" y=\"421.125\"></rect><rect height=\"58.6875\" style=\"fill:rgb(0%,50.2%,0%);fill-opacity:1.0;opacity:0.5;stroke:none\" width=\"13.839999999999918\" x=\"510.28\" y=\"421.125\"></rect><rect height=\"58.6875\" style=\"fill:rgb(0%,50.2%,0%);fill-opacity:1.0;opacity:0.5;stroke:none\" width=\"13.840000000000032\" x=\"525.6199999999999\" y=\"421.125\"></rect><rect height=\"58.6875\" style=\"fill:rgb(100%,0%,0%);fill-opacity:1.0;opacity:0.5;stroke:none\" width=\"13.840000000000032\" x=\"540.9599999999999\" y=\"421.125\"></rect><rect height=\"58.6875\" style=\"fill:rgb(0%,50.2%,0%);fill-opacity:1.0;opacity:0.5;stroke:none\" width=\"13.839999999999918\" x=\"556.3\" y=\"421.125\"></rect><rect height=\"58.6875\" style=\"fill:rgb(100%,0%,0%);fill-opacity:1.0;opacity:0.5;stroke:none\" width=\"13.839999999999918\" x=\"571.6399999999999\" y=\"421.125\"></rect><rect height=\"58.6875\" style=\"fill:rgb(0%,0%,100%);fill-opacity:1.0;opacity:0.5;stroke:none\" width=\"13.840000000000032\" x=\"586.9799999999998\" y=\"421.125\"></rect><rect height=\"58.6875\" style=\"fill:rgb(100%,0%,0%);fill-opacity:1.0;opacity:0.5;stroke:none\" width=\"13.840000000000032\" x=\"602.3199999999998\" y=\"421.125\"></rect><rect height=\"58.6875\" style=\"fill:rgb(0%,50.2%,0%);fill-opacity:1.0;opacity:0.5;stroke:none\" width=\"13.839999999999918\" x=\"617.6599999999999\" y=\"421.125\"></rect><rect height=\"58.6875\" style=\"fill:rgb(0%,50.2%,0%);fill-opacity:1.0;opacity:0.5;stroke:none\" width=\"13.839999999999918\" x=\"632.9999999999998\" y=\"421.125\"></rect><rect height=\"58.6875\" style=\"fill:rgb(0%,0%,100%);fill-opacity:1.0;opacity:0.5;stroke:none\" width=\"13.840000000000032\" x=\"648.3399999999997\" y=\"421.125\"></rect><rect height=\"58.6875\" style=\"fill:rgb(100%,0%,0%);fill-opacity:1.0;opacity:0.5;stroke:none\" width=\"13.840000000000032\" x=\"663.6799999999997\" y=\"421.125\"></rect><rect height=\"58.6875\" style=\"fill:rgb(0%,0%,100%);fill-opacity:1.0;opacity:0.5;stroke:none\" width=\"13.839999999999918\" x=\"679.0199999999998\" y=\"421.125\"></rect><rect height=\"58.6875\" style=\"fill:rgb(0%,0%,100%);fill-opacity:1.0;opacity:0.5;stroke:none\" width=\"13.839999999999918\" x=\"694.3599999999997\" y=\"421.125\"></rect><rect height=\"58.6875\" style=\"fill:rgb(0%,50.2%,0%);fill-opacity:1.0;opacity:0.5;stroke:none\" width=\"13.840000000000032\" x=\"709.6999999999996\" y=\"421.125\"></rect><rect height=\"58.6875\" style=\"fill:rgb(100%,0%,0%);fill-opacity:1.0;opacity:0.5;stroke:none\" width=\"13.840000000000032\" x=\"725.0399999999996\" y=\"421.125\"></rect><rect height=\"58.6875\" style=\"fill:rgb(0%,50.2%,0%);fill-opacity:1.0;opacity:0.5;stroke:none\" width=\"13.840000000000032\" x=\"740.3799999999997\" y=\"421.125\"></rect><rect height=\"58.6875\" style=\"fill:rgb(100%,64.7%,0%);fill-opacity:1.0;opacity:0.5;stroke:none\" width=\"13.840000000000032\" x=\"755.7199999999997\" y=\"421.125\"></rect><rect height=\"58.6875\" style=\"fill:rgb(0%,50.2%,0%);fill-opacity:1.0;opacity:0.5;stroke:none\" width=\"13.840000000000032\" x=\"771.0599999999997\" y=\"421.125\"></rect><rect height=\"58.6875\" style=\"fill:rgb(100%,64.7%,0%);fill-opacity:1.0;opacity:0.5;stroke:none\" width=\"13.840000000000032\" x=\"786.3999999999997\" y=\"421.125\"></rect><rect height=\"58.6875\" style=\"fill:rgb(0%,0%,100%);fill-opacity:1.0;opacity:0.5;stroke:none\" width=\"13.840000000000032\" x=\"801.7399999999998\" y=\"421.125\"></rect><rect height=\"58.6875\" style=\"fill:rgb(100%,0%,0%);fill-opacity:1.0;opacity:0.5;stroke:none\" width=\"13.840000000000032\" x=\"817.0799999999998\" y=\"421.125\"></rect><rect height=\"58.6875\" style=\"fill:rgb(0%,0%,100%);fill-opacity:1.0;opacity:0.5;stroke:none\" width=\"13.840000000000032\" x=\"832.4199999999998\" y=\"421.125\"></rect><rect height=\"58.6875\" style=\"fill:rgb(100%,64.7%,0%);fill-opacity:1.0;opacity:0.5;stroke:none\" width=\"13.840000000000032\" x=\"847.7599999999999\" y=\"421.125\"></rect><rect height=\"58.6875\" style=\"fill:rgb(100%,64.7%,0%);fill-opacity:1.0;opacity:0.5;stroke:none\" width=\"13.840000000000032\" x=\"863.0999999999999\" y=\"421.125\"></rect><rect height=\"58.6875\" style=\"fill:rgb(0%,0%,100%);fill-opacity:1.0;opacity:0.5;stroke:none\" width=\"13.840000000000032\" x=\"878.4399999999999\" y=\"421.125\"></rect><rect height=\"58.6875\" style=\"fill:rgb(100%,0%,0%);fill-opacity:1.0;opacity:0.5;stroke:none\" width=\"13.840000000000032\" x=\"893.78\" y=\"421.125\"></rect><rect height=\"58.6875\" style=\"fill:rgb(100%,0%,0%);fill-opacity:1.0;opacity:0.5;stroke:none\" width=\"13.840000000000032\" x=\"909.12\" y=\"421.125\"></rect><rect height=\"58.6875\" style=\"fill:rgb(100%,0%,0%);fill-opacity:1.0;opacity:0.5;stroke:none\" width=\"13.840000000000032\" x=\"924.46\" y=\"421.125\"></rect><rect height=\"58.6875\" style=\"fill:rgb(0%,50.2%,0%);fill-opacity:1.0;opacity:0.5;stroke:none\" width=\"13.840000000000032\" x=\"939.8000000000001\" y=\"421.125\"></rect><rect height=\"58.6875\" style=\"fill:rgb(0%,50.2%,0%);fill-opacity:1.0;opacity:0.5;stroke:none\" width=\"13.840000000000032\" x=\"955.1400000000001\" y=\"421.125\"></rect><rect height=\"58.6875\" style=\"fill:rgb(0%,0%,100%);fill-opacity:1.0;opacity:0.5;stroke:none\" width=\"13.840000000000032\" x=\"970.4800000000001\" y=\"421.125\"></rect><rect height=\"58.6875\" style=\"fill:rgb(100%,64.7%,0%);fill-opacity:1.0;opacity:0.5;stroke:none\" width=\"13.840000000000032\" x=\"985.8200000000002\" y=\"421.125\"></rect><rect height=\"58.6875\" style=\"fill:rgb(100%,64.7%,0%);fill-opacity:1.0;opacity:0.5;stroke:none\" width=\"13.840000000000032\" x=\"1001.1600000000002\" y=\"421.125\"></rect><rect height=\"58.6875\" style=\"fill:rgb(0%,50.2%,0%);fill-opacity:1.0;opacity:0.5;stroke:none\" width=\"13.839999999999918\" x=\"1016.5000000000002\" y=\"421.125\"></rect><rect height=\"58.6875\" style=\"fill:rgb(100%,0%,0%);fill-opacity:1.0;opacity:0.5;stroke:none\" width=\"13.840000000000146\" x=\"1031.8400000000001\" y=\"421.125\"></rect><rect height=\"58.6875\" style=\"fill:rgb(0%,0%,100%);fill-opacity:1.0;opacity:0.5;stroke:none\" width=\"13.840000000000146\" x=\"1047.1800000000003\" y=\"421.125\"></rect><rect height=\"58.6875\" style=\"fill:rgb(0%,50.2%,0%);fill-opacity:1.0;opacity:0.5;stroke:none\" width=\"13.839999999999918\" x=\"1062.5200000000004\" y=\"421.125\"></rect><rect height=\"58.6875\" style=\"fill:rgb(0%,50.2%,0%);fill-opacity:1.0;opacity:0.5;stroke:none\" width=\"13.839999999999918\" x=\"1077.8600000000004\" y=\"421.125\"></rect><rect height=\"58.6875\" style=\"fill:rgb(100%,0%,0%);fill-opacity:1.0;opacity:0.5;stroke:none\" width=\"13.840000000000146\" x=\"1093.2000000000003\" y=\"421.125\"></rect><rect height=\"58.6875\" style=\"fill:rgb(100%,64.7%,0%);fill-opacity:1.0;opacity:0.5;stroke:none\" width=\"13.840000000000146\" x=\"1108.5400000000004\" y=\"421.125\"></rect><rect height=\"58.6875\" style=\"fill:rgb(0%,0%,100%);fill-opacity:1.0;opacity:0.5;stroke:none\" width=\"13.839999999999918\" x=\"1123.8800000000006\" y=\"421.125\"></rect><rect height=\"58.6875\" style=\"fill:rgb(100%,64.7%,0%);fill-opacity:1.0;opacity:0.5;stroke:none\" width=\"13.839999999999918\" x=\"1139.2200000000005\" y=\"421.125\"></rect><rect height=\"58.6875\" style=\"fill:rgb(0%,50.2%,0%);fill-opacity:1.0;opacity:0.5;stroke:none\" width=\"13.840000000000146\" x=\"1154.5600000000004\" y=\"421.125\"></rect><rect height=\"58.6875\" style=\"fill:rgb(0%,50.2%,0%);fill-opacity:1.0;opacity:0.5;stroke:none\" width=\"13.840000000000146\" x=\"1169.9000000000005\" y=\"421.125\"></rect><rect height=\"58.6875\" style=\"fill:rgb(0%,0%,100%);fill-opacity:1.0;opacity:0.5;stroke:none\" width=\"13.839999999999918\" x=\"1185.2400000000007\" y=\"421.125\"></rect><rect height=\"58.6875\" style=\"fill:rgb(100%,64.7%,0%);fill-opacity:1.0;opacity:0.5;stroke:none\" width=\"13.839999999999918\" x=\"1200.5800000000006\" y=\"421.125\"></rect><rect height=\"58.6875\" style=\"fill:rgb(100%,0%,0%);fill-opacity:1.0;opacity:0.5;stroke:none\" width=\"13.840000000000146\" x=\"1215.9200000000005\" y=\"421.125\"></rect><rect height=\"58.6875\" style=\"fill:rgb(100%,64.7%,0%);fill-opacity:1.0;opacity:0.5;stroke:none\" width=\"13.839999999999918\" x=\"1231.2600000000007\" y=\"421.125\"></rect><rect height=\"58.6875\" style=\"fill:rgb(0%,50.2%,0%);fill-opacity:1.0;opacity:0.5;stroke:none\" width=\"13.839999999999918\" x=\"1246.6000000000006\" y=\"421.125\"></rect><rect height=\"58.6875\" style=\"fill:rgb(100%,64.7%,0%);fill-opacity:1.0;opacity:0.5;stroke:none\" width=\"13.839999999999918\" x=\"1261.9400000000005\" y=\"421.125\"></rect><rect height=\"58.6875\" style=\"fill:rgb(100%,64.7%,0%);fill-opacity:1.0;opacity:0.5;stroke:none\" width=\"13.839999999999918\" x=\"1277.2800000000004\" y=\"421.125\"></rect><rect height=\"58.6875\" style=\"fill:rgb(100%,64.7%,0%);fill-opacity:1.0;opacity:0.5;stroke:none\" width=\"13.839999999999918\" x=\"1292.6200000000003\" y=\"421.125\"></rect><rect height=\"58.6875\" style=\"fill:rgb(0%,50.2%,0%);fill-opacity:1.0;opacity:0.5;stroke:none\" width=\"13.839999999999918\" x=\"1307.9600000000003\" y=\"421.125\"></rect><rect height=\"58.6875\" style=\"fill:rgb(0%,0%,100%);fill-opacity:1.0;opacity:0.5;stroke:none\" width=\"13.839999999999918\" x=\"1323.3000000000002\" y=\"421.125\"></rect><rect height=\"58.6875\" style=\"fill:rgb(0%,0%,100%);fill-opacity:1.0;opacity:0.5;stroke:none\" width=\"13.839999999999918\" x=\"1338.64\" y=\"421.125\"></rect><rect height=\"58.6875\" style=\"fill:rgb(0%,50.2%,0%);fill-opacity:1.0;opacity:0.5;stroke:none\" width=\"13.839999999999918\" x=\"1353.98\" y=\"421.125\"></rect><rect height=\"58.6875\" style=\"fill:rgb(0%,50.2%,0%);fill-opacity:1.0;opacity:0.5;stroke:none\" width=\"13.839999999999918\" x=\"1369.32\" y=\"421.125\"></rect><rect height=\"58.6875\" style=\"fill:rgb(100%,0%,0%);fill-opacity:1.0;opacity:0.5;stroke:none\" width=\"13.839999999999918\" x=\"1384.6599999999999\" y=\"421.125\"></rect><rect height=\"58.6875\" style=\"fill:rgb(0%,50.2%,0%);fill-opacity:1.0;opacity:0.5;stroke:none\" width=\"13.839999999999918\" x=\"1399.9999999999998\" y=\"421.125\"></rect><rect height=\"58.6875\" style=\"fill:rgb(100%,0%,0%);fill-opacity:1.0;opacity:0.5;stroke:none\" width=\"13.839999999999918\" x=\"1415.3399999999997\" y=\"421.125\"></rect><rect height=\"58.6875\" style=\"fill:rgb(0%,50.2%,0%);fill-opacity:1.0;opacity:0.5;stroke:none\" width=\"13.839999999999918\" x=\"1430.6799999999996\" y=\"421.125\"></rect><rect height=\"58.6875\" style=\"fill:rgb(0%,50.2%,0%);fill-opacity:1.0;opacity:0.5;stroke:none\" width=\"13.839999999999918\" x=\"1446.0199999999995\" y=\"421.125\"></rect><rect height=\"58.6875\" style=\"fill:rgb(0%,0%,100%);fill-opacity:1.0;opacity:0.5;stroke:none\" width=\"13.839999999999918\" x=\"1461.3599999999994\" y=\"421.125\"></rect><rect height=\"58.6875\" style=\"fill:rgb(100%,64.7%,0%);fill-opacity:1.0;opacity:0.5;stroke:none\" width=\"13.839999999999918\" x=\"1476.6999999999994\" y=\"421.125\"></rect><rect height=\"58.6875\" style=\"fill:rgb(100%,64.7%,0%);fill-opacity:1.0;opacity:0.5;stroke:none\" width=\"13.839999999999918\" x=\"1492.0399999999993\" y=\"421.125\"></rect><rect height=\"58.6875\" style=\"fill:rgb(100%,0%,0%);fill-opacity:1.0;opacity:0.5;stroke:none\" width=\"13.839999999999918\" x=\"1507.3799999999992\" y=\"421.125\"></rect><rect height=\"58.6875\" style=\"fill:rgb(0%,0%,100%);fill-opacity:1.0;opacity:0.5;stroke:none\" width=\"13.839999999999918\" x=\"1522.7199999999991\" y=\"421.125\"></rect><rect height=\"58.6875\" style=\"fill:rgb(0%,0%,100%);fill-opacity:1.0;opacity:0.5;stroke:none\" width=\"13.839999999999918\" x=\"1538.059999999999\" y=\"421.125\"></rect><rect height=\"58.6875\" style=\"fill:rgb(100%,64.7%,0%);fill-opacity:1.0;opacity:0.5;stroke:none\" width=\"13.839999999999918\" x=\"1553.399999999999\" y=\"421.125\"></rect><rect height=\"58.6875\" style=\"fill:rgb(0%,0%,100%);fill-opacity:1.0;opacity:0.5;stroke:none\" width=\"13.839999999999918\" x=\"1568.7399999999989\" y=\"421.125\"></rect><rect height=\"58.6875\" style=\"fill:rgb(0%,50.2%,0%);fill-opacity:1.0;opacity:0.5;stroke:none\" width=\"13.839999999999918\" x=\"1584.0799999999988\" y=\"421.125\"></rect><rect height=\"58.6875\" style=\"fill:rgb(0%,50.2%,0%);fill-opacity:1.0;opacity:0.5;stroke:none\" width=\"13.839999999999918\" x=\"1599.4199999999987\" y=\"421.125\"></rect><rect height=\"58.6875\" style=\"fill:rgb(100%,64.7%,0%);fill-opacity:1.0;opacity:0.5;stroke:none\" width=\"13.839999999999918\" x=\"1614.7599999999986\" y=\"421.125\"></rect><rect height=\"58.6875\" style=\"fill:rgb(0%,0%,100%);fill-opacity:1.0;opacity:0.5;stroke:none\" width=\"13.839999999999918\" x=\"1630.0999999999985\" y=\"421.125\"></rect><rect height=\"58.6875\" style=\"fill:rgb(0%,50.2%,0%);fill-opacity:1.0;opacity:0.5;stroke:none\" width=\"13.839999999999918\" x=\"1645.4399999999985\" y=\"421.125\"></rect><rect height=\"58.6875\" style=\"fill:rgb(100%,0%,0%);fill-opacity:1.0;opacity:0.5;stroke:none\" width=\"13.839999999999918\" x=\"1660.7799999999984\" y=\"421.125\"></rect><rect height=\"58.6875\" style=\"fill:rgb(0%,50.2%,0%);fill-opacity:1.0;opacity:0.5;stroke:none\" width=\"13.839999999999918\" x=\"1676.1199999999983\" y=\"421.125\"></rect><rect height=\"58.6875\" style=\"fill:rgb(0%,50.2%,0%);fill-opacity:1.0;opacity:0.5;stroke:none\" width=\"13.839999999999918\" x=\"1691.4599999999982\" y=\"421.125\"></rect><rect height=\"58.6875\" style=\"fill:rgb(100%,64.7%,0%);fill-opacity:1.0;opacity:0.5;stroke:none\" width=\"13.839999999999918\" x=\"1706.7999999999981\" y=\"421.125\"></rect><rect height=\"58.6875\" style=\"fill:rgb(0%,0%,100%);fill-opacity:1.0;opacity:0.5;stroke:none\" width=\"13.839999999999918\" x=\"1722.139999999998\" y=\"421.125\"></rect><rect height=\"58.6875\" style=\"fill:rgb(0%,50.2%,0%);fill-opacity:1.0;opacity:0.5;stroke:none\" width=\"13.839999999999918\" x=\"1737.479999999998\" y=\"421.125\"></rect><rect height=\"58.6875\" style=\"fill:rgb(0%,0%,100%);fill-opacity:1.0;opacity:0.5;stroke:none\" width=\"13.839999999999918\" x=\"1752.819999999998\" y=\"421.125\"></rect><rect height=\"58.6875\" style=\"fill:rgb(0%,50.2%,0%);fill-opacity:1.0;opacity:0.5;stroke:none\" width=\"13.839999999999918\" x=\"1768.1599999999978\" y=\"421.125\"></rect><g transform=\"translate(223.0,510.65625)\"><text style=\"fill:rgb(16.1%,15.3%,14.1%);fill-opacity:1.0;font-family:helvetica;font-size:11.0px;font-weight:normal;stroke:none;vertical-align:baseline;white-space:pre\" x=\"-4.8895\" y=\"2.8104999999999993\">r7</text></g><rect height=\"58.6875\" style=\"fill:rgb(100%,64.7%,0%);fill-opacity:1.0;opacity:0.5;stroke:none\" width=\"13.840000000000032\" x=\"249.5\" y=\"481.3125\"></rect><rect height=\"58.6875\" style=\"fill:rgb(100%,64.7%,0%);fill-opacity:1.0;opacity:0.5;stroke:none\" width=\"13.839999999999975\" x=\"264.84000000000003\" y=\"481.3125\"></rect><rect height=\"58.6875\" style=\"fill:rgb(100%,0%,0%);fill-opacity:1.0;opacity:0.5;stroke:none\" width=\"13.839999999999975\" x=\"280.18\" y=\"481.3125\"></rect><rect height=\"58.6875\" style=\"fill:rgb(0%,50.2%,0%);fill-opacity:1.0;opacity:0.5;stroke:none\" width=\"13.840000000000032\" x=\"295.52\" y=\"481.3125\"></rect><rect height=\"58.6875\" style=\"fill:rgb(100%,0%,0%);fill-opacity:1.0;opacity:0.5;stroke:none\" width=\"13.840000000000032\" x=\"310.86\" y=\"481.3125\"></rect><rect height=\"58.6875\" style=\"fill:rgb(0%,50.2%,0%);fill-opacity:1.0;opacity:0.5;stroke:none\" width=\"13.839999999999975\" x=\"326.20000000000005\" y=\"481.3125\"></rect><rect height=\"58.6875\" style=\"fill:rgb(0%,0%,100%);fill-opacity:1.0;opacity:0.5;stroke:none\" width=\"13.839999999999975\" x=\"341.54\" y=\"481.3125\"></rect><rect height=\"58.6875\" style=\"fill:rgb(0%,50.2%,0%);fill-opacity:1.0;opacity:0.5;stroke:none\" width=\"13.840000000000032\" x=\"356.88\" y=\"481.3125\"></rect><rect height=\"58.6875\" style=\"fill:rgb(100%,64.7%,0%);fill-opacity:1.0;opacity:0.5;stroke:none\" width=\"13.840000000000032\" x=\"372.22\" y=\"481.3125\"></rect><rect height=\"58.6875\" style=\"fill:rgb(0%,50.2%,0%);fill-opacity:1.0;opacity:0.5;stroke:none\" width=\"13.839999999999975\" x=\"387.56000000000006\" y=\"481.3125\"></rect><rect height=\"58.6875\" style=\"fill:rgb(0%,50.2%,0%);fill-opacity:1.0;opacity:0.5;stroke:none\" width=\"13.839999999999975\" x=\"402.90000000000003\" y=\"481.3125\"></rect><rect height=\"58.6875\" style=\"fill:rgb(100%,0%,0%);fill-opacity:1.0;opacity:0.5;stroke:none\" width=\"13.840000000000032\" x=\"418.24\" y=\"481.3125\"></rect><rect height=\"58.6875\" style=\"fill:rgb(100%,64.7%,0%);fill-opacity:1.0;opacity:0.5;stroke:none\" width=\"13.840000000000032\" x=\"433.58000000000004\" y=\"481.3125\"></rect><rect height=\"58.6875\" style=\"fill:rgb(0%,50.2%,0%);fill-opacity:1.0;opacity:0.5;stroke:none\" width=\"13.839999999999975\" x=\"448.9200000000001\" y=\"481.3125\"></rect><rect height=\"58.6875\" style=\"fill:rgb(100%,0%,0%);fill-opacity:1.0;opacity:0.5;stroke:none\" width=\"13.839999999999975\" x=\"464.26000000000005\" y=\"481.3125\"></rect><rect height=\"58.6875\" style=\"fill:rgb(0%,50.2%,0%);fill-opacity:1.0;opacity:0.5;stroke:none\" width=\"13.839999999999975\" x=\"479.6\" y=\"481.3125\"></rect><rect height=\"58.6875\" style=\"fill:rgb(0%,50.2%,0%);fill-opacity:1.0;opacity:0.5;stroke:none\" width=\"13.839999999999975\" x=\"494.94\" y=\"481.3125\"></rect><rect height=\"58.6875\" style=\"fill:rgb(0%,50.2%,0%);fill-opacity:1.0;opacity:0.5;stroke:none\" width=\"13.839999999999918\" x=\"510.28\" y=\"481.3125\"></rect><rect height=\"58.6875\" style=\"fill:rgb(0%,50.2%,0%);fill-opacity:1.0;opacity:0.5;stroke:none\" width=\"13.840000000000032\" x=\"525.6199999999999\" y=\"481.3125\"></rect><rect height=\"58.6875\" style=\"fill:rgb(100%,0%,0%);fill-opacity:1.0;opacity:0.5;stroke:none\" width=\"13.840000000000032\" x=\"540.9599999999999\" y=\"481.3125\"></rect><rect height=\"58.6875\" style=\"fill:rgb(0%,50.2%,0%);fill-opacity:1.0;opacity:0.5;stroke:none\" width=\"13.839999999999918\" x=\"556.3\" y=\"481.3125\"></rect><rect height=\"58.6875\" style=\"fill:rgb(100%,64.7%,0%);fill-opacity:1.0;opacity:0.5;stroke:none\" width=\"13.839999999999918\" x=\"571.6399999999999\" y=\"481.3125\"></rect><rect height=\"58.6875\" style=\"fill:rgb(0%,0%,100%);fill-opacity:1.0;opacity:0.5;stroke:none\" width=\"13.840000000000032\" x=\"586.9799999999998\" y=\"481.3125\"></rect><rect height=\"58.6875\" style=\"fill:rgb(100%,0%,0%);fill-opacity:1.0;opacity:0.5;stroke:none\" width=\"13.840000000000032\" x=\"602.3199999999998\" y=\"481.3125\"></rect><rect height=\"58.6875\" style=\"fill:rgb(0%,50.2%,0%);fill-opacity:1.0;opacity:0.5;stroke:none\" width=\"13.839999999999918\" x=\"617.6599999999999\" y=\"481.3125\"></rect><rect height=\"58.6875\" style=\"fill:rgb(0%,50.2%,0%);fill-opacity:1.0;opacity:0.5;stroke:none\" width=\"13.839999999999918\" x=\"632.9999999999998\" y=\"481.3125\"></rect><rect height=\"58.6875\" style=\"fill:rgb(0%,0%,100%);fill-opacity:1.0;opacity:0.5;stroke:none\" width=\"13.840000000000032\" x=\"648.3399999999997\" y=\"481.3125\"></rect><rect height=\"58.6875\" style=\"fill:rgb(100%,0%,0%);fill-opacity:1.0;opacity:0.5;stroke:none\" width=\"13.840000000000032\" x=\"663.6799999999997\" y=\"481.3125\"></rect><rect height=\"58.6875\" style=\"fill:rgb(0%,0%,100%);fill-opacity:1.0;opacity:0.5;stroke:none\" width=\"13.839999999999918\" x=\"679.0199999999998\" y=\"481.3125\"></rect><rect height=\"58.6875\" style=\"fill:rgb(0%,0%,100%);fill-opacity:1.0;opacity:0.5;stroke:none\" width=\"13.839999999999918\" x=\"694.3599999999997\" y=\"481.3125\"></rect><rect height=\"58.6875\" style=\"fill:rgb(0%,50.2%,0%);fill-opacity:1.0;opacity:0.5;stroke:none\" width=\"13.840000000000032\" x=\"709.6999999999996\" y=\"481.3125\"></rect><rect height=\"58.6875\" style=\"fill:rgb(100%,0%,0%);fill-opacity:1.0;opacity:0.5;stroke:none\" width=\"13.840000000000032\" x=\"725.0399999999996\" y=\"481.3125\"></rect><rect height=\"58.6875\" style=\"fill:rgb(0%,50.2%,0%);fill-opacity:1.0;opacity:0.5;stroke:none\" width=\"13.840000000000032\" x=\"740.3799999999997\" y=\"481.3125\"></rect><rect height=\"58.6875\" style=\"fill:rgb(100%,64.7%,0%);fill-opacity:1.0;opacity:0.5;stroke:none\" width=\"13.840000000000032\" x=\"755.7199999999997\" y=\"481.3125\"></rect><rect height=\"58.6875\" style=\"fill:rgb(0%,50.2%,0%);fill-opacity:1.0;opacity:0.5;stroke:none\" width=\"13.840000000000032\" x=\"771.0599999999997\" y=\"481.3125\"></rect><rect height=\"58.6875\" style=\"fill:rgb(100%,64.7%,0%);fill-opacity:1.0;opacity:0.5;stroke:none\" width=\"13.840000000000032\" x=\"786.3999999999997\" y=\"481.3125\"></rect><rect height=\"58.6875\" style=\"fill:rgb(0%,0%,100%);fill-opacity:1.0;opacity:0.5;stroke:none\" width=\"13.840000000000032\" x=\"801.7399999999998\" y=\"481.3125\"></rect><rect height=\"58.6875\" style=\"fill:rgb(100%,0%,0%);fill-opacity:1.0;opacity:0.5;stroke:none\" width=\"13.840000000000032\" x=\"817.0799999999998\" y=\"481.3125\"></rect><rect height=\"58.6875\" style=\"fill:rgb(0%,0%,100%);fill-opacity:1.0;opacity:0.5;stroke:none\" width=\"13.840000000000032\" x=\"832.4199999999998\" y=\"481.3125\"></rect><rect height=\"58.6875\" style=\"fill:rgb(0%,0%,100%);fill-opacity:1.0;opacity:0.5;stroke:none\" width=\"13.840000000000032\" x=\"847.7599999999999\" y=\"481.3125\"></rect><rect height=\"58.6875\" style=\"fill:rgb(0%,50.2%,0%);fill-opacity:1.0;opacity:0.5;stroke:none\" width=\"13.840000000000032\" x=\"863.0999999999999\" y=\"481.3125\"></rect><rect height=\"58.6875\" style=\"fill:rgb(0%,0%,100%);fill-opacity:1.0;opacity:0.5;stroke:none\" width=\"13.840000000000032\" x=\"878.4399999999999\" y=\"481.3125\"></rect><rect height=\"58.6875\" style=\"fill:rgb(100%,0%,0%);fill-opacity:1.0;opacity:0.5;stroke:none\" width=\"13.840000000000032\" x=\"893.78\" y=\"481.3125\"></rect><rect height=\"58.6875\" style=\"fill:rgb(0%,50.2%,0%);fill-opacity:1.0;opacity:0.5;stroke:none\" width=\"13.840000000000032\" x=\"909.12\" y=\"481.3125\"></rect><rect height=\"58.6875\" style=\"fill:rgb(100%,0%,0%);fill-opacity:1.0;opacity:0.5;stroke:none\" width=\"13.840000000000032\" x=\"924.46\" y=\"481.3125\"></rect><rect height=\"58.6875\" style=\"fill:rgb(0%,50.2%,0%);fill-opacity:1.0;opacity:0.5;stroke:none\" width=\"13.840000000000032\" x=\"939.8000000000001\" y=\"481.3125\"></rect><rect height=\"58.6875\" style=\"fill:rgb(0%,50.2%,0%);fill-opacity:1.0;opacity:0.5;stroke:none\" width=\"13.840000000000032\" x=\"955.1400000000001\" y=\"481.3125\"></rect><rect height=\"58.6875\" style=\"fill:rgb(0%,0%,100%);fill-opacity:1.0;opacity:0.5;stroke:none\" width=\"13.840000000000032\" x=\"970.4800000000001\" y=\"481.3125\"></rect><rect height=\"58.6875\" style=\"fill:rgb(100%,64.7%,0%);fill-opacity:1.0;opacity:0.5;stroke:none\" width=\"13.840000000000032\" x=\"985.8200000000002\" y=\"481.3125\"></rect><rect height=\"58.6875\" style=\"fill:rgb(0%,50.2%,0%);fill-opacity:1.0;opacity:0.5;stroke:none\" width=\"13.840000000000032\" x=\"1001.1600000000002\" y=\"481.3125\"></rect><rect height=\"58.6875\" style=\"fill:rgb(0%,50.2%,0%);fill-opacity:1.0;opacity:0.5;stroke:none\" width=\"13.839999999999918\" x=\"1016.5000000000002\" y=\"481.3125\"></rect><rect height=\"58.6875\" style=\"fill:rgb(100%,0%,0%);fill-opacity:1.0;opacity:0.5;stroke:none\" width=\"13.840000000000146\" x=\"1031.8400000000001\" y=\"481.3125\"></rect><rect height=\"58.6875\" style=\"fill:rgb(0%,0%,100%);fill-opacity:1.0;opacity:0.5;stroke:none\" width=\"13.840000000000146\" x=\"1047.1800000000003\" y=\"481.3125\"></rect><rect height=\"58.6875\" style=\"fill:rgb(0%,50.2%,0%);fill-opacity:1.0;opacity:0.5;stroke:none\" width=\"13.839999999999918\" x=\"1062.5200000000004\" y=\"481.3125\"></rect><rect height=\"58.6875\" style=\"fill:rgb(0%,50.2%,0%);fill-opacity:1.0;opacity:0.5;stroke:none\" width=\"13.839999999999918\" x=\"1077.8600000000004\" y=\"481.3125\"></rect><rect height=\"58.6875\" style=\"fill:rgb(100%,0%,0%);fill-opacity:1.0;opacity:0.5;stroke:none\" width=\"13.840000000000146\" x=\"1093.2000000000003\" y=\"481.3125\"></rect><rect height=\"58.6875\" style=\"fill:rgb(100%,64.7%,0%);fill-opacity:1.0;opacity:0.5;stroke:none\" width=\"13.840000000000146\" x=\"1108.5400000000004\" y=\"481.3125\"></rect><rect height=\"58.6875\" style=\"fill:rgb(0%,0%,100%);fill-opacity:1.0;opacity:0.5;stroke:none\" width=\"13.839999999999918\" x=\"1123.8800000000006\" y=\"481.3125\"></rect><rect height=\"58.6875\" style=\"fill:rgb(100%,0%,0%);fill-opacity:1.0;opacity:0.5;stroke:none\" width=\"13.839999999999918\" x=\"1139.2200000000005\" y=\"481.3125\"></rect><rect height=\"58.6875\" style=\"fill:rgb(0%,50.2%,0%);fill-opacity:1.0;opacity:0.5;stroke:none\" width=\"13.840000000000146\" x=\"1154.5600000000004\" y=\"481.3125\"></rect><rect height=\"58.6875\" style=\"fill:rgb(100%,0%,0%);fill-opacity:1.0;opacity:0.5;stroke:none\" width=\"13.840000000000146\" x=\"1169.9000000000005\" y=\"481.3125\"></rect><rect height=\"58.6875\" style=\"fill:rgb(100%,0%,0%);fill-opacity:1.0;opacity:0.5;stroke:none\" width=\"13.839999999999918\" x=\"1185.2400000000007\" y=\"481.3125\"></rect><rect height=\"58.6875\" style=\"fill:rgb(100%,64.7%,0%);fill-opacity:1.0;opacity:0.5;stroke:none\" width=\"13.839999999999918\" x=\"1200.5800000000006\" y=\"481.3125\"></rect><rect height=\"58.6875\" style=\"fill:rgb(100%,0%,0%);fill-opacity:1.0;opacity:0.5;stroke:none\" width=\"13.840000000000146\" x=\"1215.9200000000005\" y=\"481.3125\"></rect><rect height=\"58.6875\" style=\"fill:rgb(100%,64.7%,0%);fill-opacity:1.0;opacity:0.5;stroke:none\" width=\"13.839999999999918\" x=\"1231.2600000000007\" y=\"481.3125\"></rect><rect height=\"58.6875\" style=\"fill:rgb(0%,50.2%,0%);fill-opacity:1.0;opacity:0.5;stroke:none\" width=\"13.839999999999918\" x=\"1246.6000000000006\" y=\"481.3125\"></rect><rect height=\"58.6875\" style=\"fill:rgb(100%,64.7%,0%);fill-opacity:1.0;opacity:0.5;stroke:none\" width=\"13.839999999999918\" x=\"1261.9400000000005\" y=\"481.3125\"></rect><rect height=\"58.6875\" style=\"fill:rgb(100%,64.7%,0%);fill-opacity:1.0;opacity:0.5;stroke:none\" width=\"13.839999999999918\" x=\"1277.2800000000004\" y=\"481.3125\"></rect><rect height=\"58.6875\" style=\"fill:rgb(100%,64.7%,0%);fill-opacity:1.0;opacity:0.5;stroke:none\" width=\"13.839999999999918\" x=\"1292.6200000000003\" y=\"481.3125\"></rect><rect height=\"58.6875\" style=\"fill:rgb(0%,50.2%,0%);fill-opacity:1.0;opacity:0.5;stroke:none\" width=\"13.839999999999918\" x=\"1307.9600000000003\" y=\"481.3125\"></rect><rect height=\"58.6875\" style=\"fill:rgb(0%,0%,100%);fill-opacity:1.0;opacity:0.5;stroke:none\" width=\"13.839999999999918\" x=\"1323.3000000000002\" y=\"481.3125\"></rect><rect height=\"58.6875\" style=\"fill:rgb(100%,64.7%,0%);fill-opacity:1.0;opacity:0.5;stroke:none\" width=\"13.839999999999918\" x=\"1338.64\" y=\"481.3125\"></rect><rect height=\"58.6875\" style=\"fill:rgb(100%,64.7%,0%);fill-opacity:1.0;opacity:0.5;stroke:none\" width=\"13.839999999999918\" x=\"1353.98\" y=\"481.3125\"></rect><rect height=\"58.6875\" style=\"fill:rgb(0%,50.2%,0%);fill-opacity:1.0;opacity:0.5;stroke:none\" width=\"13.839999999999918\" x=\"1369.32\" y=\"481.3125\"></rect><rect height=\"58.6875\" style=\"fill:rgb(100%,0%,0%);fill-opacity:1.0;opacity:0.5;stroke:none\" width=\"13.839999999999918\" x=\"1384.6599999999999\" y=\"481.3125\"></rect><rect height=\"58.6875\" style=\"fill:rgb(0%,50.2%,0%);fill-opacity:1.0;opacity:0.5;stroke:none\" width=\"13.839999999999918\" x=\"1399.9999999999998\" y=\"481.3125\"></rect><rect height=\"58.6875\" style=\"fill:rgb(100%,0%,0%);fill-opacity:1.0;opacity:0.5;stroke:none\" width=\"13.839999999999918\" x=\"1415.3399999999997\" y=\"481.3125\"></rect><rect height=\"58.6875\" style=\"fill:rgb(0%,50.2%,0%);fill-opacity:1.0;opacity:0.5;stroke:none\" width=\"13.839999999999918\" x=\"1430.6799999999996\" y=\"481.3125\"></rect><rect height=\"58.6875\" style=\"fill:rgb(0%,50.2%,0%);fill-opacity:1.0;opacity:0.5;stroke:none\" width=\"13.839999999999918\" x=\"1446.0199999999995\" y=\"481.3125\"></rect><rect height=\"58.6875\" style=\"fill:rgb(0%,0%,100%);fill-opacity:1.0;opacity:0.5;stroke:none\" width=\"13.839999999999918\" x=\"1461.3599999999994\" y=\"481.3125\"></rect><rect height=\"58.6875\" style=\"fill:rgb(0%,50.2%,0%);fill-opacity:1.0;opacity:0.5;stroke:none\" width=\"13.839999999999918\" x=\"1476.6999999999994\" y=\"481.3125\"></rect><rect height=\"58.6875\" style=\"fill:rgb(100%,64.7%,0%);fill-opacity:1.0;opacity:0.5;stroke:none\" width=\"13.839999999999918\" x=\"1492.0399999999993\" y=\"481.3125\"></rect><rect height=\"58.6875\" style=\"fill:rgb(0%,50.2%,0%);fill-opacity:1.0;opacity:0.5;stroke:none\" width=\"13.839999999999918\" x=\"1507.3799999999992\" y=\"481.3125\"></rect><rect height=\"58.6875\" style=\"fill:rgb(0%,0%,100%);fill-opacity:1.0;opacity:0.5;stroke:none\" width=\"13.839999999999918\" x=\"1522.7199999999991\" y=\"481.3125\"></rect><rect height=\"58.6875\" style=\"fill:rgb(0%,0%,100%);fill-opacity:1.0;opacity:0.5;stroke:none\" width=\"13.839999999999918\" x=\"1538.059999999999\" y=\"481.3125\"></rect><rect height=\"58.6875\" style=\"fill:rgb(100%,64.7%,0%);fill-opacity:1.0;opacity:0.5;stroke:none\" width=\"13.839999999999918\" x=\"1553.399999999999\" y=\"481.3125\"></rect><rect height=\"58.6875\" style=\"fill:rgb(0%,0%,100%);fill-opacity:1.0;opacity:0.5;stroke:none\" width=\"13.839999999999918\" x=\"1568.7399999999989\" y=\"481.3125\"></rect><rect height=\"58.6875\" style=\"fill:rgb(0%,50.2%,0%);fill-opacity:1.0;opacity:0.5;stroke:none\" width=\"13.839999999999918\" x=\"1584.0799999999988\" y=\"481.3125\"></rect><rect height=\"58.6875\" style=\"fill:rgb(0%,0%,100%);fill-opacity:1.0;opacity:0.5;stroke:none\" width=\"13.839999999999918\" x=\"1599.4199999999987\" y=\"481.3125\"></rect><rect height=\"58.6875\" style=\"fill:rgb(100%,0%,0%);fill-opacity:1.0;opacity:0.5;stroke:none\" width=\"13.839999999999918\" x=\"1614.7599999999986\" y=\"481.3125\"></rect><rect height=\"58.6875\" style=\"fill:rgb(0%,0%,100%);fill-opacity:1.0;opacity:0.5;stroke:none\" width=\"13.839999999999918\" x=\"1630.0999999999985\" y=\"481.3125\"></rect><rect height=\"58.6875\" style=\"fill:rgb(0%,50.2%,0%);fill-opacity:1.0;opacity:0.5;stroke:none\" width=\"13.839999999999918\" x=\"1645.4399999999985\" y=\"481.3125\"></rect><rect height=\"58.6875\" style=\"fill:rgb(100%,0%,0%);fill-opacity:1.0;opacity:0.5;stroke:none\" width=\"13.839999999999918\" x=\"1660.7799999999984\" y=\"481.3125\"></rect><rect height=\"58.6875\" style=\"fill:rgb(0%,0%,100%);fill-opacity:1.0;opacity:0.5;stroke:none\" width=\"13.839999999999918\" x=\"1676.1199999999983\" y=\"481.3125\"></rect><rect height=\"58.6875\" style=\"fill:rgb(0%,50.2%,0%);fill-opacity:1.0;opacity:0.5;stroke:none\" width=\"13.839999999999918\" x=\"1691.4599999999982\" y=\"481.3125\"></rect><rect height=\"58.6875\" style=\"fill:rgb(100%,64.7%,0%);fill-opacity:1.0;opacity:0.5;stroke:none\" width=\"13.839999999999918\" x=\"1706.7999999999981\" y=\"481.3125\"></rect><rect height=\"58.6875\" style=\"fill:rgb(0%,0%,100%);fill-opacity:1.0;opacity:0.5;stroke:none\" width=\"13.839999999999918\" x=\"1722.139999999998\" y=\"481.3125\"></rect><rect height=\"58.6875\" style=\"fill:rgb(100%,64.7%,0%);fill-opacity:1.0;opacity:0.5;stroke:none\" width=\"13.839999999999918\" x=\"1737.479999999998\" y=\"481.3125\"></rect><rect height=\"58.6875\" style=\"fill:rgb(0%,0%,100%);fill-opacity:1.0;opacity:0.5;stroke:none\" width=\"13.839999999999918\" x=\"1752.819999999998\" y=\"481.3125\"></rect><rect height=\"58.6875\" style=\"fill:rgb(0%,0%,100%);fill-opacity:1.0;opacity:0.5;stroke:none\" width=\"13.839999999999918\" x=\"1768.1599999999978\" y=\"481.3125\"></rect></g></svg><div class=\"toyplot-behavior\"><script>(function()\n",
       "{\n",
       "var modules={};\n",
       "modules[\"toyplot/tables\"] = (function()\n",
       "    {\n",
       "        var tables = [];\n",
       "\n",
       "        var module = {};\n",
       "\n",
       "        module.set = function(owner, key, names, columns)\n",
       "        {\n",
       "            tables.push({owner: owner, key: key, names: names, columns: columns});\n",
       "        }\n",
       "\n",
       "        module.get = function(owner, key)\n",
       "        {\n",
       "            for(var i = 0; i != tables.length; ++i)\n",
       "            {\n",
       "                var table = tables[i];\n",
       "                if(table.owner != owner)\n",
       "                    continue;\n",
       "                if(table.key != key)\n",
       "                    continue;\n",
       "                return {names: table.names, columns: table.columns};\n",
       "            }\n",
       "        }\n",
       "\n",
       "        module.get_csv = function(owner, key)\n",
       "        {\n",
       "            var table = module.get(owner, key);\n",
       "            if(table != undefined)\n",
       "            {\n",
       "                var csv = \"\";\n",
       "                csv += table.names.join(\",\") + \"\\n\";\n",
       "                for(var i = 0; i != table.columns[0].length; ++i)\n",
       "                {\n",
       "                  for(var j = 0; j != table.columns.length; ++j)\n",
       "                  {\n",
       "                    if(j)\n",
       "                      csv += \",\";\n",
       "                    csv += table.columns[j][i];\n",
       "                  }\n",
       "                  csv += \"\\n\";\n",
       "                }\n",
       "                return csv;\n",
       "            }\n",
       "        }\n",
       "\n",
       "        return module;\n",
       "    })();\n",
       "modules[\"toyplot/root/id\"] = \"t937a0cf4f26f477d901997612e471840\";\n",
       "modules[\"toyplot/root\"] = (function(root_id)\n",
       "    {\n",
       "        return document.querySelector(\"#\" + root_id);\n",
       "    })(modules[\"toyplot/root/id\"]);\n",
       "modules[\"toyplot/canvas/id\"] = \"tdf169cd24888485b978960e56968fa3c\";\n",
       "modules[\"toyplot/canvas\"] = (function(canvas_id)\n",
       "    {\n",
       "        return document.querySelector(\"#\" + canvas_id);\n",
       "    })(modules[\"toyplot/canvas/id\"]);\n",
       "modules[\"toyplot/menus/context\"] = (function(root, canvas)\n",
       "    {\n",
       "        var wrapper = document.createElement(\"div\");\n",
       "        wrapper.innerHTML = \"<ul class='toyplot-context-menu' style='background:#eee; border:1px solid #b8b8b8; border-radius:5px; box-shadow: 0px 0px 8px rgba(0%,0%,0%,0.25); margin:0; padding:3px 0; position:fixed; visibility:hidden;'></ul>\"\n",
       "        var menu = wrapper.firstChild;\n",
       "\n",
       "        root.appendChild(menu);\n",
       "\n",
       "        var items = [];\n",
       "\n",
       "        var ignore_mouseup = null;\n",
       "        function open_menu(e)\n",
       "        {\n",
       "            var show_menu = false;\n",
       "            for(var index=0; index != items.length; ++index)\n",
       "            {\n",
       "                var item = items[index];\n",
       "                if(item.show(e))\n",
       "                {\n",
       "                    item.item.style.display = \"block\";\n",
       "                    show_menu = true;\n",
       "                }\n",
       "                else\n",
       "                {\n",
       "                    item.item.style.display = \"none\";\n",
       "                }\n",
       "            }\n",
       "\n",
       "            if(show_menu)\n",
       "            {\n",
       "                ignore_mouseup = true;\n",
       "                menu.style.left = (e.clientX + 1) + \"px\";\n",
       "                menu.style.top = (e.clientY - 5) + \"px\";\n",
       "                menu.style.visibility = \"visible\";\n",
       "                e.stopPropagation();\n",
       "                e.preventDefault();\n",
       "            }\n",
       "        }\n",
       "\n",
       "        function close_menu()\n",
       "        {\n",
       "            menu.style.visibility = \"hidden\";\n",
       "        }\n",
       "\n",
       "        function contextmenu(e)\n",
       "        {\n",
       "            open_menu(e);\n",
       "        }\n",
       "\n",
       "        function mousemove(e)\n",
       "        {\n",
       "            ignore_mouseup = false;\n",
       "        }\n",
       "\n",
       "        function mouseup(e)\n",
       "        {\n",
       "            if(ignore_mouseup)\n",
       "            {\n",
       "                ignore_mouseup = false;\n",
       "                return;\n",
       "            }\n",
       "            close_menu();\n",
       "        }\n",
       "\n",
       "        function keydown(e)\n",
       "        {\n",
       "            if(e.key == \"Escape\" || e.key == \"Esc\" || e.keyCode == 27)\n",
       "            {\n",
       "                close_menu();\n",
       "            }\n",
       "        }\n",
       "\n",
       "        canvas.addEventListener(\"contextmenu\", contextmenu);\n",
       "        canvas.addEventListener(\"mousemove\", mousemove);\n",
       "        document.addEventListener(\"mouseup\", mouseup);\n",
       "        document.addEventListener(\"keydown\", keydown);\n",
       "\n",
       "        var module = {};\n",
       "        module.add_item = function(label, show, activate)\n",
       "        {\n",
       "            var wrapper = document.createElement(\"div\");\n",
       "            wrapper.innerHTML = \"<li class='toyplot-context-menu-item' style='background:#eee; color:#333; padding:2px 20px; list-style:none; margin:0; text-align:left;'>\" + label + \"</li>\"\n",
       "            var item = wrapper.firstChild;\n",
       "\n",
       "            items.push({item: item, show: show});\n",
       "\n",
       "            function mouseover()\n",
       "            {\n",
       "                this.style.background = \"steelblue\";\n",
       "                this.style.color = \"white\";\n",
       "            }\n",
       "\n",
       "            function mouseout()\n",
       "            {\n",
       "                this.style.background = \"#eee\";\n",
       "                this.style.color = \"#333\";\n",
       "            }\n",
       "\n",
       "            function choose_item(e)\n",
       "            {\n",
       "                close_menu();\n",
       "                activate();\n",
       "\n",
       "                e.stopPropagation();\n",
       "                e.preventDefault();\n",
       "            }\n",
       "\n",
       "            item.addEventListener(\"mouseover\", mouseover);\n",
       "            item.addEventListener(\"mouseout\", mouseout);\n",
       "            item.addEventListener(\"mouseup\", choose_item);\n",
       "            item.addEventListener(\"contextmenu\", choose_item);\n",
       "\n",
       "            menu.appendChild(item);\n",
       "        };\n",
       "        return module;\n",
       "    })(modules[\"toyplot/root\"],modules[\"toyplot/canvas\"]);\n",
       "modules[\"toyplot/io\"] = (function()\n",
       "    {\n",
       "        var module = {};\n",
       "        module.save_file = function(mime_type, charset, data, filename)\n",
       "        {\n",
       "            var uri = \"data:\" + mime_type + \";charset=\" + charset + \",\" + data;\n",
       "            uri = encodeURI(uri);\n",
       "\n",
       "            var link = document.createElement(\"a\");\n",
       "            if(typeof link.download != \"undefined\")\n",
       "            {\n",
       "              link.href = uri;\n",
       "              link.style = \"visibility:hidden\";\n",
       "              link.download = filename;\n",
       "\n",
       "              document.body.appendChild(link);\n",
       "              link.click();\n",
       "              document.body.removeChild(link);\n",
       "            }\n",
       "            else\n",
       "            {\n",
       "              window.open(uri);\n",
       "            }\n",
       "        };\n",
       "        return module;\n",
       "    })();\n",
       "(function(tables, context_menu, io, owner_id, key, label, names, columns, filename)\n",
       "        {\n",
       "            tables.set(owner_id, key, names, columns);\n",
       "\n",
       "            var owner = document.querySelector(\"#\" + owner_id);\n",
       "            function show_item(e)\n",
       "            {\n",
       "                return owner.contains(e.target);\n",
       "            }\n",
       "\n",
       "            function choose_item()\n",
       "            {\n",
       "                io.save_file(\"text/csv\", \"utf-8\", tables.get_csv(owner_id, key), filename + \".csv\");\n",
       "            }\n",
       "\n",
       "            context_menu.add_item(\"Save \" + label + \" as CSV\", show_item, choose_item);\n",
       "        })(modules[\"toyplot/tables\"],modules[\"toyplot/menus/context\"],modules[\"toyplot/io\"],\"t8d017420135748a0b3da11c4bfb9e82d\",\"data\",\"table data\",[\"r0\", null, null, null, null, null, null, null, null, null, null, null, null, null, null, null, null, null, null, null, null, null, null, null, null, null, null, null, null, null, null, null, null, null, null, null, null, null, null, null, null, null, null, null, null, null, null, null, null, null, null, null, null, null, null, null, null, null, null, null, null, null, null, null, null, null, null, null, null, null, null, null, null, null, null, null, null, null, null, null, null, null, null, null, null, null, null, null, null, null, null, null, null, null, null, null, null, null, null, null, null],[[\"r1\", \"r2\", \"r3\", \"r4\", \"r5\", \"r6\", \"r7\"], [null, null, null, null, null, null, null], [null, null, null, null, null, null, null], [null, null, null, null, null, null, null], [null, null, null, null, null, null, null], [null, null, null, null, null, null, null], [null, null, null, null, null, null, null], [null, null, null, null, null, null, null], [null, null, null, null, null, null, null], [null, null, null, null, null, null, null], [null, null, null, null, null, null, null], [null, null, null, null, null, null, null], [null, null, null, null, null, null, null], [null, null, null, null, null, null, null], [null, null, null, null, null, null, null], [null, null, null, null, null, null, null], [null, null, null, null, null, null, null], [null, null, null, null, null, null, null], [null, null, null, null, null, null, null], [null, null, null, null, null, null, null], [null, null, null, null, null, null, null], [null, null, null, null, null, null, null], [null, null, null, null, null, null, null], [null, null, null, null, null, null, null], [null, null, null, null, null, null, null], [null, null, null, null, null, null, null], [null, null, null, null, null, null, null], [null, null, null, null, null, null, null], [null, null, null, null, null, null, null], [null, null, null, null, null, null, null], [null, null, null, null, null, null, null], [null, null, null, null, null, null, null], [null, null, null, null, null, null, null], [null, null, null, null, null, null, null], [null, null, null, null, null, null, null], [null, null, null, null, null, null, null], [null, null, null, null, null, null, null], [null, null, null, null, null, null, null], [null, null, null, null, null, null, null], [null, null, null, null, null, null, null], [null, null, null, null, null, null, null], [null, null, null, null, null, null, null], [null, null, null, null, null, null, null], [null, null, null, null, null, null, null], [null, null, null, null, null, null, null], [null, null, null, null, null, null, null], [null, null, null, null, null, null, null], [null, null, null, null, null, null, null], [null, null, null, null, null, null, null], [null, null, null, null, null, null, null], [null, null, null, null, null, null, null], [null, null, null, null, null, null, null], [null, null, null, null, null, null, null], [null, null, null, null, null, null, null], [null, null, null, null, null, null, null], [null, null, null, null, null, null, null], [null, null, null, null, null, null, null], [null, null, null, null, null, null, null], [null, null, null, null, null, null, null], [null, null, null, null, null, null, null], [null, null, null, null, null, null, null], [null, null, null, null, null, null, null], [null, null, null, null, null, null, null], [null, null, null, null, null, null, null], [null, null, null, null, null, null, null], [null, null, null, null, null, null, null], [null, null, null, null, null, null, null], [null, null, null, null, null, null, null], [null, null, null, null, null, null, null], [null, null, null, null, null, null, null], [null, null, null, null, null, null, null], [null, null, null, null, null, null, null], [null, null, null, null, null, null, null], [null, null, null, null, null, null, null], [null, null, null, null, null, null, null], [null, null, null, null, null, null, null], [null, null, null, null, null, null, null], [null, null, null, null, null, null, null], [null, null, null, null, null, null, null], [null, null, null, null, null, null, null], [null, null, null, null, null, null, null], [null, null, null, null, null, null, null], [null, null, null, null, null, null, null], [null, null, null, null, null, null, null], [null, null, null, null, null, null, null], [null, null, null, null, null, null, null], [null, null, null, null, null, null, null], [null, null, null, null, null, null, null], [null, null, null, null, null, null, null], [null, null, null, null, null, null, null], [null, null, null, null, null, null, null], [null, null, null, null, null, null, null], [null, null, null, null, null, null, null], [null, null, null, null, null, null, null], [null, null, null, null, null, null, null], [null, null, null, null, null, null, null], [null, null, null, null, null, null, null], [null, null, null, null, null, null, null], [null, null, null, null, null, null, null], [null, null, null, null, null, null, null], [null, null, null, null, null, null, null]],\"toyplot\");\n",
       "})();</script></div></div>"
      ],
      "text/plain": [
       "<toyplot.canvas.Canvas at 0x2aab175ca450>"
      ]
     },
     "execution_count": 5,
     "metadata": {},
     "output_type": "execute_result"
    }
   ],
   "source": [
    "# check that data looks right, with sequence, including missing data on left and spacer on the right\n",
    "canvas, axes = modelmiss.draw_seqview(0, 5250, 5350, height=600);\n",
    "\n",
    "#write this to a file \n",
    "toyplot.svg.render(canvas, \"/rigel/dsi/users/slh2181/locus_length/toy_example/sandra/seqview.svg\")\n",
    "canvas"
   ]
  },
  {
   "cell_type": "code",
   "execution_count": 18,
   "metadata": {},
   "outputs": [
    {
     "name": "stdout",
     "output_type": "stream",
     "text": [
      "wrote 1 loci to /rigel/dsi/users/slh2181/locus_length/toy_example/sandra/with_spacers.seqs.hdf5\n"
     ]
    }
   ],
   "source": [
    "# write to db\n",
    "model.write_loci_to_hdf5(name=\"with_spacers\", outdir=\"sandra\")"
   ]
  },
  {
   "cell_type": "code",
   "execution_count": 6,
   "metadata": {},
   "outputs": [
    {
     "name": "stdout",
     "output_type": "stream",
     "text": [
      "ngenealogies: 38938\n",
      "mean len of gtree: 25.68 bp\n"
     ]
    }
   ],
   "source": [
    "# show the total number of genealogies\n",
    "print('ngenealogies:', model.df.tidx.max())\n",
    "print('mean len of gtree: {:.2f} bp'.format(model.df.nbps.mean()))"
   ]
  },
  {
   "cell_type": "markdown",
   "metadata": {},
   "source": [
    "### Confirm concatenation is in the anomaly zone \n",
    "\n",
    "Here we aim to select a scenario that will lie in the 'anomaly zone', where concatenation will yield incorrect results but a proper MSC method should infer a correct result."
   ]
  },
  {
   "cell_type": "code",
   "execution_count": 7,
   "metadata": {
    "scrolled": true
   },
   "outputs": [
    {
     "name": "stdout",
     "output_type": "stream",
     "text": [
      "/rigel/home/slh2181/miniconda3/bin/raxmlHPC-PTHREADS-AVX2 -f d -T 24 -m GTRGAMMA -n ... -w ... -s ... -p 12345 -N 10\n",
      "building database: nwindows=1; minsnps=1\n",
      "[####################] 100% 0:00:23 | inferring trees \n",
      "tree_table written to /rigel/dsi/users/slh2181/locus_length/toy_example/sandra/concat.tree_table.csv\n"
     ]
    }
   ],
   "source": [
    "# init raxml inference\n",
    "tool = ipa.treeslider(\n",
    "    data=\"./sandra/no_spacer.seqs.hdf5\",\n",
    "    name=\"concat\",\n",
    "    workdir=\"sandra\",\n",
    "    scaffold_idxs=0,\n",
    "    inference_args={\n",
    "        \"f\": \"d\",\n",
    "        \"N\": 10,\n",
    "        \"p\": 12345,\n",
    "        \"x\": None,\n",
    "        \"T\": 24,\n",
    "    }\n",
    ")\n",
    "tool.ipcluster['threads'] = 24\n",
    "tool.show_inference_command()\n",
    "\n",
    "# infer concat tree\n",
    "tool.run(auto=True, force=True)"
   ]
  },
  {
   "cell_type": "code",
   "execution_count": 11,
   "metadata": {},
   "outputs": [],
   "source": [
    "# re-load the newick from treeslider output\n",
    "tw = pd.read_csv(\"./sandra/concat.tree_table.csv\")\n",
    "ctree = toytree.tree(tw.tree[0]).root(\"r7\")\n",
    "\n",
    "# draw the concat tree\n",
    "canvas, axes, mark = ctree.draw(**ts);\n",
    "\n",
    "# save tree file\n",
    "ctree.write(\"./sandra/concat.nwk\")\n",
    "toyplot.svg.render(canvas,\"./sandra/concat_tree.svg\")\n",
    "\n",
    "canvas"
   ]
  },
  {
   "cell_type": "markdown",
   "metadata": {},
   "source": [
    "### Simulate unlinked genealogies (Astral input)"
   ]
  },
  {
   "cell_type": "code",
   "execution_count": 9,
   "metadata": {},
   "outputs": [
    {
     "data": {
      "text/html": [
       "<div class=\"toyplot\" id=\"t713f15c49a464f3b9533fb422c64019c\" style=\"text-align:center\"><svg class=\"toyplot-canvas-Canvas\" height=\"200.0px\" id=\"tb8e3edb766994fa5910d0a855c4f6e85\" preserveAspectRatio=\"xMidYMid meet\" style=\"background-color:transparent;border-color:#292724;border-style:none;border-width:1.0;fill:rgb(16.1%,15.3%,14.1%);fill-opacity:1.0;font-family:Helvetica;font-size:12px;opacity:1.0;stroke:rgb(16.1%,15.3%,14.1%);stroke-opacity:1.0;stroke-width:1.0\" viewBox=\"0 0 560.0 200.0\" width=\"560.0px\" xmlns=\"http://www.w3.org/2000/svg\" xmlns:toyplot=\"http://www.sandia.gov/toyplot\" xmlns:xlink=\"http://www.w3.org/1999/xlink\"><g class=\"toyplot-coordinates-Cartesian\" id=\"tb9e1cd70b12c445dbc2cede066cbc9df\"><clipPath id=\"t717b33784fc04a1bb63473f47fbc2a3f\"><rect height=\"170.0\" width=\"110.0\" x=\"15.0\" y=\"15.0\"></rect></clipPath><g clip-path=\"url(#t717b33784fc04a1bb63473f47fbc2a3f)\"><g class=\"toytree-mark-Toytree\" id=\"tcd30da75dab8420d97e13987ec28a9bb\"><g class=\"toytree-Edges\" style=\"fill:none;stroke:rgb(14.9%,14.9%,14.9%);stroke-linecap:round;stroke-opacity:1;stroke-width:2\"><path d=\"M 26.7 70.4 L 26.7 44.2 L 44.9 44.2\" id=\"14,13\"></path><path d=\"M 26.7 70.4 L 26.7 96.5 L 45.5 96.5\" id=\"14,12\"></path><path d=\"M 45.5 96.5 L 45.5 120.9 L 52.6 120.9\" id=\"12,11\"></path><path d=\"M 52.6 120.9 L 52.6 100.0 L 59.6 100.0\" id=\"11,10\"></path><path d=\"M 52.6 120.9 L 52.6 141.9 L 75.1 141.9\" id=\"11,9\"></path><path d=\"M 75.1 141.9 L 75.1 155.8 L 80.6 155.8\" id=\"9,8\"></path><path d=\"M 44.9 44.2 L 44.9 34.9 L 101.0 34.9\" id=\"13,7\"></path><path d=\"M 44.9 44.2 L 44.9 53.5 L 101.0 53.5\" id=\"13,6\"></path><path d=\"M 45.5 96.5 L 45.5 72.1 L 101.0 72.1\" id=\"12,5\"></path><path d=\"M 59.6 100.0 L 59.6 90.7 L 101.0 90.7\" id=\"10,4\"></path><path d=\"M 59.6 100.0 L 59.6 109.3 L 101.0 109.3\" id=\"10,3\"></path><path d=\"M 75.1 141.9 L 75.1 127.9 L 101.0 127.9\" id=\"9,2\"></path><path d=\"M 80.6 155.8 L 80.6 146.5 L 101.0 146.5\" id=\"8,1\"></path><path d=\"M 80.6 155.8 L 80.6 165.1 L 101.0 165.1\" id=\"8,0\"></path></g><g class=\"toytree-TipLabels\" style=\"fill:rgb(14.9%,14.9%,14.9%);fill-opacity:1.0;font-family:helvetica;font-size:9px;font-weight:normal;stroke:none;white-space:pre\"><g transform=\"translate(101.04,165.10)rotate(0)\"><text style=\"\" x=\"10.00\" y=\"2.30\">r1</text></g><g transform=\"translate(101.04,146.50)rotate(0)\"><text style=\"\" x=\"10.00\" y=\"2.30\">r0</text></g><g transform=\"translate(101.04,127.90)rotate(0)\"><text style=\"\" x=\"10.00\" y=\"2.30\">r3</text></g><g transform=\"translate(101.04,109.30)rotate(0)\"><text style=\"\" x=\"10.00\" y=\"2.30\">r4</text></g><g transform=\"translate(101.04,90.70)rotate(0)\"><text style=\"\" x=\"10.00\" y=\"2.30\">r2</text></g><g transform=\"translate(101.04,72.10)rotate(0)\"><text style=\"\" x=\"10.00\" y=\"2.30\">r5</text></g><g transform=\"translate(101.04,53.50)rotate(0)\"><text style=\"\" x=\"10.00\" y=\"2.30\">r7</text></g><g transform=\"translate(101.04,34.90)rotate(0)\"><text style=\"\" x=\"10.00\" y=\"2.30\">r6</text></g></g></g></g></g><g class=\"toyplot-coordinates-Cartesian\" id=\"tc70588abe37d4f959988c021185f4fca\"><clipPath id=\"t223658b134624178b516e67b4bda6f84\"><rect height=\"170.0\" width=\"110.0\" x=\"155.0\" y=\"15.0\"></rect></clipPath><g clip-path=\"url(#t223658b134624178b516e67b4bda6f84)\"><g class=\"toytree-mark-Toytree\" id=\"t21001900a1664037b9f970be697730c6\"><g class=\"toytree-Edges\" style=\"fill:none;stroke:rgb(14.9%,14.9%,14.9%);stroke-linecap:round;stroke-opacity:1;stroke-width:2\"><path d=\"M 166.7 55.0 L 166.7 75.0 L 207.1 75.0\" id=\"14,13\"></path><path d=\"M 207.1 75.0 L 207.1 96.5 L 208.9 96.5\" id=\"13,12\"></path><path d=\"M 208.9 96.5 L 208.9 120.9 L 220.0 120.9\" id=\"12,11\"></path><path d=\"M 220.0 120.9 L 220.0 100.0 L 226.7 100.0\" id=\"11,10\"></path><path d=\"M 220.0 120.9 L 220.0 141.9 L 226.6 141.9\" id=\"11,9\"></path><path d=\"M 226.6 141.9 L 226.6 155.8 L 232.0 155.8\" id=\"9,8\"></path><path d=\"M 166.7 55.0 L 166.7 34.9 L 241.0 34.9\" id=\"14,7\"></path><path d=\"M 207.1 75.0 L 207.1 53.5 L 241.0 53.5\" id=\"13,6\"></path><path d=\"M 208.9 96.5 L 208.9 72.1 L 241.0 72.1\" id=\"12,5\"></path><path d=\"M 226.7 100.0 L 226.7 90.7 L 241.0 90.7\" id=\"10,4\"></path><path d=\"M 226.7 100.0 L 226.7 109.3 L 241.0 109.3\" id=\"10,3\"></path><path d=\"M 226.6 141.9 L 226.6 127.9 L 241.0 127.9\" id=\"9,2\"></path><path d=\"M 232.0 155.8 L 232.0 146.5 L 241.0 146.5\" id=\"8,1\"></path><path d=\"M 232.0 155.8 L 232.0 165.1 L 241.0 165.1\" id=\"8,0\"></path></g><g class=\"toytree-TipLabels\" style=\"fill:rgb(14.9%,14.9%,14.9%);fill-opacity:1.0;font-family:helvetica;font-size:9px;font-weight:normal;stroke:none;white-space:pre\"><g transform=\"translate(241.04,165.10)rotate(0)\"><text style=\"\" x=\"10.00\" y=\"2.30\">r1</text></g><g transform=\"translate(241.04,146.50)rotate(0)\"><text style=\"\" x=\"10.00\" y=\"2.30\">r0</text></g><g transform=\"translate(241.04,127.90)rotate(0)\"><text style=\"\" x=\"10.00\" y=\"2.30\">r4</text></g><g transform=\"translate(241.04,109.30)rotate(0)\"><text style=\"\" x=\"10.00\" y=\"2.30\">r3</text></g><g transform=\"translate(241.04,90.70)rotate(0)\"><text style=\"\" x=\"10.00\" y=\"2.30\">r2</text></g><g transform=\"translate(241.04,72.10)rotate(0)\"><text style=\"\" x=\"10.00\" y=\"2.30\">r6</text></g><g transform=\"translate(241.04,53.50)rotate(0)\"><text style=\"\" x=\"10.00\" y=\"2.30\">r5</text></g><g transform=\"translate(241.04,34.90)rotate(0)\"><text style=\"\" x=\"10.00\" y=\"2.30\">r7</text></g></g></g></g></g><g class=\"toyplot-coordinates-Cartesian\" id=\"t010dca0ac0fe48119c847dd4bebee9fe\"><clipPath id=\"t10f8006251fb40de827c8739b431673b\"><rect height=\"170.0\" width=\"110.0\" x=\"295.0\" y=\"15.0\"></rect></clipPath><g clip-path=\"url(#t10f8006251fb40de827c8739b431673b)\"><g class=\"toytree-mark-Toytree\" id=\"t0aa099d8b0d14e1694d1754dca7a27c3\"><g class=\"toytree-Edges\" style=\"fill:none;stroke:rgb(14.9%,14.9%,14.9%);stroke-linecap:round;stroke-opacity:1;stroke-width:2\"><path d=\"M 306.7 81.4 L 306.7 48.8 L 350.8 48.8\" id=\"14,13\"></path><path d=\"M 306.7 81.4 L 306.7 114.0 L 351.3 114.0\" id=\"14,12\"></path><path d=\"M 350.8 48.8 L 350.8 62.8 L 357.1 62.8\" id=\"13,11\"></path><path d=\"M 351.3 114.0 L 351.3 137.2 L 360.8 137.2\" id=\"12,10\"></path><path d=\"M 360.8 137.2 L 360.8 118.6 L 366.2 118.6\" id=\"10,9\"></path><path d=\"M 360.8 137.2 L 360.8 155.8 L 362.2 155.8\" id=\"10,8\"></path><path d=\"M 350.8 48.8 L 350.8 34.9 L 381.0 34.9\" id=\"13,7\"></path><path d=\"M 357.1 62.8 L 357.1 53.5 L 381.0 53.5\" id=\"11,6\"></path><path d=\"M 357.1 62.8 L 357.1 72.1 L 381.0 72.1\" id=\"11,5\"></path><path d=\"M 351.3 114.0 L 351.3 90.7 L 381.0 90.7\" id=\"12,4\"></path><path d=\"M 366.2 118.6 L 366.2 109.3 L 381.0 109.3\" id=\"9,3\"></path><path d=\"M 366.2 118.6 L 366.2 127.9 L 381.0 127.9\" id=\"9,2\"></path><path d=\"M 362.2 155.8 L 362.2 146.5 L 381.0 146.5\" id=\"8,1\"></path><path d=\"M 362.2 155.8 L 362.2 165.1 L 381.0 165.1\" id=\"8,0\"></path></g><g class=\"toytree-TipLabels\" style=\"fill:rgb(14.9%,14.9%,14.9%);fill-opacity:1.0;font-family:helvetica;font-size:9px;font-weight:normal;stroke:none;white-space:pre\"><g transform=\"translate(381.04,165.10)rotate(0)\"><text style=\"\" x=\"10.00\" y=\"2.30\">r4</text></g><g transform=\"translate(381.04,146.50)rotate(0)\"><text style=\"\" x=\"10.00\" y=\"2.30\">r1</text></g><g transform=\"translate(381.04,127.90)rotate(0)\"><text style=\"\" x=\"10.00\" y=\"2.30\">r3</text></g><g transform=\"translate(381.04,109.30)rotate(0)\"><text style=\"\" x=\"10.00\" y=\"2.30\">r0</text></g><g transform=\"translate(381.04,90.70)rotate(0)\"><text style=\"\" x=\"10.00\" y=\"2.30\">r7</text></g><g transform=\"translate(381.04,72.10)rotate(0)\"><text style=\"\" x=\"10.00\" y=\"2.30\">r5</text></g><g transform=\"translate(381.04,53.50)rotate(0)\"><text style=\"\" x=\"10.00\" y=\"2.30\">r2</text></g><g transform=\"translate(381.04,34.90)rotate(0)\"><text style=\"\" x=\"10.00\" y=\"2.30\">r6</text></g></g></g></g></g><g class=\"toyplot-coordinates-Cartesian\" id=\"t60bfe07a2d50430d88def7b1badac2b7\"><clipPath id=\"ta4069cc0de7e4d8586d1bed1a0beaa6c\"><rect height=\"170.0\" width=\"110.0\" x=\"435.0\" y=\"15.0\"></rect></clipPath><g clip-path=\"url(#ta4069cc0de7e4d8586d1bed1a0beaa6c)\"><g class=\"toytree-mark-Toytree\" id=\"t5f4eb03f80244a5089c24bfa165a86a2\"><g class=\"toytree-Edges\" style=\"fill:none;stroke:rgb(14.9%,14.9%,14.9%);stroke-linecap:round;stroke-opacity:1;stroke-width:2\"><path d=\"M 446.7 59.3 L 446.7 83.7 L 472.4 83.7\" id=\"14,13\"></path><path d=\"M 472.4 83.7 L 472.4 114.0 L 473.9 114.0\" id=\"13,12\"></path><path d=\"M 473.9 114.0 L 473.9 86.0 L 485.1 86.0\" id=\"12,11\"></path><path d=\"M 473.9 114.0 L 473.9 141.9 L 474.7 141.9\" id=\"12,10\"></path><path d=\"M 485.1 86.0 L 485.1 100.0 L 501.0 100.0\" id=\"11,9\"></path><path d=\"M 474.7 141.9 L 474.7 155.8 L 499.1 155.8\" id=\"10,8\"></path><path d=\"M 446.7 59.3 L 446.7 34.9 L 521.0 34.9\" id=\"14,7\"></path><path d=\"M 472.4 83.7 L 472.4 53.5 L 521.0 53.5\" id=\"13,6\"></path><path d=\"M 485.1 86.0 L 485.1 72.1 L 521.0 72.1\" id=\"11,5\"></path><path d=\"M 501.0 100.0 L 501.0 90.7 L 521.0 90.7\" id=\"9,4\"></path><path d=\"M 501.0 100.0 L 501.0 109.3 L 521.0 109.3\" id=\"9,3\"></path><path d=\"M 474.7 141.9 L 474.7 127.9 L 521.0 127.9\" id=\"10,2\"></path><path d=\"M 499.1 155.8 L 499.1 146.5 L 521.0 146.5\" id=\"8,1\"></path><path d=\"M 499.1 155.8 L 499.1 165.1 L 521.0 165.1\" id=\"8,0\"></path></g><g class=\"toytree-TipLabels\" style=\"fill:rgb(14.9%,14.9%,14.9%);fill-opacity:1.0;font-family:helvetica;font-size:9px;font-weight:normal;stroke:none;white-space:pre\"><g transform=\"translate(521.04,165.10)rotate(0)\"><text style=\"\" x=\"10.00\" y=\"2.30\">r4</text></g><g transform=\"translate(521.04,146.50)rotate(0)\"><text style=\"\" x=\"10.00\" y=\"2.30\">r3</text></g><g transform=\"translate(521.04,127.90)rotate(0)\"><text style=\"\" x=\"10.00\" y=\"2.30\">r2</text></g><g transform=\"translate(521.04,109.30)rotate(0)\"><text style=\"\" x=\"10.00\" y=\"2.30\">r1</text></g><g transform=\"translate(521.04,90.70)rotate(0)\"><text style=\"\" x=\"10.00\" y=\"2.30\">r0</text></g><g transform=\"translate(521.04,72.10)rotate(0)\"><text style=\"\" x=\"10.00\" y=\"2.30\">r5</text></g><g transform=\"translate(521.04,53.50)rotate(0)\"><text style=\"\" x=\"10.00\" y=\"2.30\">r6</text></g><g transform=\"translate(521.04,34.90)rotate(0)\"><text style=\"\" x=\"10.00\" y=\"2.30\">r7</text></g></g></g></g></g></svg><div class=\"toyplot-behavior\"><script>(function()\n",
       "{\n",
       "var modules={};\n",
       "})();</script></div></div>"
      ]
     },
     "metadata": {},
     "output_type": "display_data"
    }
   ],
   "source": [
    "# simulate many unlinked genealogies (same as above)\n",
    "model = ipcoal.Model(tree, Ne=2e6, seed=123)\n",
    "model.sim_trees(nloci=10000, nsites=1)\n",
    "\n",
    "# load into a tree object and draw a few\n",
    "mtre = toytree.mtree(model.df.genealogy)\n",
    "mtre.draw();\n",
    "\n",
    "# convert bl units to E(subst.)\n",
    "for tre in mtre.treelist:\n",
    "    for node in tre.idx_dict.values():\n",
    "        node.dist = node.dist * 1e-8      \n",
    "\n",
    "# write re-formatted trees to a tmp file\n",
    "mtre.write(\"./sandra/genealogies.nwk\")"
   ]
  },
  {
   "cell_type": "markdown",
   "metadata": {},
   "source": [
    "### Confirm ASTRAL-genealogy is not an anomaly\n"
   ]
  },
  {
   "cell_type": "code",
   "execution_count": 12,
   "metadata": {},
   "outputs": [
    {
     "name": "stdout",
     "output_type": "stream",
     "text": [
      "[astral.5.7.1.jar]\n",
      "inferred tree written to (/rigel/dsi/users/slh2181/locus_length/toy_example/analysis-astral/astral-genealogies.tre)\n"
     ]
    }
   ],
   "source": [
    "# infer MSC sptree with ASTRAL\n",
    "ast = ipa.astral(\n",
    "    data=[i.write() for i in toytree.mtree(\"./sandra/genealogies.nwk\")],\n",
    "    name=\"astral-genealogies\",\n",
    ")\n",
    "ast.run()\n",
    "\n",
    "# draw sptree\n",
    "atree = toytree.tree(ast.tree).root(\"r7\")\n",
    "canvas, axes, mark = atree.draw(**ts);\n",
    "\n",
    "# save tree file\n",
    "atree.write(\"./sandra/astral-genealogies.nwk\")\n",
    "toyplot.svg.render(canvas,\"./sandra/astral_tree.svg\")\n",
    "\n",
    "canvas"
   ]
  },
  {
   "cell_type": "markdown",
   "metadata": {},
   "source": [
    "### Confirm SNAQ-genealogies is not an anomaly"
   ]
  },
  {
   "cell_type": "code",
   "execution_count": 12,
   "metadata": {},
   "outputs": [
    {
     "name": "stdout",
     "output_type": "stream",
     "text": [
      "[SNAQ v.x.y]\n",
      "[nproc = 10]\n",
      "julia /home/deren/gentime-attraction/notebooks/analysis-snaq/snaq-genealogies-net0.jl\n",
      "inferred network written to (/home/deren/gentime-attraction/notebooks/analysis-snaq/snaq-genealogies-net0.snaq)\n",
      "[SNAQ v.x.y]\n",
      "[nproc = 10]\n",
      "julia /home/deren/gentime-attraction/notebooks/analysis-snaq/snaq-genealogies-net1.jl\n",
      "inferred network written to (/home/deren/gentime-attraction/notebooks/analysis-snaq/snaq-genealogies-net1.snaq)\n"
     ]
    }
   ],
   "source": [
    "# infer sptree\n",
    "snaq0 = ipa.snaq(\n",
    "    gtrees=\"./sandra/genealogies.nwk\",\n",
    "    netin=\"./sandra/astral-genealogies.nwk\",\n",
    "    name=\"snaq-genealogies-net0\",\n",
    "    nedges=0,\n",
    "    nruns=10,\n",
    "    nproc=10,\n",
    "    seed=123,\n",
    ")\n",
    "snaq0.run()\n",
    "\n",
    "# infer sptree\n",
    "snaq1 = ipa.snaq(\n",
    "    gtrees=\"./sandra/genealogies.nwk\",\n",
    "    netin=\"./sandra/astral-genealogies.nwk\",\n",
    "    name=\"snaq-genealogies-net1\",\n",
    "    nedges=1,\n",
    "    nruns=10,\n",
    "    nproc=10,\n",
    "    seed=123,\n",
    ")\n",
    "snaq1.run()"
   ]
  },
  {
   "cell_type": "code",
   "execution_count": 13,
   "metadata": {
    "scrolled": false
   },
   "outputs": [
    {
     "data": {
      "text/plain": [
       "{'H9': (['r6', 'r7'], ['r0'], 0.5, {}, '0.006')}"
      ]
     },
     "execution_count": 13,
     "metadata": {},
     "output_type": "execute_result"
    }
   ],
   "source": [
    "# last number is the inferred gamma\n",
    "snaq1.admix"
   ]
  },
  {
   "cell_type": "code",
   "execution_count": 14,
   "metadata": {},
   "outputs": [
    {
     "data": {
      "text/html": [
       "<div class=\"toyplot\" id=\"t9ca38c744a584364a5431d191d0c6fa0\" style=\"text-align:center\"><svg class=\"toyplot-canvas-Canvas\" height=\"300.0px\" id=\"tefe3966bd872434594cbc7f06c80add7\" preserveAspectRatio=\"xMidYMid meet\" style=\"background-color:transparent;border-color:#292724;border-style:none;border-width:1.0;fill:rgb(16.1%,15.3%,14.1%);fill-opacity:1.0;font-family:Helvetica;font-size:12px;opacity:1.0;stroke:rgb(16.1%,15.3%,14.1%);stroke-opacity:1.0;stroke-width:1.0\" viewBox=\"0 0 260.0 300.0\" width=\"260.0px\" xmlns=\"http://www.w3.org/2000/svg\" xmlns:toyplot=\"http://www.sandia.gov/toyplot\" xmlns:xlink=\"http://www.w3.org/1999/xlink\"><g class=\"toyplot-coordinates-Cartesian\" id=\"taacd3eda83a44b77b4b2d4cdc6e0753b\"><clipPath id=\"tef9882cc3e344c5d88ce2a3bdb1ec355\"><rect height=\"240.0\" width=\"200.0\" x=\"30.0\" y=\"30.0\"></rect></clipPath><g clip-path=\"url(#tef9882cc3e344c5d88ce2a3bdb1ec355)\"><g class=\"toytree-mark-Toytree\" id=\"tc7d263e7f00a4bc38e98737e940ed203\"><g class=\"toytree-Edges\" style=\"fill:none;stroke:rgb(14.9%,14.9%,14.9%);stroke-linecap:round;stroke-opacity:1;stroke-width:2\"><path d=\"M 56.0 86.4 L 80.1 111.5\" id=\"14,13\"></path><path d=\"M 80.1 111.5 L 95.5 136.5\" id=\"13,12\"></path><path d=\"M 95.5 136.5 L 126.6 161.1\" id=\"12,11\"></path><path d=\"M 126.6 161.1 L 127.9 184.9\" id=\"11,10\"></path><path d=\"M 127.9 184.9 L 129.4 207.1\" id=\"10,9\"></path><path d=\"M 129.4 207.1 L 145.7 226.1\" id=\"9,8\"></path><path d=\"M 56.0 86.4 L 80.1 61.2\" id=\"14,7\"></path><path d=\"M 80.1 111.5 L 128.3 86.6\" id=\"13,6\"></path><path d=\"M 95.5 136.5 L 143.7 111.9\" id=\"12,5\"></path><path d=\"M 126.6 161.1 L 174.8 137.3\" id=\"11,4\"></path><path d=\"M 127.9 184.9 L 176.1 162.7\" id=\"10,3\"></path><path d=\"M 129.4 207.1 L 177.6 188.1\" id=\"9,2\"></path><path d=\"M 145.7 226.1 L 193.9 213.4\" id=\"8,1\"></path><path d=\"M 145.7 226.1 L 193.9 238.8\" id=\"8,0\"></path></g><g class=\"toytree-AlignEdges\" style=\"stroke:rgb(66.3%,66.3%,66.3%);stroke-dasharray:2, 4;stroke-linecap:round;stroke-opacity:1.0;stroke-width:2\"><path d=\"M 193.9 238.8 L 193.9 238.8\"></path><path d=\"M 193.9 213.4 L 193.9 213.4\"></path><path d=\"M 193.9 188.1 L 177.6 188.1\"></path><path d=\"M 193.9 162.7 L 176.1 162.7\"></path><path d=\"M 193.9 137.3 L 174.8 137.3\"></path><path d=\"M 193.9 111.9 L 143.7 111.9\"></path><path d=\"M 193.9 86.6 L 128.3 86.6\"></path><path d=\"M 193.9 61.2 L 80.1 61.2\"></path></g><g class=\"toytree-AdmixEdges\" style=\"fill:none;font-size:14px;stroke:rgba(90.6%,54.1%,76.5%,1.000);stroke-linecap:round;stroke-opacity:0.6;stroke-width:5\"><path d=\"M 95.5 136.5 L 87.8 124.0 L 169.8 232.5 L 145.7 226.1\" style=\"stroke:rgb(98.8%,55.3%,38.4%);stroke-opacity:0.7\"></path><text style=\"fill:#262626;fill-opacity:1.0;stroke:none;stroke-opacity:0.7;text-anchor:middle\" x=\"128.81\" y=\"190.25\">0.006</text></g><g class=\"toytree-Nodes\" style=\"fill:rgb(40%,76.1%,64.7%);fill-opacity:1.0;stroke:rgb(0%,0%,0%);stroke-opacity:1.0;stroke-width:2\"><g id=\"node-0\" transform=\"translate(193.912,238.810)\"><circle r=\"3.5\"></circle></g><g id=\"node-1\" transform=\"translate(193.912,213.436)\"><circle r=\"3.5\"></circle></g><g id=\"node-2\" transform=\"translate(177.639,188.061)\"><circle r=\"3.5\"></circle></g><g id=\"node-3\" transform=\"translate(176.101,162.687)\"><circle r=\"3.5\"></circle></g><g id=\"node-4\" transform=\"translate(174.757,137.313)\"><circle r=\"3.5\"></circle></g><g id=\"node-5\" transform=\"translate(143.682,111.939)\"><circle r=\"3.5\"></circle></g><g id=\"node-6\" transform=\"translate(128.326,86.564)\"><circle r=\"3.5\"></circle></g><g id=\"node-7\" transform=\"translate(80.130,61.190)\"><circle r=\"3.5\"></circle></g><g id=\"node-8\" transform=\"translate(145.716,226.123)\"><circle r=\"3.5\"></circle></g><g id=\"node-9\" transform=\"translate(129.443,207.092)\"><circle r=\"3.5\"></circle></g><g id=\"node-10\" transform=\"translate(127.906,184.890)\"><circle r=\"3.5\"></circle></g><g id=\"node-11\" transform=\"translate(126.561,161.101)\"><circle r=\"3.5\"></circle></g><g id=\"node-12\" transform=\"translate(95.486,136.520)\"><circle r=\"3.5\"></circle></g><g id=\"node-13\" transform=\"translate(80.130,111.542)\"><circle r=\"3.5\"></circle></g><g id=\"node-14\" transform=\"translate(56.032,86.366)\"><circle r=\"3.5\"></circle></g></g><g class=\"toytree-TipLabels\" style=\"fill:rgb(14.9%,14.9%,14.9%);fill-opacity:1.0;font-family:helvetica;font-size:11px;font-weight:normal;stroke:none;white-space:pre\"><g transform=\"translate(193.91,238.81)rotate(0)\"><text style=\"\" x=\"15.00\" y=\"2.81\">r0</text></g><g transform=\"translate(193.91,213.44)rotate(0)\"><text style=\"\" x=\"15.00\" y=\"2.81\">r1</text></g><g transform=\"translate(193.91,188.06)rotate(0)\"><text style=\"\" x=\"15.00\" y=\"2.81\">r2</text></g><g transform=\"translate(193.91,162.69)rotate(0)\"><text style=\"\" x=\"15.00\" y=\"2.81\">r3</text></g><g transform=\"translate(193.91,137.31)rotate(0)\"><text style=\"\" x=\"15.00\" y=\"2.81\">r4</text></g><g transform=\"translate(193.91,111.94)rotate(0)\"><text style=\"\" x=\"15.00\" y=\"2.81\">r5</text></g><g transform=\"translate(193.91,86.56)rotate(0)\"><text style=\"\" x=\"15.00\" y=\"2.81\">r6</text></g><g transform=\"translate(193.91,61.19)rotate(0)\"><text style=\"\" x=\"15.00\" y=\"2.81\">r7</text></g></g></g></g><g class=\"toyplot-coordinates-Axis\" id=\"ta32d5d5d12c64e229ad060fef46e73db\" transform=\"translate(50.0,250.0)translate(0,20.0)\"><line style=\"\" x1=\"6.032240169333601\" x2=\"143.9120154683873\" y1=\"0\" y2=\"0\"></line><g><line style=\"\" x1=\"143.9120154683873\" x2=\"143.9120154683873\" y1=\"0\" y2=\"-5\"></line><line style=\"\" x1=\"74.97212781886046\" x2=\"74.97212781886046\" y1=\"0\" y2=\"-5\"></line><line style=\"\" x1=\"6.0322401693336225\" x2=\"6.0322401693336225\" y1=\"0\" y2=\"-5\"></line></g><g><g transform=\"translate(143.9120154683873,6)\"><text style=\"fill:rgb(16.1%,15.3%,14.1%);fill-opacity:1.0;font-family:helvetica;font-size:10.0px;font-weight:normal;stroke:none;vertical-align:baseline;white-space:pre\" x=\"-2.78\" y=\"8.555\">0</text></g><g transform=\"translate(74.97212781886046,6)\"><text style=\"fill:rgb(16.1%,15.3%,14.1%);fill-opacity:1.0;font-family:helvetica;font-size:10.0px;font-weight:normal;stroke:none;vertical-align:baseline;white-space:pre\" x=\"-2.78\" y=\"8.555\">1</text></g><g transform=\"translate(6.0322401693336225,6)\"><text style=\"fill:rgb(16.1%,15.3%,14.1%);fill-opacity:1.0;font-family:helvetica;font-size:10.0px;font-weight:normal;stroke:none;vertical-align:baseline;white-space:pre\" x=\"-2.78\" y=\"8.555\">3</text></g></g><g class=\"toyplot-coordinates-Axis-coordinates\" style=\"visibility:hidden\" transform=\"\"><line style=\"stroke:rgb(43.9%,50.2%,56.5%);stroke-opacity:1.0;stroke-width:1.0\" x1=\"0\" x2=\"0\" y1=\"-3.0\" y2=\"4.5\"></line><text style=\"alignment-baseline:alphabetic;fill:rgb(43.9%,50.2%,56.5%);fill-opacity:1.0;font-size:10px;font-weight:normal;stroke:none;text-anchor:middle\" x=\"0\" y=\"-6\"></text></g></g></g></svg><div class=\"toyplot-behavior\"><script>(function()\n",
       "{\n",
       "var modules={};\n",
       "modules[\"toyplot/canvas/id\"] = \"tefe3966bd872434594cbc7f06c80add7\";\n",
       "modules[\"toyplot/canvas\"] = (function(canvas_id)\n",
       "    {\n",
       "        return document.querySelector(\"#\" + canvas_id);\n",
       "    })(modules[\"toyplot/canvas/id\"]);\n",
       "modules[\"toyplot.coordinates.Axis\"] = (\n",
       "        function(canvas)\n",
       "        {\n",
       "            function sign(x)\n",
       "            {\n",
       "                return x < 0 ? -1 : x > 0 ? 1 : 0;\n",
       "            }\n",
       "\n",
       "            function mix(a, b, amount)\n",
       "            {\n",
       "                return ((1.0 - amount) * a) + (amount * b);\n",
       "            }\n",
       "\n",
       "            function log(x, base)\n",
       "            {\n",
       "                return Math.log(Math.abs(x)) / Math.log(base);\n",
       "            }\n",
       "\n",
       "            function in_range(a, x, b)\n",
       "            {\n",
       "                var left = Math.min(a, b);\n",
       "                var right = Math.max(a, b);\n",
       "                return left <= x && x <= right;\n",
       "            }\n",
       "\n",
       "            function inside(range, projection)\n",
       "            {\n",
       "                for(var i = 0; i != projection.length; ++i)\n",
       "                {\n",
       "                    var segment = projection[i];\n",
       "                    if(in_range(segment.range.min, range, segment.range.max))\n",
       "                        return true;\n",
       "                }\n",
       "                return false;\n",
       "            }\n",
       "\n",
       "            function to_domain(range, projection)\n",
       "            {\n",
       "                for(var i = 0; i != projection.length; ++i)\n",
       "                {\n",
       "                    var segment = projection[i];\n",
       "                    if(in_range(segment.range.bounds.min, range, segment.range.bounds.max))\n",
       "                    {\n",
       "                        if(segment.scale == \"linear\")\n",
       "                        {\n",
       "                            var amount = (range - segment.range.min) / (segment.range.max - segment.range.min);\n",
       "                            return mix(segment.domain.min, segment.domain.max, amount)\n",
       "                        }\n",
       "                        else if(segment.scale[0] == \"log\")\n",
       "                        {\n",
       "                            var amount = (range - segment.range.min) / (segment.range.max - segment.range.min);\n",
       "                            var base = segment.scale[1];\n",
       "                            return sign(segment.domain.min) * Math.pow(base, mix(log(segment.domain.min, base), log(segment.domain.max, base), amount));\n",
       "                        }\n",
       "                    }\n",
       "                }\n",
       "            }\n",
       "\n",
       "            var axes = {};\n",
       "\n",
       "            function display_coordinates(e)\n",
       "            {\n",
       "                var current = canvas.createSVGPoint();\n",
       "                current.x = e.clientX;\n",
       "                current.y = e.clientY;\n",
       "\n",
       "                for(var axis_id in axes)\n",
       "                {\n",
       "                    var axis = document.querySelector(\"#\" + axis_id);\n",
       "                    var coordinates = axis.querySelector(\".toyplot-coordinates-Axis-coordinates\");\n",
       "                    if(coordinates)\n",
       "                    {\n",
       "                        var projection = axes[axis_id];\n",
       "                        var local = current.matrixTransform(axis.getScreenCTM().inverse());\n",
       "                        if(inside(local.x, projection))\n",
       "                        {\n",
       "                            var domain = to_domain(local.x, projection);\n",
       "                            coordinates.style.visibility = \"visible\";\n",
       "                            coordinates.setAttribute(\"transform\", \"translate(\" + local.x + \")\");\n",
       "                            var text = coordinates.querySelector(\"text\");\n",
       "                            text.textContent = domain.toFixed(2);\n",
       "                        }\n",
       "                        else\n",
       "                        {\n",
       "                            coordinates.style.visibility= \"hidden\";\n",
       "                        }\n",
       "                    }\n",
       "                }\n",
       "            }\n",
       "\n",
       "            canvas.addEventListener(\"click\", display_coordinates);\n",
       "\n",
       "            var module = {};\n",
       "            module.show_coordinates = function(axis_id, projection)\n",
       "            {\n",
       "                axes[axis_id] = projection;\n",
       "            }\n",
       "\n",
       "            return module;\n",
       "        })(modules[\"toyplot/canvas\"]);\n",
       "(function(axis, axis_id, projection)\n",
       "        {\n",
       "            axis.show_coordinates(axis_id, projection);\n",
       "        })(modules[\"toyplot.coordinates.Axis\"],\"ta32d5d5d12c64e229ad060fef46e73db\",[{\"domain\": {\"bounds\": {\"max\": Infinity, \"min\": -Infinity}, \"max\": 0.333806113980615, \"min\": -2.9859993055205245}, \"range\": {\"bounds\": {\"max\": Infinity, \"min\": -Infinity}, \"max\": 160.0, \"min\": 0.0}, \"scale\": \"linear\"}]);\n",
       "})();</script></div></div>"
      ]
     },
     "metadata": {},
     "output_type": "display_data"
    }
   ],
   "source": [
    "# draw tree\n",
    "stree = toytree.tree(snaq1.tree).root(\"r7\")\n",
    "stree.draw(**ts, admixture_edges=snaq1.admix.values());\n",
    "\n",
    "# write network\n",
    "stree.write(\"./sandra/snaq-genealogies.nwk\")"
   ]
  },
  {
   "cell_type": "markdown",
   "metadata": {},
   "source": [
    "### Infer 10Kb window gene trees on the simulated chromosome\n"
   ]
  },
  {
   "cell_type": "code",
   "execution_count": 17,
   "metadata": {},
   "outputs": [
    {
     "name": "stdout",
     "output_type": "stream",
     "text": [
      "building database: nwindows=9; minsnps=1\n",
      "[####################] 100% 0:00:23 | inferring trees \n",
      "tree_table written to /home/deren/gentime-attraction/notebooks/sandra/windows-100K.tree_table.csv\n"
     ]
    }
   ],
   "source": [
    "# init tree slider inference tool\n",
    "tool = ipa.treeslider(\n",
    "    data=\"./sandra/chrom-1e6.seqs.hdf5\",\n",
    "    name=\"windows-100K\",\n",
    "    workdir=\"sandra\",\n",
    "    window_size=100e3,\n",
    "    slide_size=100e3,\n",
    "    scaffold_idxs=0,\n",
    "    inference_args={\n",
    "        \"N\": 10,\n",
    "        \"f\": \"d\",\n",
    "        \"p\": 12345,\n",
    "        \"x\": None,\n",
    "        \"T\": 2,\n",
    "    }\n",
    ")\n",
    "\n",
    "# infer all gene trees\n",
    "tool.ipcluster['cores'] = 20\n",
    "tool.ipcluster['threads'] = 2\n",
    "tool.run(auto=True, force=True)"
   ]
  },
  {
   "cell_type": "code",
   "execution_count": 22,
   "metadata": {},
   "outputs": [
    {
     "data": {
      "text/html": [
       "<div class=\"toyplot\" id=\"t55d65ad56f6c44a59a30464e535e776b\" style=\"text-align:center\"><svg class=\"toyplot-canvas-Canvas\" height=\"200.0px\" id=\"tfdb1ddf7ad0d4530bfb2e482d94d14d7\" preserveAspectRatio=\"xMidYMid meet\" style=\"background-color:transparent;border-color:#292724;border-style:none;border-width:1.0;fill:rgb(16.1%,15.3%,14.1%);fill-opacity:1.0;font-family:Helvetica;font-size:12px;opacity:1.0;stroke:rgb(16.1%,15.3%,14.1%);stroke-opacity:1.0;stroke-width:1.0\" viewBox=\"0 0 560.0 200.0\" width=\"560.0px\" xmlns=\"http://www.w3.org/2000/svg\" xmlns:toyplot=\"http://www.sandia.gov/toyplot\" xmlns:xlink=\"http://www.w3.org/1999/xlink\"><g class=\"toyplot-coordinates-Cartesian\" id=\"t0d85414362f34847b114e57a8322504c\"><clipPath id=\"t9f3120ed8865444d927ea77d6e386d6c\"><rect height=\"170.0\" width=\"110.0\" x=\"15.0\" y=\"15.0\"></rect></clipPath><g clip-path=\"url(#t9f3120ed8865444d927ea77d6e386d6c)\"><g class=\"toytree-mark-Toytree\" id=\"tb12861690f644e80a30b48cb7a45aa5a\"><g class=\"toytree-Edges\" style=\"fill:none;stroke:rgb(14.9%,14.9%,14.9%);stroke-linecap:round;stroke-opacity:1;stroke-width:2\"><path d=\"M 31.3 55.0 L 43.0 75.0\" id=\"14,13\"></path><path d=\"M 43.0 75.0 L 54.8 96.5\" id=\"13,12\"></path><path d=\"M 54.8 96.5 L 66.5 120.9\" id=\"12,11\"></path><path d=\"M 66.5 120.9 L 90.0 100.0\" id=\"11,10\"></path><path d=\"M 66.5 120.9 L 78.3 141.9\" id=\"11,9\"></path><path d=\"M 78.3 141.9 L 90.0 155.8\" id=\"9,8\"></path><path d=\"M 31.3 55.0 L 101.8 34.9\" id=\"14,7\"></path><path d=\"M 43.0 75.0 L 101.8 53.5\" id=\"13,6\"></path><path d=\"M 54.8 96.5 L 101.8 72.1\" id=\"12,5\"></path><path d=\"M 90.0 100.0 L 101.8 90.7\" id=\"10,4\"></path><path d=\"M 90.0 100.0 L 101.8 109.3\" id=\"10,3\"></path><path d=\"M 78.3 141.9 L 101.8 127.9\" id=\"9,2\"></path><path d=\"M 90.0 155.8 L 101.8 146.5\" id=\"8,1\"></path><path d=\"M 90.0 155.8 L 101.8 165.1\" id=\"8,0\"></path></g><g class=\"toytree-AlignEdges\" style=\"stroke:rgb(66.3%,66.3%,66.3%);stroke-dasharray:2, 4;stroke-linecap:round;stroke-opacity:1.0;stroke-width:2\"><path d=\"M 101.8 165.1 L 101.8 165.1\"></path><path d=\"M 101.8 146.5 L 101.8 146.5\"></path><path d=\"M 101.8 127.9 L 101.8 127.9\"></path><path d=\"M 101.8 109.3 L 101.8 109.3\"></path><path d=\"M 101.8 90.7 L 101.8 90.7\"></path><path d=\"M 101.8 72.1 L 101.8 72.1\"></path><path d=\"M 101.8 53.5 L 101.8 53.5\"></path><path d=\"M 101.8 34.9 L 101.8 34.9\"></path></g><g class=\"toytree-Nodes\" style=\"fill:rgb(10.6%,62%,46.7%);fill-opacity:1.0;stroke:rgb(100%,100%,100%);stroke-opacity:1.0;stroke-width:1.5\"><g id=\"node-0\" transform=\"translate(101.768,165.104)\"><circle r=\"4.0\"></circle></g><g id=\"node-1\" transform=\"translate(101.768,146.503)\"><circle r=\"4.0\"></circle></g><g id=\"node-2\" transform=\"translate(101.768,127.902)\"><circle r=\"4.0\"></circle></g><g id=\"node-3\" transform=\"translate(101.768,109.301)\"><circle r=\"4.0\"></circle></g><g id=\"node-4\" transform=\"translate(101.768,90.699)\"><circle r=\"4.0\"></circle></g><g id=\"node-5\" transform=\"translate(101.768,72.098)\"><circle r=\"4.0\"></circle></g><g id=\"node-6\" transform=\"translate(101.768,53.497)\"><circle r=\"4.0\"></circle></g><g id=\"node-7\" transform=\"translate(101.768,34.896)\"><circle r=\"4.0\"></circle></g><g id=\"node-8\" transform=\"translate(90.018,155.804)\"><circle r=\"4.0\"></circle></g><g id=\"node-9\" transform=\"translate(78.268,141.853)\"><circle r=\"4.0\"></circle></g><g id=\"node-10\" transform=\"translate(90.018,100.000)\"><circle r=\"4.0\"></circle></g><g id=\"node-11\" transform=\"translate(66.518,120.926)\"><circle r=\"4.0\"></circle></g><g id=\"node-12\" transform=\"translate(54.767,96.512)\"><circle r=\"4.0\"></circle></g><g id=\"node-13\" transform=\"translate(43.017,75.005)\"><circle r=\"4.0\"></circle></g><g id=\"node-14\" transform=\"translate(31.267,54.950)\"><circle r=\"4.0\"></circle></g></g><g class=\"toytree-TipLabels\" style=\"fill:rgb(14.9%,14.9%,14.9%);fill-opacity:1.0;font-family:helvetica;font-size:9px;font-weight:normal;stroke:none;white-space:pre\"><g transform=\"translate(101.77,165.10)rotate(0)\"><text style=\"\" x=\"10.00\" y=\"2.30\">r0</text></g><g transform=\"translate(101.77,146.50)rotate(0)\"><text style=\"\" x=\"10.00\" y=\"2.30\">r1</text></g><g transform=\"translate(101.77,127.90)rotate(0)\"><text style=\"\" x=\"10.00\" y=\"2.30\">r2</text></g><g transform=\"translate(101.77,109.30)rotate(0)\"><text style=\"\" x=\"10.00\" y=\"2.30\">r4</text></g><g transform=\"translate(101.77,90.70)rotate(0)\"><text style=\"\" x=\"10.00\" y=\"2.30\">r3</text></g><g transform=\"translate(101.77,72.10)rotate(0)\"><text style=\"\" x=\"10.00\" y=\"2.30\">r5</text></g><g transform=\"translate(101.77,53.50)rotate(0)\"><text style=\"\" x=\"10.00\" y=\"2.30\">r6</text></g><g transform=\"translate(101.77,34.90)rotate(0)\"><text style=\"\" x=\"10.00\" y=\"2.30\">r7</text></g></g></g></g></g><g class=\"toyplot-coordinates-Cartesian\" id=\"t8c7a21cb89234920a28be1219dbbebc8\"><clipPath id=\"te6b98ac6d74f414689ce021ec9ae8051\"><rect height=\"170.0\" width=\"110.0\" x=\"155.0\" y=\"15.0\"></rect></clipPath><g clip-path=\"url(#te6b98ac6d74f414689ce021ec9ae8051)\"><g class=\"toytree-mark-Toytree\" id=\"tbc881fc4ebe94c0eaf775ab8b34cf8fe\"><g class=\"toytree-Edges\" style=\"fill:none;stroke:rgb(14.9%,14.9%,14.9%);stroke-linecap:round;stroke-opacity:1;stroke-width:2\"><path d=\"M 171.3 55.0 L 183.0 75.0\" id=\"14,13\"></path><path d=\"M 183.0 75.0 L 194.8 96.5\" id=\"13,12\"></path><path d=\"M 194.8 96.5 L 206.5 120.9\" id=\"12,11\"></path><path d=\"M 206.5 120.9 L 230.0 100.0\" id=\"11,10\"></path><path d=\"M 206.5 120.9 L 218.3 141.9\" id=\"11,9\"></path><path d=\"M 218.3 141.9 L 230.0 155.8\" id=\"9,8\"></path><path d=\"M 171.3 55.0 L 241.8 34.9\" id=\"14,7\"></path><path d=\"M 183.0 75.0 L 241.8 53.5\" id=\"13,6\"></path><path d=\"M 194.8 96.5 L 241.8 72.1\" id=\"12,5\"></path><path d=\"M 230.0 100.0 L 241.8 90.7\" id=\"10,4\"></path><path d=\"M 230.0 100.0 L 241.8 109.3\" id=\"10,3\"></path><path d=\"M 218.3 141.9 L 241.8 127.9\" id=\"9,2\"></path><path d=\"M 230.0 155.8 L 241.8 146.5\" id=\"8,1\"></path><path d=\"M 230.0 155.8 L 241.8 165.1\" id=\"8,0\"></path></g><g class=\"toytree-AlignEdges\" style=\"stroke:rgb(66.3%,66.3%,66.3%);stroke-dasharray:2, 4;stroke-linecap:round;stroke-opacity:1.0;stroke-width:2\"><path d=\"M 241.8 165.1 L 241.8 165.1\"></path><path d=\"M 241.8 146.5 L 241.8 146.5\"></path><path d=\"M 241.8 127.9 L 241.8 127.9\"></path><path d=\"M 241.8 109.3 L 241.8 109.3\"></path><path d=\"M 241.8 90.7 L 241.8 90.7\"></path><path d=\"M 241.8 72.1 L 241.8 72.1\"></path><path d=\"M 241.8 53.5 L 241.8 53.5\"></path><path d=\"M 241.8 34.9 L 241.8 34.9\"></path></g><g class=\"toytree-Nodes\" style=\"fill:rgb(10.6%,62%,46.7%);fill-opacity:1.0;stroke:rgb(100%,100%,100%);stroke-opacity:1.0;stroke-width:1.5\"><g id=\"node-0\" transform=\"translate(241.768,165.104)\"><circle r=\"4.0\"></circle></g><g id=\"node-1\" transform=\"translate(241.768,146.503)\"><circle r=\"4.0\"></circle></g><g id=\"node-2\" transform=\"translate(241.768,127.902)\"><circle r=\"4.0\"></circle></g><g id=\"node-3\" transform=\"translate(241.768,109.301)\"><circle r=\"4.0\"></circle></g><g id=\"node-4\" transform=\"translate(241.768,90.699)\"><circle r=\"4.0\"></circle></g><g id=\"node-5\" transform=\"translate(241.768,72.098)\"><circle r=\"4.0\"></circle></g><g id=\"node-6\" transform=\"translate(241.768,53.497)\"><circle r=\"4.0\"></circle></g><g id=\"node-7\" transform=\"translate(241.768,34.896)\"><circle r=\"4.0\"></circle></g><g id=\"node-8\" transform=\"translate(230.018,155.804)\"><circle r=\"4.0\"></circle></g><g id=\"node-9\" transform=\"translate(218.268,141.853)\"><circle r=\"4.0\"></circle></g><g id=\"node-10\" transform=\"translate(230.018,100.000)\"><circle r=\"4.0\"></circle></g><g id=\"node-11\" transform=\"translate(206.518,120.926)\"><circle r=\"4.0\"></circle></g><g id=\"node-12\" transform=\"translate(194.767,96.512)\"><circle r=\"4.0\"></circle></g><g id=\"node-13\" transform=\"translate(183.017,75.005)\"><circle r=\"4.0\"></circle></g><g id=\"node-14\" transform=\"translate(171.267,54.950)\"><circle r=\"4.0\"></circle></g></g><g class=\"toytree-TipLabels\" style=\"fill:rgb(14.9%,14.9%,14.9%);fill-opacity:1.0;font-family:helvetica;font-size:9px;font-weight:normal;stroke:none;white-space:pre\"><g transform=\"translate(241.77,165.10)rotate(0)\"><text style=\"\" x=\"10.00\" y=\"2.30\">r0</text></g><g transform=\"translate(241.77,146.50)rotate(0)\"><text style=\"\" x=\"10.00\" y=\"2.30\">r1</text></g><g transform=\"translate(241.77,127.90)rotate(0)\"><text style=\"\" x=\"10.00\" y=\"2.30\">r2</text></g><g transform=\"translate(241.77,109.30)rotate(0)\"><text style=\"\" x=\"10.00\" y=\"2.30\">r4</text></g><g transform=\"translate(241.77,90.70)rotate(0)\"><text style=\"\" x=\"10.00\" y=\"2.30\">r3</text></g><g transform=\"translate(241.77,72.10)rotate(0)\"><text style=\"\" x=\"10.00\" y=\"2.30\">r5</text></g><g transform=\"translate(241.77,53.50)rotate(0)\"><text style=\"\" x=\"10.00\" y=\"2.30\">r6</text></g><g transform=\"translate(241.77,34.90)rotate(0)\"><text style=\"\" x=\"10.00\" y=\"2.30\">r7</text></g></g></g></g></g><g class=\"toyplot-coordinates-Cartesian\" id=\"t6ee1759ed5d946b89cb913ce2e95bbcd\"><clipPath id=\"t0773c9f23d1041ab82643c847c640a24\"><rect height=\"170.0\" width=\"110.0\" x=\"295.0\" y=\"15.0\"></rect></clipPath><g clip-path=\"url(#t0773c9f23d1041ab82643c847c640a24)\"><g class=\"toytree-mark-Toytree\" id=\"t589d9af0d7b14188a1f5f2c900f803cd\"><g class=\"toytree-Edges\" style=\"fill:none;stroke:rgb(14.9%,14.9%,14.9%);stroke-linecap:round;stroke-opacity:1;stroke-width:2\"><path d=\"M 311.3 53.4 L 321.3 71.8\" id=\"14,13\"></path><path d=\"M 321.3 71.8 L 331.4 90.1\" id=\"13,12\"></path><path d=\"M 331.4 90.1 L 341.5 108.1\" id=\"12,11\"></path><path d=\"M 341.5 108.1 L 351.6 125.6\" id=\"11,10\"></path><path d=\"M 351.6 125.6 L 361.6 141.9\" id=\"10,9\"></path><path d=\"M 361.6 141.9 L 371.7 155.8\" id=\"9,8\"></path><path d=\"M 311.3 53.4 L 381.8 34.9\" id=\"14,7\"></path><path d=\"M 321.3 71.8 L 381.8 53.5\" id=\"13,6\"></path><path d=\"M 331.4 90.1 L 381.8 72.1\" id=\"12,5\"></path><path d=\"M 341.5 108.1 L 381.8 90.7\" id=\"11,4\"></path><path d=\"M 351.6 125.6 L 381.8 109.3\" id=\"10,3\"></path><path d=\"M 361.6 141.9 L 381.8 127.9\" id=\"9,2\"></path><path d=\"M 371.7 155.8 L 381.8 146.5\" id=\"8,1\"></path><path d=\"M 371.7 155.8 L 381.8 165.1\" id=\"8,0\"></path></g><g class=\"toytree-AlignEdges\" style=\"stroke:rgb(66.3%,66.3%,66.3%);stroke-dasharray:2, 4;stroke-linecap:round;stroke-opacity:1.0;stroke-width:2\"><path d=\"M 381.8 165.1 L 381.8 165.1\"></path><path d=\"M 381.8 146.5 L 381.8 146.5\"></path><path d=\"M 381.8 127.9 L 381.8 127.9\"></path><path d=\"M 381.8 109.3 L 381.8 109.3\"></path><path d=\"M 381.8 90.7 L 381.8 90.7\"></path><path d=\"M 381.8 72.1 L 381.8 72.1\"></path><path d=\"M 381.8 53.5 L 381.8 53.5\"></path><path d=\"M 381.8 34.9 L 381.8 34.9\"></path></g><g class=\"toytree-Nodes\" style=\"fill:rgb(10.6%,62%,46.7%);fill-opacity:1.0;stroke:rgb(100%,100%,100%);stroke-opacity:1.0;stroke-width:1.5\"><g id=\"node-0\" transform=\"translate(381.768,165.104)\"><circle r=\"4.0\"></circle></g><g id=\"node-1\" transform=\"translate(381.768,146.503)\"><circle r=\"4.0\"></circle></g><g id=\"node-2\" transform=\"translate(381.768,127.902)\"><circle r=\"4.0\"></circle></g><g id=\"node-3\" transform=\"translate(381.768,109.301)\"><circle r=\"4.0\"></circle></g><g id=\"node-4\" transform=\"translate(381.768,90.699)\"><circle r=\"4.0\"></circle></g><g id=\"node-5\" transform=\"translate(381.768,72.098)\"><circle r=\"4.0\"></circle></g><g id=\"node-6\" transform=\"translate(381.768,53.497)\"><circle r=\"4.0\"></circle></g><g id=\"node-7\" transform=\"translate(381.768,34.896)\"><circle r=\"4.0\"></circle></g><g id=\"node-8\" transform=\"translate(371.697,155.804)\"><circle r=\"4.0\"></circle></g><g id=\"node-9\" transform=\"translate(361.625,141.853)\"><circle r=\"4.0\"></circle></g><g id=\"node-10\" transform=\"translate(351.553,125.577)\"><circle r=\"4.0\"></circle></g><g id=\"node-11\" transform=\"translate(341.482,108.138)\"><circle r=\"4.0\"></circle></g><g id=\"node-12\" transform=\"translate(331.410,90.118)\"><circle r=\"4.0\"></circle></g><g id=\"node-13\" transform=\"translate(321.338,71.808)\"><circle r=\"4.0\"></circle></g><g id=\"node-14\" transform=\"translate(311.267,53.352)\"><circle r=\"4.0\"></circle></g></g><g class=\"toytree-TipLabels\" style=\"fill:rgb(14.9%,14.9%,14.9%);fill-opacity:1.0;font-family:helvetica;font-size:9px;font-weight:normal;stroke:none;white-space:pre\"><g transform=\"translate(381.77,165.10)rotate(0)\"><text style=\"\" x=\"10.00\" y=\"2.30\">r0</text></g><g transform=\"translate(381.77,146.50)rotate(0)\"><text style=\"\" x=\"10.00\" y=\"2.30\">r1</text></g><g transform=\"translate(381.77,127.90)rotate(0)\"><text style=\"\" x=\"10.00\" y=\"2.30\">r3</text></g><g transform=\"translate(381.77,109.30)rotate(0)\"><text style=\"\" x=\"10.00\" y=\"2.30\">r2</text></g><g transform=\"translate(381.77,90.70)rotate(0)\"><text style=\"\" x=\"10.00\" y=\"2.30\">r4</text></g><g transform=\"translate(381.77,72.10)rotate(0)\"><text style=\"\" x=\"10.00\" y=\"2.30\">r5</text></g><g transform=\"translate(381.77,53.50)rotate(0)\"><text style=\"\" x=\"10.00\" y=\"2.30\">r6</text></g><g transform=\"translate(381.77,34.90)rotate(0)\"><text style=\"\" x=\"10.00\" y=\"2.30\">r7</text></g></g></g></g></g><g class=\"toyplot-coordinates-Cartesian\" id=\"t6d386b2f304943c1a33fb5f65bd6b7fb\"><clipPath id=\"teefa98e1bd9842c7929b6c7b05b1bf46\"><rect height=\"170.0\" width=\"110.0\" x=\"435.0\" y=\"15.0\"></rect></clipPath><g clip-path=\"url(#teefa98e1bd9842c7929b6c7b05b1bf46)\"><g class=\"toytree-mark-Toytree\" id=\"t51e74402b09f4b4c89bd4ac182f8d3b0\"><g class=\"toytree-Edges\" style=\"fill:none;stroke:rgb(14.9%,14.9%,14.9%);stroke-linecap:round;stroke-opacity:1;stroke-width:2\"><path d=\"M 451.3 54.1 L 463.0 73.3\" id=\"14,13\"></path><path d=\"M 463.0 73.3 L 474.8 93.0\" id=\"13,12\"></path><path d=\"M 474.8 93.0 L 486.5 114.0\" id=\"12,11\"></path><path d=\"M 486.5 114.0 L 498.3 137.2\" id=\"11,10\"></path><path d=\"M 498.3 137.2 L 510.0 118.6\" id=\"10,9\"></path><path d=\"M 498.3 137.2 L 510.0 155.8\" id=\"10,8\"></path><path d=\"M 451.3 54.1 L 521.8 34.9\" id=\"14,7\"></path><path d=\"M 463.0 73.3 L 521.8 53.5\" id=\"13,6\"></path><path d=\"M 474.8 93.0 L 521.8 72.1\" id=\"12,5\"></path><path d=\"M 486.5 114.0 L 521.8 90.7\" id=\"11,4\"></path><path d=\"M 510.0 118.6 L 521.8 109.3\" id=\"9,3\"></path><path d=\"M 510.0 118.6 L 521.8 127.9\" id=\"9,2\"></path><path d=\"M 510.0 155.8 L 521.8 146.5\" id=\"8,1\"></path><path d=\"M 510.0 155.8 L 521.8 165.1\" id=\"8,0\"></path></g><g class=\"toytree-AlignEdges\" style=\"stroke:rgb(66.3%,66.3%,66.3%);stroke-dasharray:2, 4;stroke-linecap:round;stroke-opacity:1.0;stroke-width:2\"><path d=\"M 521.8 165.1 L 521.8 165.1\"></path><path d=\"M 521.8 146.5 L 521.8 146.5\"></path><path d=\"M 521.8 127.9 L 521.8 127.9\"></path><path d=\"M 521.8 109.3 L 521.8 109.3\"></path><path d=\"M 521.8 90.7 L 521.8 90.7\"></path><path d=\"M 521.8 72.1 L 521.8 72.1\"></path><path d=\"M 521.8 53.5 L 521.8 53.5\"></path><path d=\"M 521.8 34.9 L 521.8 34.9\"></path></g><g class=\"toytree-Nodes\" style=\"fill:rgb(10.6%,62%,46.7%);fill-opacity:1.0;stroke:rgb(100%,100%,100%);stroke-opacity:1.0;stroke-width:1.5\"><g id=\"node-0\" transform=\"translate(521.768,165.104)\"><circle r=\"4.0\"></circle></g><g id=\"node-1\" transform=\"translate(521.768,146.503)\"><circle r=\"4.0\"></circle></g><g id=\"node-2\" transform=\"translate(521.768,127.902)\"><circle r=\"4.0\"></circle></g><g id=\"node-3\" transform=\"translate(521.768,109.301)\"><circle r=\"4.0\"></circle></g><g id=\"node-4\" transform=\"translate(521.768,90.699)\"><circle r=\"4.0\"></circle></g><g id=\"node-5\" transform=\"translate(521.768,72.098)\"><circle r=\"4.0\"></circle></g><g id=\"node-6\" transform=\"translate(521.768,53.497)\"><circle r=\"4.0\"></circle></g><g id=\"node-7\" transform=\"translate(521.768,34.896)\"><circle r=\"4.0\"></circle></g><g id=\"node-8\" transform=\"translate(510.018,155.804)\"><circle r=\"4.0\"></circle></g><g id=\"node-9\" transform=\"translate(510.018,118.601)\"><circle r=\"4.0\"></circle></g><g id=\"node-10\" transform=\"translate(498.268,137.202)\"><circle r=\"4.0\"></circle></g><g id=\"node-11\" transform=\"translate(486.518,113.951)\"><circle r=\"4.0\"></circle></g><g id=\"node-12\" transform=\"translate(474.767,93.025)\"><circle r=\"4.0\"></circle></g><g id=\"node-13\" transform=\"translate(463.017,73.261)\"><circle r=\"4.0\"></circle></g><g id=\"node-14\" transform=\"translate(451.267,54.078)\"><circle r=\"4.0\"></circle></g></g><g class=\"toytree-TipLabels\" style=\"fill:rgb(14.9%,14.9%,14.9%);fill-opacity:1.0;font-family:helvetica;font-size:9px;font-weight:normal;stroke:none;white-space:pre\"><g transform=\"translate(521.77,165.10)rotate(0)\"><text style=\"\" x=\"10.00\" y=\"2.30\">r0</text></g><g transform=\"translate(521.77,146.50)rotate(0)\"><text style=\"\" x=\"10.00\" y=\"2.30\">r1</text></g><g transform=\"translate(521.77,127.90)rotate(0)\"><text style=\"\" x=\"10.00\" y=\"2.30\">r3</text></g><g transform=\"translate(521.77,109.30)rotate(0)\"><text style=\"\" x=\"10.00\" y=\"2.30\">r4</text></g><g transform=\"translate(521.77,90.70)rotate(0)\"><text style=\"\" x=\"10.00\" y=\"2.30\">r2</text></g><g transform=\"translate(521.77,72.10)rotate(0)\"><text style=\"\" x=\"10.00\" y=\"2.30\">r5</text></g><g transform=\"translate(521.77,53.50)rotate(0)\"><text style=\"\" x=\"10.00\" y=\"2.30\">r6</text></g><g transform=\"translate(521.77,34.90)rotate(0)\"><text style=\"\" x=\"10.00\" y=\"2.30\">r7</text></g></g></g></g></g></svg><div class=\"toyplot-behavior\"><script>(function()\n",
       "{\n",
       "var modules={};\n",
       "})();</script></div></div>"
      ]
     },
     "metadata": {},
     "output_type": "display_data"
    }
   ],
   "source": [
    "# load tree slider (gene tree inference) results\n",
    "tw = pd.read_csv(\"./sandra/windows-100K.tree_table.csv\", index_col=0)\n",
    "\n",
    "# load gene trees into toytree multitree object\n",
    "mtre = toytree.mtree(tw.tree)\n",
    "mtre.treelist = [i.root(\"r7\") for i in mtre.treelist]\n",
    "mtre.draw(ts='o', use_edge_lengths=False);\n",
    "\n",
    "# write list of trees as a tmp file\n",
    "print(len(mtre), \"gene trees\")\n",
    "mtre.write(\"./sandra/genetrees.nwk\")"
   ]
  },
  {
   "cell_type": "markdown",
   "metadata": {},
   "source": [
    "### Infer ASTRAL tree from inferred gene trees"
   ]
  },
  {
   "cell_type": "code",
   "execution_count": 23,
   "metadata": {},
   "outputs": [
    {
     "name": "stdout",
     "output_type": "stream",
     "text": [
      "[astral.5.7.1.jar]\n",
      "inferred tree written to (/home/deren/gentime-attraction/notebooks/analysis-astral/astral-genetrees.tre)\n"
     ]
    },
    {
     "data": {
      "text/html": [
       "<div class=\"toyplot\" id=\"tfba5c6ea79254465ab57dcc344d50946\" style=\"text-align:center\"><svg class=\"toyplot-canvas-Canvas\" height=\"300.0px\" id=\"t193c9913cada4b4286b5110d45ac7ac5\" preserveAspectRatio=\"xMidYMid meet\" style=\"background-color:transparent;border-color:#292724;border-style:none;border-width:1.0;fill:rgb(16.1%,15.3%,14.1%);fill-opacity:1.0;font-family:Helvetica;font-size:12px;opacity:1.0;stroke:rgb(16.1%,15.3%,14.1%);stroke-opacity:1.0;stroke-width:1.0\" viewBox=\"0 0 260.0 300.0\" width=\"260.0px\" xmlns=\"http://www.w3.org/2000/svg\" xmlns:toyplot=\"http://www.sandia.gov/toyplot\" xmlns:xlink=\"http://www.w3.org/1999/xlink\"><g class=\"toyplot-coordinates-Cartesian\" id=\"t26bbe0d8a2704deaa1eff2f804360afb\"><clipPath id=\"tdc256152a80c490e9b154da0873aeda8\"><rect height=\"240.0\" width=\"200.0\" x=\"30.0\" y=\"30.0\"></rect></clipPath><g clip-path=\"url(#tdc256152a80c490e9b154da0873aeda8)\"><g class=\"toytree-mark-Toytree\" id=\"t52ea5ececea64036ad354c30b5cb8914\"><g class=\"toytree-Edges\" style=\"fill:none;stroke:rgb(14.9%,14.9%,14.9%);stroke-linecap:round;stroke-opacity:1;stroke-width:2\"><path d=\"M 56.0 88.5 L 56.0 115.9\" id=\"14,13\"></path><path d=\"M 56.0 115.9 L 91.0 145.2\" id=\"13,12\"></path><path d=\"M 91.0 145.2 L 125.9 178.5\" id=\"12,11\"></path><path d=\"M 125.9 178.5 L 140.6 150.0\" id=\"11,10\"></path><path d=\"M 125.9 178.5 L 140.6 207.1\" id=\"11,9\"></path><path d=\"M 140.6 207.1 L 175.5 226.1\" id=\"9,8\"></path><path d=\"M 56.0 88.5 L 74.4 61.2\" id=\"14,7\"></path><path d=\"M 56.0 115.9 L 74.4 86.6\" id=\"13,6\"></path><path d=\"M 91.0 145.2 L 109.4 111.9\" id=\"12,5\"></path><path d=\"M 140.6 150.0 L 159.0 137.3\" id=\"10,4\"></path><path d=\"M 140.6 150.0 L 159.0 162.7\" id=\"10,3\"></path><path d=\"M 140.6 207.1 L 159.0 188.1\" id=\"9,2\"></path><path d=\"M 175.5 226.1 L 193.9 213.4\" id=\"8,1\"></path><path d=\"M 175.5 226.1 L 193.9 238.8\" id=\"8,0\"></path></g><g class=\"toytree-AlignEdges\" style=\"stroke:rgb(66.3%,66.3%,66.3%);stroke-dasharray:2, 4;stroke-linecap:round;stroke-opacity:1.0;stroke-width:2\"><path d=\"M 193.9 238.8 L 193.9 238.8\"></path><path d=\"M 193.9 213.4 L 193.9 213.4\"></path><path d=\"M 193.9 188.1 L 159.0 188.1\"></path><path d=\"M 193.9 162.7 L 159.0 162.7\"></path><path d=\"M 193.9 137.3 L 159.0 137.3\"></path><path d=\"M 193.9 111.9 L 109.4 111.9\"></path><path d=\"M 193.9 86.6 L 74.4 86.6\"></path><path d=\"M 193.9 61.2 L 74.4 61.2\"></path></g><g class=\"toytree-Nodes\" style=\"fill:rgb(40%,76.1%,64.7%);fill-opacity:1.0;stroke:rgb(0%,0%,0%);stroke-opacity:1.0;stroke-width:2\"><g id=\"node-0\" transform=\"translate(193.912,238.810)\"><circle r=\"3.5\"></circle></g><g id=\"node-1\" transform=\"translate(193.912,213.436)\"><circle r=\"3.5\"></circle></g><g id=\"node-2\" transform=\"translate(158.988,188.061)\"><circle r=\"3.5\"></circle></g><g id=\"node-3\" transform=\"translate(158.988,162.687)\"><circle r=\"3.5\"></circle></g><g id=\"node-4\" transform=\"translate(158.988,137.313)\"><circle r=\"3.5\"></circle></g><g id=\"node-5\" transform=\"translate(109.365,111.939)\"><circle r=\"3.5\"></circle></g><g id=\"node-6\" transform=\"translate(74.441,86.564)\"><circle r=\"3.5\"></circle></g><g id=\"node-7\" transform=\"translate(74.441,61.190)\"><circle r=\"3.5\"></circle></g><g id=\"node-8\" transform=\"translate(175.503,226.123)\"><circle r=\"3.5\"></circle></g><g id=\"node-9\" transform=\"translate(140.579,207.092)\"><circle r=\"3.5\"></circle></g><g id=\"node-10\" transform=\"translate(140.579,150.000)\"><circle r=\"3.5\"></circle></g><g id=\"node-11\" transform=\"translate(125.880,178.546)\"><circle r=\"3.5\"></circle></g><g id=\"node-12\" transform=\"translate(90.956,145.242)\"><circle r=\"3.5\"></circle></g><g id=\"node-13\" transform=\"translate(56.032,115.903)\"><circle r=\"3.5\"></circle></g><g id=\"node-14\" transform=\"translate(56.032,88.547)\"><circle r=\"3.5\"></circle></g></g><g class=\"toytree-TipLabels\" style=\"fill:rgb(14.9%,14.9%,14.9%);fill-opacity:1.0;font-family:helvetica;font-size:11px;font-weight:normal;stroke:none;white-space:pre\"><g transform=\"translate(193.91,238.81)rotate(0)\"><text style=\"\" x=\"15.00\" y=\"2.81\">r0</text></g><g transform=\"translate(193.91,213.44)rotate(0)\"><text style=\"\" x=\"15.00\" y=\"2.81\">r1</text></g><g transform=\"translate(193.91,188.06)rotate(0)\"><text style=\"\" x=\"15.00\" y=\"2.81\">r2</text></g><g transform=\"translate(193.91,162.69)rotate(0)\"><text style=\"\" x=\"15.00\" y=\"2.81\">r4</text></g><g transform=\"translate(193.91,137.31)rotate(0)\"><text style=\"\" x=\"15.00\" y=\"2.81\">r3</text></g><g transform=\"translate(193.91,111.94)rotate(0)\"><text style=\"\" x=\"15.00\" y=\"2.81\">r5</text></g><g transform=\"translate(193.91,86.56)rotate(0)\"><text style=\"\" x=\"15.00\" y=\"2.81\">r6</text></g><g transform=\"translate(193.91,61.19)rotate(0)\"><text style=\"\" x=\"15.00\" y=\"2.81\">r7</text></g></g></g></g><g class=\"toyplot-coordinates-Axis\" id=\"t1df4eb5786ee4cf4a3467ed04be2945b\" transform=\"translate(50.0,250.0)translate(0,20.0)\"><line style=\"\" x1=\"6.032240169333594\" x2=\"143.9120154683873\" y1=\"0\" y2=\"0\"></line><g><line style=\"\" x1=\"143.9120154683873\" x2=\"143.9120154683873\" y1=\"0\" y2=\"-5\"></line><line style=\"\" x1=\"74.97212781886044\" x2=\"74.97212781886044\" y1=\"0\" y2=\"-5\"></line><line style=\"\" x1=\"6.032240169333609\" x2=\"6.032240169333609\" y1=\"0\" y2=\"-5\"></line></g><g><g transform=\"translate(143.9120154683873,6)\"><text style=\"fill:rgb(16.1%,15.3%,14.1%);fill-opacity:1.0;font-family:helvetica;font-size:10.0px;font-weight:normal;stroke:none;vertical-align:baseline;white-space:pre\" x=\"-2.78\" y=\"8.555\">0</text></g><g transform=\"translate(74.97212781886044,6)\"><text style=\"fill:rgb(16.1%,15.3%,14.1%);fill-opacity:1.0;font-family:helvetica;font-size:10.0px;font-weight:normal;stroke:none;vertical-align:baseline;white-space:pre\" x=\"-2.78\" y=\"8.555\">4</text></g><g transform=\"translate(6.032240169333609,6)\"><text style=\"fill:rgb(16.1%,15.3%,14.1%);fill-opacity:1.0;font-family:helvetica;font-size:10.0px;font-weight:normal;stroke:none;vertical-align:baseline;white-space:pre\" x=\"-2.78\" y=\"8.555\">7</text></g></g><g class=\"toyplot-coordinates-Axis-coordinates\" style=\"visibility:hidden\" transform=\"\"><line style=\"stroke:rgb(43.9%,50.2%,56.5%);stroke-opacity:1.0;stroke-width:1.0\" x1=\"0\" x2=\"0\" y1=\"-3.0\" y2=\"4.5\"></line><text style=\"alignment-baseline:alphabetic;fill:rgb(43.9%,50.2%,56.5%);fill-opacity:1.0;font-size:10px;font-weight:normal;stroke:none;text-anchor:middle\" x=\"0\" y=\"-6\"></text></g></g></g></svg><div class=\"toyplot-behavior\"><script>(function()\n",
       "{\n",
       "var modules={};\n",
       "modules[\"toyplot/canvas/id\"] = \"t193c9913cada4b4286b5110d45ac7ac5\";\n",
       "modules[\"toyplot/canvas\"] = (function(canvas_id)\n",
       "    {\n",
       "        return document.querySelector(\"#\" + canvas_id);\n",
       "    })(modules[\"toyplot/canvas/id\"]);\n",
       "modules[\"toyplot.coordinates.Axis\"] = (\n",
       "        function(canvas)\n",
       "        {\n",
       "            function sign(x)\n",
       "            {\n",
       "                return x < 0 ? -1 : x > 0 ? 1 : 0;\n",
       "            }\n",
       "\n",
       "            function mix(a, b, amount)\n",
       "            {\n",
       "                return ((1.0 - amount) * a) + (amount * b);\n",
       "            }\n",
       "\n",
       "            function log(x, base)\n",
       "            {\n",
       "                return Math.log(Math.abs(x)) / Math.log(base);\n",
       "            }\n",
       "\n",
       "            function in_range(a, x, b)\n",
       "            {\n",
       "                var left = Math.min(a, b);\n",
       "                var right = Math.max(a, b);\n",
       "                return left <= x && x <= right;\n",
       "            }\n",
       "\n",
       "            function inside(range, projection)\n",
       "            {\n",
       "                for(var i = 0; i != projection.length; ++i)\n",
       "                {\n",
       "                    var segment = projection[i];\n",
       "                    if(in_range(segment.range.min, range, segment.range.max))\n",
       "                        return true;\n",
       "                }\n",
       "                return false;\n",
       "            }\n",
       "\n",
       "            function to_domain(range, projection)\n",
       "            {\n",
       "                for(var i = 0; i != projection.length; ++i)\n",
       "                {\n",
       "                    var segment = projection[i];\n",
       "                    if(in_range(segment.range.bounds.min, range, segment.range.bounds.max))\n",
       "                    {\n",
       "                        if(segment.scale == \"linear\")\n",
       "                        {\n",
       "                            var amount = (range - segment.range.min) / (segment.range.max - segment.range.min);\n",
       "                            return mix(segment.domain.min, segment.domain.max, amount)\n",
       "                        }\n",
       "                        else if(segment.scale[0] == \"log\")\n",
       "                        {\n",
       "                            var amount = (range - segment.range.min) / (segment.range.max - segment.range.min);\n",
       "                            var base = segment.scale[1];\n",
       "                            return sign(segment.domain.min) * Math.pow(base, mix(log(segment.domain.min, base), log(segment.domain.max, base), amount));\n",
       "                        }\n",
       "                    }\n",
       "                }\n",
       "            }\n",
       "\n",
       "            var axes = {};\n",
       "\n",
       "            function display_coordinates(e)\n",
       "            {\n",
       "                var current = canvas.createSVGPoint();\n",
       "                current.x = e.clientX;\n",
       "                current.y = e.clientY;\n",
       "\n",
       "                for(var axis_id in axes)\n",
       "                {\n",
       "                    var axis = document.querySelector(\"#\" + axis_id);\n",
       "                    var coordinates = axis.querySelector(\".toyplot-coordinates-Axis-coordinates\");\n",
       "                    if(coordinates)\n",
       "                    {\n",
       "                        var projection = axes[axis_id];\n",
       "                        var local = current.matrixTransform(axis.getScreenCTM().inverse());\n",
       "                        if(inside(local.x, projection))\n",
       "                        {\n",
       "                            var domain = to_domain(local.x, projection);\n",
       "                            coordinates.style.visibility = \"visible\";\n",
       "                            coordinates.setAttribute(\"transform\", \"translate(\" + local.x + \")\");\n",
       "                            var text = coordinates.querySelector(\"text\");\n",
       "                            text.textContent = domain.toFixed(2);\n",
       "                        }\n",
       "                        else\n",
       "                        {\n",
       "                            coordinates.style.visibility= \"hidden\";\n",
       "                        }\n",
       "                    }\n",
       "                }\n",
       "            }\n",
       "\n",
       "            canvas.addEventListener(\"click\", display_coordinates);\n",
       "\n",
       "            var module = {};\n",
       "            module.show_coordinates = function(axis_id, projection)\n",
       "            {\n",
       "                axes[axis_id] = projection;\n",
       "            }\n",
       "\n",
       "            return module;\n",
       "        })(modules[\"toyplot/canvas\"]);\n",
       "(function(axis, axis_id, projection)\n",
       "        {\n",
       "            axis.show_coordinates(axis_id, projection);\n",
       "        })(modules[\"toyplot.coordinates.Axis\"],\"t1df4eb5786ee4cf4a3467ed04be2945b\",[{\"domain\": {\"bounds\": {\"max\": Infinity, \"min\": -Infinity}, \"max\": 0.8739271198387076, \"min\": -7.817549360601215}, \"range\": {\"bounds\": {\"max\": Infinity, \"min\": -Infinity}, \"max\": 160.0, \"min\": 0.0}, \"scale\": \"linear\"}]);\n",
       "})();</script></div></div>"
      ]
     },
     "metadata": {},
     "output_type": "display_data"
    }
   ],
   "source": [
    "# infer MSC sptree with ASTRAL\n",
    "ast = ipa.astral(\n",
    "    data=[i.write() for i in toytree.mtree(\"./sandra/genetrees.nwk\")],\n",
    "    name=\"astral-genetrees\",\n",
    ")\n",
    "ast.run()\n",
    "\n",
    "# draw sptree\n",
    "atree = toytree.tree(ast.tree).root(\"r7\")\n",
    "atree.draw(**ts);\n",
    "\n",
    "# save tree file\n",
    "atree.write(\"./sandra/astral-genetrees.nwk\")"
   ]
  },
  {
   "cell_type": "markdown",
   "metadata": {},
   "source": [
    "### Infer SNAQ network from inferred gene trees"
   ]
  },
  {
   "cell_type": "code",
   "execution_count": 24,
   "metadata": {},
   "outputs": [
    {
     "name": "stdout",
     "output_type": "stream",
     "text": [
      "[SNAQ v.x.y]\n",
      "[nproc = 10]\n",
      "julia /home/deren/gentime-attraction/notebooks/analysis-snaq/snaq-genetrees-net0.jl\n",
      "inferred network written to (/home/deren/gentime-attraction/notebooks/analysis-snaq/snaq-genetrees-net0.snaq)\n",
      "[SNAQ v.x.y]\n",
      "[nproc = 10]\n",
      "julia /home/deren/gentime-attraction/notebooks/analysis-snaq/snaq-genetrees-net1.jl\n",
      "inferred network written to (/home/deren/gentime-attraction/notebooks/analysis-snaq/snaq-genetrees-net1.snaq)\n"
     ]
    }
   ],
   "source": [
    "snaq0 = ipa.snaq(\n",
    "    gtrees=\"./sandra/genetrees.nwk\",\n",
    "    netin=\"./sandra/astral-genealogies.nwk\",\n",
    "    name=\"snaq-genetrees-net0\",\n",
    "    workdir=\"sandra\",\n",
    "    nedges=0,\n",
    "    nruns=10,\n",
    "    nproc=10,\n",
    ")\n",
    "snaq0.run()\n",
    "\n",
    "snaq1 = ipa.snaq(\n",
    "    gtrees=\"./sandra/genetrees.nwk\",\n",
    "    netin=\"./sandra/astral-genealogies.nwk\",\n",
    "    name=\"snaq-genetrees-net1\",\n",
    "    workdir=\"sandra\",\n",
    "    nedges=1,\n",
    "    nruns=10,\n",
    "    nproc=10,\n",
    ")\n",
    "snaq1.run()"
   ]
  },
  {
   "cell_type": "code",
   "execution_count": 25,
   "metadata": {},
   "outputs": [
    {
     "data": {
      "text/plain": [
       "{'H9': (['r0', 'r1'], ['r3'], 0.5, {}, '0.118')}"
      ]
     },
     "execution_count": 25,
     "metadata": {},
     "output_type": "execute_result"
    }
   ],
   "source": [
    "# last value is gamma\n",
    "snaq1.admix"
   ]
  },
  {
   "cell_type": "code",
   "execution_count": 27,
   "metadata": {},
   "outputs": [
    {
     "data": {
      "text/html": [
       "<div class=\"toyplot\" id=\"t8f67f3fd32494b06bf51b654616dc36b\" style=\"text-align:center\"><svg class=\"toyplot-canvas-Canvas\" height=\"300.0px\" id=\"tb2507df58e144ad488c302c197b9c1ee\" preserveAspectRatio=\"xMidYMid meet\" style=\"background-color:transparent;border-color:#292724;border-style:none;border-width:1.0;fill:rgb(16.1%,15.3%,14.1%);fill-opacity:1.0;font-family:Helvetica;font-size:12px;opacity:1.0;stroke:rgb(16.1%,15.3%,14.1%);stroke-opacity:1.0;stroke-width:1.0\" viewBox=\"0 0 260.0 300.0\" width=\"260.0px\" xmlns=\"http://www.w3.org/2000/svg\" xmlns:toyplot=\"http://www.sandia.gov/toyplot\" xmlns:xlink=\"http://www.w3.org/1999/xlink\"><g class=\"toyplot-coordinates-Cartesian\" id=\"tc31710c2736a4152b43c1eddc6f55861\"><clipPath id=\"tb2b43811136444f8a136bfca5309bd28\"><rect height=\"240.0\" width=\"200.0\" x=\"30.0\" y=\"30.0\"></rect></clipPath><g clip-path=\"url(#tb2b43811136444f8a136bfca5309bd28)\"><g class=\"toytree-mark-Toytree\" id=\"tdc6fe3e5728347ddaf1f347525385870\"><g class=\"toytree-Edges\" style=\"fill:none;stroke:rgb(14.9%,14.9%,14.9%);stroke-linecap:round;stroke-opacity:1;stroke-width:2\"><path d=\"M 56.0 88.5 L 79.0 115.9\" id=\"14,13\"></path><path d=\"M 79.0 115.9 L 102.0 145.2\" id=\"13,12\"></path><path d=\"M 102.0 145.2 L 125.0 178.5\" id=\"12,11\"></path><path d=\"M 125.0 178.5 L 170.9 150.0\" id=\"11,10\"></path><path d=\"M 125.0 178.5 L 148.0 207.1\" id=\"11,9\"></path><path d=\"M 148.0 207.1 L 170.9 226.1\" id=\"9,8\"></path><path d=\"M 56.0 88.5 L 193.9 61.2\" id=\"14,7\"></path><path d=\"M 79.0 115.9 L 193.9 86.6\" id=\"13,6\"></path><path d=\"M 102.0 145.2 L 193.9 111.9\" id=\"12,5\"></path><path d=\"M 170.9 150.0 L 193.9 137.3\" id=\"10,4\"></path><path d=\"M 170.9 150.0 L 193.9 162.7\" id=\"10,3\"></path><path d=\"M 148.0 207.1 L 193.9 188.1\" id=\"9,2\"></path><path d=\"M 170.9 226.1 L 193.9 213.4\" id=\"8,1\"></path><path d=\"M 170.9 226.1 L 193.9 238.8\" id=\"8,0\"></path></g><g class=\"toytree-AlignEdges\" style=\"stroke:rgb(66.3%,66.3%,66.3%);stroke-dasharray:2, 4;stroke-linecap:round;stroke-opacity:1.0;stroke-width:2\"><path d=\"M 193.9 238.8 L 193.9 238.8\"></path><path d=\"M 193.9 213.4 L 193.9 213.4\"></path><path d=\"M 193.9 188.1 L 193.9 188.1\"></path><path d=\"M 193.9 162.7 L 193.9 162.7\"></path><path d=\"M 193.9 137.3 L 193.9 137.3\"></path><path d=\"M 193.9 111.9 L 193.9 111.9\"></path><path d=\"M 193.9 86.6 L 193.9 86.6\"></path><path d=\"M 193.9 61.2 L 193.9 61.2\"></path></g><g class=\"toytree-AdmixEdges\" style=\"fill:none;font-size:14px;stroke:rgba(90.6%,54.1%,76.5%,1.000);stroke-linecap:round;stroke-opacity:0.6;stroke-width:5\"><path d=\"M 170.9 226.1 L 159.4 216.6 L 182.4 156.3 L 170.9 150.0\" style=\"stroke:rgb(98.8%,55.3%,38.4%);stroke-opacity:0.7\"></path><text style=\"fill:#262626;fill-opacity:1.0;stroke:none;stroke-opacity:0.7;text-anchor:middle\" x=\"170.93\" y=\"198.48\">0.118</text></g><g class=\"toytree-Nodes\" style=\"fill:rgb(40%,76.1%,64.7%);fill-opacity:1.0;stroke:rgb(0%,0%,0%);stroke-opacity:1.0;stroke-width:2\"><g id=\"node-0\" transform=\"translate(193.912,238.810)\"><circle r=\"3.5\"></circle></g><g id=\"node-1\" transform=\"translate(193.912,213.436)\"><circle r=\"3.5\"></circle></g><g id=\"node-2\" transform=\"translate(193.912,188.061)\"><circle r=\"3.5\"></circle></g><g id=\"node-3\" transform=\"translate(193.912,162.687)\"><circle r=\"3.5\"></circle></g><g id=\"node-4\" transform=\"translate(193.912,137.313)\"><circle r=\"3.5\"></circle></g><g id=\"node-5\" transform=\"translate(193.912,111.939)\"><circle r=\"3.5\"></circle></g><g id=\"node-6\" transform=\"translate(193.912,86.564)\"><circle r=\"3.5\"></circle></g><g id=\"node-7\" transform=\"translate(193.912,61.190)\"><circle r=\"3.5\"></circle></g><g id=\"node-8\" transform=\"translate(170.932,226.123)\"><circle r=\"3.5\"></circle></g><g id=\"node-9\" transform=\"translate(147.952,207.092)\"><circle r=\"3.5\"></circle></g><g id=\"node-10\" transform=\"translate(170.932,150.000)\"><circle r=\"3.5\"></circle></g><g id=\"node-11\" transform=\"translate(124.972,178.546)\"><circle r=\"3.5\"></circle></g><g id=\"node-12\" transform=\"translate(101.992,145.242)\"><circle r=\"3.5\"></circle></g><g id=\"node-13\" transform=\"translate(79.012,115.903)\"><circle r=\"3.5\"></circle></g><g id=\"node-14\" transform=\"translate(56.032,88.547)\"><circle r=\"3.5\"></circle></g></g><g class=\"toytree-TipLabels\" style=\"fill:rgb(14.9%,14.9%,14.9%);fill-opacity:1.0;font-family:helvetica;font-size:11px;font-weight:normal;stroke:none;white-space:pre\"><g transform=\"translate(193.91,238.81)rotate(0)\"><text style=\"\" x=\"15.00\" y=\"2.81\">r1</text></g><g transform=\"translate(193.91,213.44)rotate(0)\"><text style=\"\" x=\"15.00\" y=\"2.81\">r0</text></g><g transform=\"translate(193.91,188.06)rotate(0)\"><text style=\"\" x=\"15.00\" y=\"2.81\">r2</text></g><g transform=\"translate(193.91,162.69)rotate(0)\"><text style=\"\" x=\"15.00\" y=\"2.81\">r3</text></g><g transform=\"translate(193.91,137.31)rotate(0)\"><text style=\"\" x=\"15.00\" y=\"2.81\">r4</text></g><g transform=\"translate(193.91,111.94)rotate(0)\"><text style=\"\" x=\"15.00\" y=\"2.81\">r5</text></g><g transform=\"translate(193.91,86.56)rotate(0)\"><text style=\"\" x=\"15.00\" y=\"2.81\">r6</text></g><g transform=\"translate(193.91,61.19)rotate(0)\"><text style=\"\" x=\"15.00\" y=\"2.81\">r7</text></g></g></g></g><g class=\"toyplot-coordinates-Axis\" id=\"t998958406d7b4c91b09d5c36bdb5055d\" transform=\"translate(50.0,250.0)translate(0,20.0)\"><line style=\"\" x1=\"6.0322401693335825\" x2=\"143.91201546838727\" y1=\"0\" y2=\"0\"></line><g><line style=\"\" x1=\"143.91201546838727\" x2=\"143.91201546838727\" y1=\"0\" y2=\"-5\"></line><line style=\"\" x1=\"74.97212781886043\" x2=\"74.97212781886043\" y1=\"0\" y2=\"-5\"></line><line style=\"\" x1=\"6.0322401693335825\" x2=\"6.0322401693335825\" y1=\"0\" y2=\"-5\"></line></g><g><g transform=\"translate(143.91201546838727,6)\"><text style=\"fill:rgb(16.1%,15.3%,14.1%);fill-opacity:1.0;font-family:helvetica;font-size:10.0px;font-weight:normal;stroke:none;vertical-align:baseline;white-space:pre\" x=\"-2.78\" y=\"8.555\">0</text></g><g transform=\"translate(74.97212781886043,6)\"><text style=\"fill:rgb(16.1%,15.3%,14.1%);fill-opacity:1.0;font-family:helvetica;font-size:10.0px;font-weight:normal;stroke:none;vertical-align:baseline;white-space:pre\" x=\"-2.78\" y=\"8.555\">3</text></g><g transform=\"translate(6.0322401693335825,6)\"><text style=\"fill:rgb(16.1%,15.3%,14.1%);fill-opacity:1.0;font-family:helvetica;font-size:10.0px;font-weight:normal;stroke:none;vertical-align:baseline;white-space:pre\" x=\"-2.78\" y=\"8.555\">6</text></g></g><g class=\"toyplot-coordinates-Axis-coordinates\" style=\"visibility:hidden\" transform=\"\"><line style=\"stroke:rgb(43.9%,50.2%,56.5%);stroke-opacity:1.0;stroke-width:1.0\" x1=\"0\" x2=\"0\" y1=\"-3.0\" y2=\"4.5\"></line><text style=\"alignment-baseline:alphabetic;fill:rgb(43.9%,50.2%,56.5%);fill-opacity:1.0;font-size:10px;font-weight:normal;stroke:none;text-anchor:middle\" x=\"0\" y=\"-6\"></text></g></g></g></svg><div class=\"toyplot-behavior\"><script>(function()\n",
       "{\n",
       "var modules={};\n",
       "modules[\"toyplot/canvas/id\"] = \"tb2507df58e144ad488c302c197b9c1ee\";\n",
       "modules[\"toyplot/canvas\"] = (function(canvas_id)\n",
       "    {\n",
       "        return document.querySelector(\"#\" + canvas_id);\n",
       "    })(modules[\"toyplot/canvas/id\"]);\n",
       "modules[\"toyplot.coordinates.Axis\"] = (\n",
       "        function(canvas)\n",
       "        {\n",
       "            function sign(x)\n",
       "            {\n",
       "                return x < 0 ? -1 : x > 0 ? 1 : 0;\n",
       "            }\n",
       "\n",
       "            function mix(a, b, amount)\n",
       "            {\n",
       "                return ((1.0 - amount) * a) + (amount * b);\n",
       "            }\n",
       "\n",
       "            function log(x, base)\n",
       "            {\n",
       "                return Math.log(Math.abs(x)) / Math.log(base);\n",
       "            }\n",
       "\n",
       "            function in_range(a, x, b)\n",
       "            {\n",
       "                var left = Math.min(a, b);\n",
       "                var right = Math.max(a, b);\n",
       "                return left <= x && x <= right;\n",
       "            }\n",
       "\n",
       "            function inside(range, projection)\n",
       "            {\n",
       "                for(var i = 0; i != projection.length; ++i)\n",
       "                {\n",
       "                    var segment = projection[i];\n",
       "                    if(in_range(segment.range.min, range, segment.range.max))\n",
       "                        return true;\n",
       "                }\n",
       "                return false;\n",
       "            }\n",
       "\n",
       "            function to_domain(range, projection)\n",
       "            {\n",
       "                for(var i = 0; i != projection.length; ++i)\n",
       "                {\n",
       "                    var segment = projection[i];\n",
       "                    if(in_range(segment.range.bounds.min, range, segment.range.bounds.max))\n",
       "                    {\n",
       "                        if(segment.scale == \"linear\")\n",
       "                        {\n",
       "                            var amount = (range - segment.range.min) / (segment.range.max - segment.range.min);\n",
       "                            return mix(segment.domain.min, segment.domain.max, amount)\n",
       "                        }\n",
       "                        else if(segment.scale[0] == \"log\")\n",
       "                        {\n",
       "                            var amount = (range - segment.range.min) / (segment.range.max - segment.range.min);\n",
       "                            var base = segment.scale[1];\n",
       "                            return sign(segment.domain.min) * Math.pow(base, mix(log(segment.domain.min, base), log(segment.domain.max, base), amount));\n",
       "                        }\n",
       "                    }\n",
       "                }\n",
       "            }\n",
       "\n",
       "            var axes = {};\n",
       "\n",
       "            function display_coordinates(e)\n",
       "            {\n",
       "                var current = canvas.createSVGPoint();\n",
       "                current.x = e.clientX;\n",
       "                current.y = e.clientY;\n",
       "\n",
       "                for(var axis_id in axes)\n",
       "                {\n",
       "                    var axis = document.querySelector(\"#\" + axis_id);\n",
       "                    var coordinates = axis.querySelector(\".toyplot-coordinates-Axis-coordinates\");\n",
       "                    if(coordinates)\n",
       "                    {\n",
       "                        var projection = axes[axis_id];\n",
       "                        var local = current.matrixTransform(axis.getScreenCTM().inverse());\n",
       "                        if(inside(local.x, projection))\n",
       "                        {\n",
       "                            var domain = to_domain(local.x, projection);\n",
       "                            coordinates.style.visibility = \"visible\";\n",
       "                            coordinates.setAttribute(\"transform\", \"translate(\" + local.x + \")\");\n",
       "                            var text = coordinates.querySelector(\"text\");\n",
       "                            text.textContent = domain.toFixed(2);\n",
       "                        }\n",
       "                        else\n",
       "                        {\n",
       "                            coordinates.style.visibility= \"hidden\";\n",
       "                        }\n",
       "                    }\n",
       "                }\n",
       "            }\n",
       "\n",
       "            canvas.addEventListener(\"click\", display_coordinates);\n",
       "\n",
       "            var module = {};\n",
       "            module.show_coordinates = function(axis_id, projection)\n",
       "            {\n",
       "                axes[axis_id] = projection;\n",
       "            }\n",
       "\n",
       "            return module;\n",
       "        })(modules[\"toyplot/canvas\"]);\n",
       "(function(axis, axis_id, projection)\n",
       "        {\n",
       "            axis.show_coordinates(axis_id, projection);\n",
       "        })(modules[\"toyplot.coordinates.Axis\"],\"t998958406d7b4c91b09d5c36bdb5055d\",[{\"domain\": {\"bounds\": {\"max\": Infinity, \"min\": -Infinity}, \"max\": 0.7000875000000004, \"min\": -6.262499999999999}, \"range\": {\"bounds\": {\"max\": Infinity, \"min\": -Infinity}, \"max\": 160.0, \"min\": 0.0}, \"scale\": \"linear\"}]);\n",
       "})();</script></div></div>"
      ]
     },
     "metadata": {},
     "output_type": "display_data"
    }
   ],
   "source": [
    "# draw tree\n",
    "stree = toytree.tree(snaq1.tree).root(\"r7\")\n",
    "stree.draw(**ts, use_edge_lengths=False, admixture_edges=snaq1.admix.values());"
   ]
  },
  {
   "cell_type": "markdown",
   "metadata": {},
   "source": [
    "### Repeat for other window sizes ..."
   ]
  },
  {
   "cell_type": "code",
   "execution_count": null,
   "metadata": {},
   "outputs": [],
   "source": []
  }
 ],
 "metadata": {
  "kernelspec": {
   "display_name": "Python 3",
   "language": "python",
   "name": "python3"
  },
  "language_info": {
   "codemirror_mode": {
    "name": "ipython",
    "version": 3
   },
   "file_extension": ".py",
   "mimetype": "text/x-python",
   "name": "python",
   "nbconvert_exporter": "python",
   "pygments_lexer": "ipython3",
   "version": "3.7.6"
  }
 },
 "nbformat": 4,
 "nbformat_minor": 4
}
